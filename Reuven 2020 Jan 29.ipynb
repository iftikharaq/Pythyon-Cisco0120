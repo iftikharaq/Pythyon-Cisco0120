{
 "cells": [
  {
   "cell_type": "code",
   "execution_count": 1,
   "metadata": {},
   "outputs": [],
   "source": [
    "# None\n",
    "# True, False (boolean values)\n",
    "# numbers -- int, float\n",
    "# strings\n",
    "# lists, tuples\n",
    "\n",
    "# dict -- dictionary\n",
    "# files -- reading, writing "
   ]
  },
  {
   "cell_type": "code",
   "execution_count": 2,
   "metadata": {},
   "outputs": [],
   "source": [
    "# http://pythontutor.com"
   ]
  },
  {
   "cell_type": "code",
   "execution_count": 3,
   "metadata": {},
   "outputs": [],
   "source": [
    "# strings, lists, and tuples are all sequences\n",
    "\n",
    "# they can all:\n",
    "# - index with [i]  (a number in [])\n",
    "# - retrieve multiple items with a slice [start:end]\n",
    "# - search with \"in\"\n",
    "# - run a \"for\" loop on their elements\n",
    "# - use \"len\" to get the length\n",
    "\n",
    "# but:\n",
    "# - strings only contain characters (strings of length 1)\n",
    "# - strings + tuples are immutable (they cannot be changed)\n",
    "# - only lists' elements can be modified\n",
    "# - only lists can get bigger and smaller after being created"
   ]
  },
  {
   "cell_type": "code",
   "execution_count": 11,
   "metadata": {},
   "outputs": [
    {
     "data": {
      "text/plain": [
       "[10, 20, 30, 60]"
      ]
     },
     "execution_count": 11,
     "metadata": {},
     "output_type": "execute_result"
    }
   ],
   "source": [
    "mylist = []\n",
    "\n",
    "s = '10 20 abcd 30 4b 5a 60'\n",
    "for one_item in s.split():\n",
    "    if one_item.isdigit():\n",
    "        mylist.append(int(one_item))\n",
    "    \n",
    "mylist    "
   ]
  },
  {
   "cell_type": "code",
   "execution_count": 6,
   "metadata": {},
   "outputs": [
    {
     "data": {
      "text/plain": [
       "['10', '20', 'abcd', '30', '4b', '5a', '60']"
      ]
     },
     "execution_count": 6,
     "metadata": {},
     "output_type": "execute_result"
    }
   ],
   "source": [
    "mylist"
   ]
  },
  {
   "cell_type": "code",
   "execution_count": 7,
   "metadata": {},
   "outputs": [],
   "source": [
    "mylist.remove('30')  # removes one version of '30' from the list"
   ]
  },
  {
   "cell_type": "code",
   "execution_count": 8,
   "metadata": {},
   "outputs": [
    {
     "data": {
      "text/plain": [
       "['10', '20', 'abcd', '4b', '5a', '60']"
      ]
     },
     "execution_count": 8,
     "metadata": {},
     "output_type": "execute_result"
    }
   ],
   "source": [
    "mylist"
   ]
  },
  {
   "cell_type": "code",
   "execution_count": 12,
   "metadata": {},
   "outputs": [],
   "source": [
    "s = 'abcd'"
   ]
  },
  {
   "cell_type": "code",
   "execution_count": 13,
   "metadata": {},
   "outputs": [
    {
     "data": {
      "text/plain": [
       "True"
      ]
     },
     "execution_count": 13,
     "metadata": {},
     "output_type": "execute_result"
    }
   ],
   "source": [
    "s.isalnum()"
   ]
  },
  {
   "cell_type": "code",
   "execution_count": 14,
   "metadata": {},
   "outputs": [
    {
     "data": {
      "text/plain": [
       "True"
      ]
     },
     "execution_count": 14,
     "metadata": {},
     "output_type": "execute_result"
    }
   ],
   "source": [
    "s = 'ab1234cd'\n",
    "s.isalnum()"
   ]
  },
  {
   "cell_type": "code",
   "execution_count": 15,
   "metadata": {},
   "outputs": [
    {
     "data": {
      "text/plain": [
       "False"
      ]
     },
     "execution_count": 15,
     "metadata": {},
     "output_type": "execute_result"
    }
   ],
   "source": [
    "s = 'ab 12'\n",
    "s.isalnum()"
   ]
  },
  {
   "cell_type": "code",
   "execution_count": 16,
   "metadata": {},
   "outputs": [
    {
     "data": {
      "text/plain": [
       "True"
      ]
     },
     "execution_count": 16,
     "metadata": {},
     "output_type": "execute_result"
    }
   ],
   "source": [
    "s.isascii()"
   ]
  },
  {
   "cell_type": "code",
   "execution_count": 19,
   "metadata": {},
   "outputs": [
    {
     "data": {
      "text/plain": [
       "['a', 'b', 'cd', 'ef', 'ghi']"
      ]
     },
     "execution_count": 19,
     "metadata": {},
     "output_type": "execute_result"
    }
   ],
   "source": [
    "# to turn a string into a list of strings, use \"split\"\n",
    "# you need to say what character/string is the field delimiter\n",
    "\n",
    "s = 'a:b:cd:ef:ghi'\n",
    "fields = s.split(':')   # returns a list of strings\n",
    "fields"
   ]
  },
  {
   "cell_type": "code",
   "execution_count": 21,
   "metadata": {},
   "outputs": [
    {
     "data": {
      "text/plain": [
       "'a*b*cd*ef*ghi'"
      ]
     },
     "execution_count": 21,
     "metadata": {},
     "output_type": "execute_result"
    }
   ],
   "source": [
    "'*'.join(fields)   # returns a string based on '*' and fields"
   ]
  },
  {
   "cell_type": "code",
   "execution_count": 22,
   "metadata": {},
   "outputs": [
    {
     "data": {
      "text/plain": [
       "tuple"
      ]
     },
     "execution_count": 22,
     "metadata": {},
     "output_type": "execute_result"
    }
   ],
   "source": [
    "# tuples are basically immutable lists\n",
    "# meaning: you can create them, but you cannot change them.\n",
    "\n",
    "t = (100, 200, 300, 400)\n",
    "type(t)"
   ]
  },
  {
   "cell_type": "code",
   "execution_count": 23,
   "metadata": {
    "scrolled": true
   },
   "outputs": [
    {
     "data": {
      "text/plain": [
       "True"
      ]
     },
     "execution_count": 23,
     "metadata": {},
     "output_type": "execute_result"
    }
   ],
   "source": [
    "300 in t"
   ]
  },
  {
   "cell_type": "code",
   "execution_count": null,
   "metadata": {},
   "outputs": [],
   "source": [
    "# tuples, for you, are mostly to know what you're seeing with\n",
    "# round parentheses."
   ]
  },
  {
   "cell_type": "code",
   "execution_count": 24,
   "metadata": {},
   "outputs": [],
   "source": [
    "# (0) Create two empty lists, one called \"evens\" and one called \"odds\"\n",
    "# - evens = []\n",
    "\n",
    "# (1) Ask the user, again and again, to enter a number.\n",
    "# - if I don't know how many times I'll do something, I'll use\n",
    "#   a while loop.  And I can say \"while True\" for an infinite loop.\n",
    "\n",
    "# (2) If they give an empty string, stop asking\n",
    "# - if the user's input is == '', then we'll *break* out of the loop\n",
    "\n",
    "# (3) If they give a non-numeric input, scold them and try again\n",
    "# - if not x.isdigit()\n",
    "\n",
    "# (4) If they give a number, then add the number to either\n",
    "# the \"evens\" or \"odds\" list, depending on whether it's even\n",
    "# or odd.\n",
    "# - if we got something that can be turned into a number, then\n",
    "# - turn it into a number (i.e., use int() on it)\n",
    "# - check if it's odd or even... and append it to the right\n",
    "#   list.  Use either evens.append() or odds.append()\n",
    "\n",
    "\n",
    "# (5) When we exit the loop, print the total + average of \n",
    "# each of the lists (evens and odds).\n",
    "# - total each list by iterating (i.e., use a for loop)\n",
    "#   over each, totalling the values ... and then use \"len\"\n",
    "#   to get the length - which we can use in the average.\n"
   ]
  },
  {
   "cell_type": "code",
   "execution_count": 25,
   "metadata": {},
   "outputs": [
    {
     "data": {
      "text/plain": [
       "0"
      ]
     },
     "execution_count": 25,
     "metadata": {},
     "output_type": "execute_result"
    }
   ],
   "source": [
    "# to find out if a number is even, then divide it by 2.\n",
    "# if the remainder is 0, it's even.  Otherwise, it's odd.\n",
    "\n",
    "# the % (modulus) operator returns the remainder from \n",
    "# a division problem\n",
    "\n",
    "10 % 2"
   ]
  },
  {
   "cell_type": "code",
   "execution_count": 26,
   "metadata": {},
   "outputs": [
    {
     "data": {
      "text/plain": [
       "1"
      ]
     },
     "execution_count": 26,
     "metadata": {},
     "output_type": "execute_result"
    }
   ],
   "source": [
    "11 % 2"
   ]
  },
  {
   "cell_type": "code",
   "execution_count": 31,
   "metadata": {
    "scrolled": true
   },
   "outputs": [
    {
     "name": "stdout",
     "output_type": "stream",
     "text": [
      "Enter a number: 10\n",
      "Enter a number: 15\n",
      "Enter a number: 20\n",
      "Enter a number: 23\n",
      "Enter a number: 27\n",
      "Enter a number: 29\n",
      "Enter a number: 30\n",
      "Enter a number: 32\n",
      "Enter a number: \n"
     ]
    }
   ],
   "source": [
    "evens = []\n",
    "odds = []\n",
    "\n",
    "while True:\n",
    "    x = input(\"Enter a number: \")\n",
    "    \n",
    "    if x == '':\n",
    "        break\n",
    "        \n",
    "    if x.isdigit():\n",
    "        x = int(x)\n",
    "        if x % 2 == 0:\n",
    "            evens.append(x)\n",
    "        else:\n",
    "            odds.append(x)\n",
    "            \n",
    "    else:\n",
    "        print(f'{x} is not numeric; try again')\n",
    "        \n",
    "# get sum + mean of evens\n",
    "total = 0\n",
    "for one_item in evens:\n",
    "    total += one_item\n",
    "print(f'total of evens is {total}, mean is {total/len(evens)}')\n",
    "\n",
    "# get sum + mean of odds\n",
    "total = 0\n",
    "for one_item in odds:\n",
    "    total += one_item\n",
    "print(f'total of odds is {total}, mean is {total/len(odds)}')\n",
    "\n"
   ]
  },
  {
   "cell_type": "code",
   "execution_count": 34,
   "metadata": {},
   "outputs": [
    {
     "name": "stdout",
     "output_type": "stream",
     "text": [
      "total of evens is 92, mean is 23.0\n",
      "total of odds is 94, mean is 23.5\n"
     ]
    }
   ],
   "source": [
    "\n",
    "# get sum + mean of evens\n",
    "total = 0\n",
    "for one_item in evens:\n",
    "    total += one_item\n",
    "print(f'total of evens is {total}, mean is {total/len(evens)}')\n",
    "\n",
    "# get sum + mean of odds\n",
    "total = 0\n",
    "for one_item in odds:\n",
    "    total += one_item\n",
    "print(f'total of odds is {total}, mean is {total/len(odds)}')\n",
    "\n"
   ]
  },
  {
   "cell_type": "code",
   "execution_count": 41,
   "metadata": {},
   "outputs": [
    {
     "name": "stdout",
     "output_type": "stream",
     "text": [
      "Now checking [10, 20, 30, 32]\n",
      "\ttotal is 10, mean is 2.5\n",
      "\ttotal is 30, mean is 7.5\n",
      "\ttotal is 60, mean is 15.0\n",
      "\ttotal is 92, mean is 23.0\n",
      "Now checking [15, 23, 27, 29]\n",
      "\ttotal is 15, mean is 3.75\n",
      "\ttotal is 38, mean is 9.5\n",
      "\ttotal is 65, mean is 16.25\n",
      "\ttotal is 94, mean is 23.5\n"
     ]
    }
   ],
   "source": [
    "for one_list in [evens, odds]:\n",
    "    total = 0\n",
    "    print(f'Now checking {one_list}')\n",
    "    for one_item in one_list:\n",
    "        total += one_item\n",
    "        print(f'\\ttotal is {total}, mean is {total/len(one_list)}')"
   ]
  },
  {
   "cell_type": "code",
   "execution_count": 43,
   "metadata": {},
   "outputs": [
    {
     "name": "stdout",
     "output_type": "stream",
     "text": [
      "Now checking [10, 20, 30, 32]\n",
      "\ttotal of evens is 92, mean is 23.0\n",
      "Now checking [15, 23, 27, 29]\n",
      "\ttotal of odds is 94, mean is 23.5\n"
     ]
    }
   ],
   "source": [
    "for t in [('evens', evens), ('odds', odds)]:\n",
    "    list_name = t[0]\n",
    "    one_list = t[1]\n",
    "\n",
    "    total = 0\n",
    "    print(f'Now checking {one_list}')\n",
    "    for one_item in one_list:\n",
    "        total += one_item\n",
    "    print(f'\\ttotal of {list_name} is {total}, mean is {total/len(one_list)}')"
   ]
  },
  {
   "cell_type": "code",
   "execution_count": 35,
   "metadata": {},
   "outputs": [
    {
     "data": {
      "text/plain": [
       "[10, 20, 30, 32]"
      ]
     },
     "execution_count": 35,
     "metadata": {},
     "output_type": "execute_result"
    }
   ],
   "source": [
    "evens"
   ]
  },
  {
   "cell_type": "code",
   "execution_count": 37,
   "metadata": {},
   "outputs": [
    {
     "data": {
      "text/plain": [
       "[15, 23, 27, 29]"
      ]
     },
     "execution_count": 37,
     "metadata": {},
     "output_type": "execute_result"
    }
   ],
   "source": [
    "odds"
   ]
  },
  {
   "cell_type": "code",
   "execution_count": 32,
   "metadata": {},
   "outputs": [
    {
     "data": {
      "text/plain": [
       "[10, 20, 30, 32]"
      ]
     },
     "execution_count": 32,
     "metadata": {},
     "output_type": "execute_result"
    }
   ],
   "source": [
    "evens"
   ]
  },
  {
   "cell_type": "code",
   "execution_count": 33,
   "metadata": {},
   "outputs": [
    {
     "data": {
      "text/plain": [
       "[15, 23, 27, 29]"
      ]
     },
     "execution_count": 33,
     "metadata": {},
     "output_type": "execute_result"
    }
   ],
   "source": [
    "odds"
   ]
  },
  {
   "cell_type": "code",
   "execution_count": 39,
   "metadata": {},
   "outputs": [],
   "source": [
    "# dictionary\n"
   ]
  },
  {
   "cell_type": "code",
   "execution_count": 45,
   "metadata": {},
   "outputs": [
    {
     "name": "stdout",
     "output_type": "stream",
     "text": [
      "Please enter a number: 10\n",
      "10 is even.\n",
      "Please enter a number: \n"
     ]
    }
   ],
   "source": [
    "while True:\n",
    "    x = input(\"Please enter a number: \")\n",
    "    \n",
    "    if x == \"\":\n",
    "        break\n",
    "    \n",
    "    if x.isdigit():\n",
    "        x = int(x)\n",
    "        if x % 2 == 0:\n",
    "            evens.append(x)\n",
    "            print (f\"{x} is even.\")\n",
    "            \n",
    "        else:\n",
    "            odds.append(x)\n",
    "            print(f\"{x} is odd.\")\n",
    "            \n",
    "    else:\n",
    "        print(f\"{x} is not a numeric value. Try again.\")\n"
   ]
  },
  {
   "cell_type": "code",
   "execution_count": 46,
   "metadata": {},
   "outputs": [
    {
     "data": {
      "text/plain": [
       "5.0"
      ]
     },
     "execution_count": 46,
     "metadata": {},
     "output_type": "execute_result"
    }
   ],
   "source": [
    "10 / 2"
   ]
  },
  {
   "cell_type": "code",
   "execution_count": 47,
   "metadata": {},
   "outputs": [
    {
     "ename": "ZeroDivisionError",
     "evalue": "division by zero",
     "output_type": "error",
     "traceback": [
      "\u001b[0;31m---------------------------------------------------------------------------\u001b[0m",
      "\u001b[0;31mZeroDivisionError\u001b[0m                         Traceback (most recent call last)",
      "\u001b[0;32m<ipython-input-47-cd759d3fcf39>\u001b[0m in \u001b[0;36m<module>\u001b[0;34m\u001b[0m\n\u001b[0;32m----> 1\u001b[0;31m \u001b[0;36m10\u001b[0m \u001b[0;34m/\u001b[0m \u001b[0;36m0\u001b[0m\u001b[0;34m\u001b[0m\u001b[0;34m\u001b[0m\u001b[0m\n\u001b[0m",
      "\u001b[0;31mZeroDivisionError\u001b[0m: division by zero"
     ]
    }
   ],
   "source": [
    "10 / 0"
   ]
  },
  {
   "cell_type": "code",
   "execution_count": 49,
   "metadata": {},
   "outputs": [
    {
     "name": "stdout",
     "output_type": "stream",
     "text": [
      "10\n",
      "20\n",
      "30\n"
     ]
    }
   ],
   "source": [
    "mylist = [10, 20, 30]\n",
    "\n",
    "for an_elephant_at_the_zoo in mylist:\n",
    "    print(an_elephant_at_the_zoo)"
   ]
  },
  {
   "cell_type": "code",
   "execution_count": 51,
   "metadata": {},
   "outputs": [],
   "source": [
    "# rules for Python identifiers (fancy word for variable names)\n",
    "# - starts with a letter or _\n",
    "# - after that, any letter, number, or _\n",
    "# - for as long as you want\n",
    "# - and it's case sensitive, so Foo and foo are different"
   ]
  },
  {
   "cell_type": "code",
   "execution_count": 52,
   "metadata": {},
   "outputs": [
    {
     "name": "stdout",
     "output_type": "stream",
     "text": [
      "a\n",
      "b\n",
      "c\n",
      "d\n"
     ]
    }
   ],
   "source": [
    "for one_item in 'abcd':\n",
    "    print(one_item)"
   ]
  },
  {
   "cell_type": "code",
   "execution_count": 53,
   "metadata": {},
   "outputs": [
    {
     "name": "stdout",
     "output_type": "stream",
     "text": [
      "!\n",
      "@\n",
      "#\n",
      "$\n",
      "%\n"
     ]
    }
   ],
   "source": [
    "for one_letter in '!@#$%':\n",
    "    print(one_letter)"
   ]
  },
  {
   "cell_type": "code",
   "execution_count": null,
   "metadata": {},
   "outputs": [],
   "source": [
    "i = iter('abcd')  # are you iterable?  If so, give me an iterator"
   ]
  }
 ],
 "metadata": {
  "kernelspec": {
   "display_name": "Python 3",
   "language": "python",
   "name": "python3"
  },
  "language_info": {
   "codemirror_mode": {
    "name": "ipython",
    "version": 3
   },
   "file_extension": ".py",
   "mimetype": "text/x-python",
   "name": "python",
   "nbconvert_exporter": "python",
   "pygments_lexer": "ipython3",
   "version": "3.7.5"
  }
 },
 "nbformat": 4,
 "nbformat_minor": 4
}
