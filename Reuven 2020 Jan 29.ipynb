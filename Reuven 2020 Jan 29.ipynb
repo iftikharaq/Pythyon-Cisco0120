{
 "cells": [
  {
   "cell_type": "code",
   "execution_count": 1,
   "metadata": {},
   "outputs": [],
   "source": [
    "# None\n",
    "# True, False (boolean values)\n",
    "# numbers -- int, float\n",
    "# strings\n",
    "# lists, tuples\n",
    "\n",
    "# dict -- dictionary\n",
    "# files -- reading, writing "
   ]
  },
  {
   "cell_type": "code",
   "execution_count": 2,
   "metadata": {},
   "outputs": [],
   "source": [
    "# http://pythontutor.com"
   ]
  },
  {
   "cell_type": "code",
   "execution_count": 3,
   "metadata": {},
   "outputs": [],
   "source": [
    "# strings, lists, and tuples are all sequences\n",
    "\n",
    "# they can all:\n",
    "# - index with [i]  (a number in [])\n",
    "# - retrieve multiple items with a slice [start:end]\n",
    "# - search with \"in\"\n",
    "# - run a \"for\" loop on their elements\n",
    "# - use \"len\" to get the length\n",
    "\n",
    "# but:\n",
    "# - strings only contain characters (strings of length 1)\n",
    "# - strings + tuples are immutable (they cannot be changed)\n",
    "# - only lists' elements can be modified\n",
    "# - only lists can get bigger and smaller after being created"
   ]
  },
  {
   "cell_type": "code",
   "execution_count": 11,
   "metadata": {},
   "outputs": [
    {
     "data": {
      "text/plain": [
       "[10, 20, 30, 60]"
      ]
     },
     "execution_count": 11,
     "metadata": {},
     "output_type": "execute_result"
    }
   ],
   "source": [
    "mylist = []\n",
    "\n",
    "s = '10 20 abcd 30 4b 5a 60'\n",
    "for one_item in s.split():\n",
    "    if one_item.isdigit():\n",
    "        mylist.append(int(one_item))\n",
    "    \n",
    "mylist    "
   ]
  },
  {
   "cell_type": "code",
   "execution_count": 6,
   "metadata": {},
   "outputs": [
    {
     "data": {
      "text/plain": [
       "['10', '20', 'abcd', '30', '4b', '5a', '60']"
      ]
     },
     "execution_count": 6,
     "metadata": {},
     "output_type": "execute_result"
    }
   ],
   "source": [
    "mylist"
   ]
  },
  {
   "cell_type": "code",
   "execution_count": 7,
   "metadata": {},
   "outputs": [],
   "source": [
    "mylist.remove('30')  # removes one version of '30' from the list"
   ]
  },
  {
   "cell_type": "code",
   "execution_count": 8,
   "metadata": {},
   "outputs": [
    {
     "data": {
      "text/plain": [
       "['10', '20', 'abcd', '4b', '5a', '60']"
      ]
     },
     "execution_count": 8,
     "metadata": {},
     "output_type": "execute_result"
    }
   ],
   "source": [
    "mylist"
   ]
  },
  {
   "cell_type": "code",
   "execution_count": 12,
   "metadata": {},
   "outputs": [],
   "source": [
    "s = 'abcd'"
   ]
  },
  {
   "cell_type": "code",
   "execution_count": 13,
   "metadata": {},
   "outputs": [
    {
     "data": {
      "text/plain": [
       "True"
      ]
     },
     "execution_count": 13,
     "metadata": {},
     "output_type": "execute_result"
    }
   ],
   "source": [
    "s.isalnum()"
   ]
  },
  {
   "cell_type": "code",
   "execution_count": 14,
   "metadata": {},
   "outputs": [
    {
     "data": {
      "text/plain": [
       "True"
      ]
     },
     "execution_count": 14,
     "metadata": {},
     "output_type": "execute_result"
    }
   ],
   "source": [
    "s = 'ab1234cd'\n",
    "s.isalnum()"
   ]
  },
  {
   "cell_type": "code",
   "execution_count": 15,
   "metadata": {},
   "outputs": [
    {
     "data": {
      "text/plain": [
       "False"
      ]
     },
     "execution_count": 15,
     "metadata": {},
     "output_type": "execute_result"
    }
   ],
   "source": [
    "s = 'ab 12'\n",
    "s.isalnum()"
   ]
  },
  {
   "cell_type": "code",
   "execution_count": 16,
   "metadata": {},
   "outputs": [
    {
     "data": {
      "text/plain": [
       "True"
      ]
     },
     "execution_count": 16,
     "metadata": {},
     "output_type": "execute_result"
    }
   ],
   "source": [
    "s.isascii()"
   ]
  },
  {
   "cell_type": "code",
   "execution_count": 19,
   "metadata": {},
   "outputs": [
    {
     "data": {
      "text/plain": [
       "['a', 'b', 'cd', 'ef', 'ghi']"
      ]
     },
     "execution_count": 19,
     "metadata": {},
     "output_type": "execute_result"
    }
   ],
   "source": [
    "# to turn a string into a list of strings, use \"split\"\n",
    "# you need to say what character/string is the field delimiter\n",
    "\n",
    "s = 'a:b:cd:ef:ghi'\n",
    "fields = s.split(':')   # returns a list of strings\n",
    "fields"
   ]
  },
  {
   "cell_type": "code",
   "execution_count": 21,
   "metadata": {},
   "outputs": [
    {
     "data": {
      "text/plain": [
       "'a*b*cd*ef*ghi'"
      ]
     },
     "execution_count": 21,
     "metadata": {},
     "output_type": "execute_result"
    }
   ],
   "source": [
    "'*'.join(fields)   # returns a string based on '*' and fields"
   ]
  },
  {
   "cell_type": "code",
   "execution_count": 22,
   "metadata": {},
   "outputs": [
    {
     "data": {
      "text/plain": [
       "tuple"
      ]
     },
     "execution_count": 22,
     "metadata": {},
     "output_type": "execute_result"
    }
   ],
   "source": [
    "# tuples are basically immutable lists\n",
    "# meaning: you can create them, but you cannot change them.\n",
    "\n",
    "t = (100, 200, 300, 400)\n",
    "type(t)"
   ]
  },
  {
   "cell_type": "code",
   "execution_count": 23,
   "metadata": {
    "scrolled": true
   },
   "outputs": [
    {
     "data": {
      "text/plain": [
       "True"
      ]
     },
     "execution_count": 23,
     "metadata": {},
     "output_type": "execute_result"
    }
   ],
   "source": [
    "300 in t"
   ]
  },
  {
   "cell_type": "code",
   "execution_count": null,
   "metadata": {},
   "outputs": [],
   "source": [
    "# tuples, for you, are mostly to know what you're seeing with\n",
    "# round parentheses."
   ]
  },
  {
   "cell_type": "code",
   "execution_count": 24,
   "metadata": {},
   "outputs": [],
   "source": [
    "# (0) Create two empty lists, one called \"evens\" and one called \"odds\"\n",
    "# - evens = []\n",
    "\n",
    "# (1) Ask the user, again and again, to enter a number.\n",
    "# - if I don't know how many times I'll do something, I'll use\n",
    "#   a while loop.  And I can say \"while True\" for an infinite loop.\n",
    "\n",
    "# (2) If they give an empty string, stop asking\n",
    "# - if the user's input is == '', then we'll *break* out of the loop\n",
    "\n",
    "# (3) If they give a non-numeric input, scold them and try again\n",
    "# - if not x.isdigit()\n",
    "\n",
    "# (4) If they give a number, then add the number to either\n",
    "# the \"evens\" or \"odds\" list, depending on whether it's even\n",
    "# or odd.\n",
    "# - if we got something that can be turned into a number, then\n",
    "# - turn it into a number (i.e., use int() on it)\n",
    "# - check if it's odd or even... and append it to the right\n",
    "#   list.  Use either evens.append() or odds.append()\n",
    "\n",
    "\n",
    "# (5) When we exit the loop, print the total + average of \n",
    "# each of the lists (evens and odds).\n",
    "# - total each list by iterating (i.e., use a for loop)\n",
    "#   over each, totalling the values ... and then use \"len\"\n",
    "#   to get the length - which we can use in the average.\n"
   ]
  },
  {
   "cell_type": "code",
   "execution_count": 25,
   "metadata": {},
   "outputs": [
    {
     "data": {
      "text/plain": [
       "0"
      ]
     },
     "execution_count": 25,
     "metadata": {},
     "output_type": "execute_result"
    }
   ],
   "source": [
    "# to find out if a number is even, then divide it by 2.\n",
    "# if the remainder is 0, it's even.  Otherwise, it's odd.\n",
    "\n",
    "# the % (modulus) operator returns the remainder from \n",
    "# a division problem\n",
    "\n",
    "10 % 2"
   ]
  },
  {
   "cell_type": "code",
   "execution_count": 26,
   "metadata": {},
   "outputs": [
    {
     "data": {
      "text/plain": [
       "1"
      ]
     },
     "execution_count": 26,
     "metadata": {},
     "output_type": "execute_result"
    }
   ],
   "source": [
    "11 % 2"
   ]
  },
  {
   "cell_type": "code",
   "execution_count": 31,
   "metadata": {
    "scrolled": true
   },
   "outputs": [
    {
     "name": "stdout",
     "output_type": "stream",
     "text": [
      "Enter a number: 10\n",
      "Enter a number: 15\n",
      "Enter a number: 20\n",
      "Enter a number: 23\n",
      "Enter a number: 27\n",
      "Enter a number: 29\n",
      "Enter a number: 30\n",
      "Enter a number: 32\n",
      "Enter a number: \n"
     ]
    }
   ],
   "source": [
    "evens = []\n",
    "odds = []\n",
    "\n",
    "while True:\n",
    "    x = input(\"Enter a number: \")\n",
    "    \n",
    "    if x == '':\n",
    "        break\n",
    "        \n",
    "    if x.isdigit():\n",
    "        x = int(x)\n",
    "        if x % 2 == 0:\n",
    "            evens.append(x)\n",
    "        else:\n",
    "            odds.append(x)\n",
    "            \n",
    "    else:\n",
    "        print(f'{x} is not numeric; try again')\n",
    "        \n",
    "# get sum + mean of evens\n",
    "total = 0\n",
    "for one_item in evens:\n",
    "    total += one_item\n",
    "print(f'total of evens is {total}, mean is {total/len(evens)}')\n",
    "\n",
    "# get sum + mean of odds\n",
    "total = 0\n",
    "for one_item in odds:\n",
    "    total += one_item\n",
    "print(f'total of odds is {total}, mean is {total/len(odds)}')\n",
    "\n"
   ]
  },
  {
   "cell_type": "code",
   "execution_count": 34,
   "metadata": {},
   "outputs": [
    {
     "name": "stdout",
     "output_type": "stream",
     "text": [
      "total of evens is 92, mean is 23.0\n",
      "total of odds is 94, mean is 23.5\n"
     ]
    }
   ],
   "source": [
    "\n",
    "# get sum + mean of evens\n",
    "total = 0\n",
    "for one_item in evens:\n",
    "    total += one_item\n",
    "print(f'total of evens is {total}, mean is {total/len(evens)}')\n",
    "\n",
    "# get sum + mean of odds\n",
    "total = 0\n",
    "for one_item in odds:\n",
    "    total += one_item\n",
    "print(f'total of odds is {total}, mean is {total/len(odds)}')\n",
    "\n"
   ]
  },
  {
   "cell_type": "code",
   "execution_count": 41,
   "metadata": {},
   "outputs": [
    {
     "name": "stdout",
     "output_type": "stream",
     "text": [
      "Now checking [10, 20, 30, 32]\n",
      "\ttotal is 10, mean is 2.5\n",
      "\ttotal is 30, mean is 7.5\n",
      "\ttotal is 60, mean is 15.0\n",
      "\ttotal is 92, mean is 23.0\n",
      "Now checking [15, 23, 27, 29]\n",
      "\ttotal is 15, mean is 3.75\n",
      "\ttotal is 38, mean is 9.5\n",
      "\ttotal is 65, mean is 16.25\n",
      "\ttotal is 94, mean is 23.5\n"
     ]
    }
   ],
   "source": [
    "for one_list in [evens, odds]:\n",
    "    total = 0\n",
    "    print(f'Now checking {one_list}')\n",
    "    for one_item in one_list:\n",
    "        total += one_item\n",
    "        print(f'\\ttotal is {total}, mean is {total/len(one_list)}')"
   ]
  },
  {
   "cell_type": "code",
   "execution_count": 43,
   "metadata": {},
   "outputs": [
    {
     "name": "stdout",
     "output_type": "stream",
     "text": [
      "Now checking [10, 20, 30, 32]\n",
      "\ttotal of evens is 92, mean is 23.0\n",
      "Now checking [15, 23, 27, 29]\n",
      "\ttotal of odds is 94, mean is 23.5\n"
     ]
    }
   ],
   "source": [
    "for t in [('evens', evens), ('odds', odds)]:\n",
    "    list_name = t[0]\n",
    "    one_list = t[1]\n",
    "\n",
    "    total = 0\n",
    "    print(f'Now checking {one_list}')\n",
    "    for one_item in one_list:\n",
    "        total += one_item\n",
    "    print(f'\\ttotal of {list_name} is {total}, mean is {total/len(one_list)}')"
   ]
  },
  {
   "cell_type": "code",
   "execution_count": 35,
   "metadata": {},
   "outputs": [
    {
     "data": {
      "text/plain": [
       "[10, 20, 30, 32]"
      ]
     },
     "execution_count": 35,
     "metadata": {},
     "output_type": "execute_result"
    }
   ],
   "source": [
    "evens"
   ]
  },
  {
   "cell_type": "code",
   "execution_count": 37,
   "metadata": {},
   "outputs": [
    {
     "data": {
      "text/plain": [
       "[15, 23, 27, 29]"
      ]
     },
     "execution_count": 37,
     "metadata": {},
     "output_type": "execute_result"
    }
   ],
   "source": [
    "odds"
   ]
  },
  {
   "cell_type": "code",
   "execution_count": 32,
   "metadata": {},
   "outputs": [
    {
     "data": {
      "text/plain": [
       "[10, 20, 30, 32]"
      ]
     },
     "execution_count": 32,
     "metadata": {},
     "output_type": "execute_result"
    }
   ],
   "source": [
    "evens"
   ]
  },
  {
   "cell_type": "code",
   "execution_count": 33,
   "metadata": {},
   "outputs": [
    {
     "data": {
      "text/plain": [
       "[15, 23, 27, 29]"
      ]
     },
     "execution_count": 33,
     "metadata": {},
     "output_type": "execute_result"
    }
   ],
   "source": [
    "odds"
   ]
  },
  {
   "cell_type": "code",
   "execution_count": 39,
   "metadata": {},
   "outputs": [],
   "source": [
    "# dictionary\n"
   ]
  },
  {
   "cell_type": "code",
   "execution_count": 45,
   "metadata": {},
   "outputs": [
    {
     "name": "stdout",
     "output_type": "stream",
     "text": [
      "Please enter a number: 10\n",
      "10 is even.\n",
      "Please enter a number: \n"
     ]
    }
   ],
   "source": [
    "while True:\n",
    "    x = input(\"Please enter a number: \")\n",
    "    \n",
    "    if x == \"\":\n",
    "        break\n",
    "    \n",
    "    if x.isdigit():\n",
    "        x = int(x)\n",
    "        if x % 2 == 0:\n",
    "            evens.append(x)\n",
    "            print (f\"{x} is even.\")\n",
    "            \n",
    "        else:\n",
    "            odds.append(x)\n",
    "            print(f\"{x} is odd.\")\n",
    "            \n",
    "    else:\n",
    "        print(f\"{x} is not a numeric value. Try again.\")\n"
   ]
  },
  {
   "cell_type": "code",
   "execution_count": 46,
   "metadata": {},
   "outputs": [
    {
     "data": {
      "text/plain": [
       "5.0"
      ]
     },
     "execution_count": 46,
     "metadata": {},
     "output_type": "execute_result"
    }
   ],
   "source": [
    "10 / 2"
   ]
  },
  {
   "cell_type": "code",
   "execution_count": 47,
   "metadata": {},
   "outputs": [
    {
     "ename": "ZeroDivisionError",
     "evalue": "division by zero",
     "output_type": "error",
     "traceback": [
      "\u001b[0;31m---------------------------------------------------------------------------\u001b[0m",
      "\u001b[0;31mZeroDivisionError\u001b[0m                         Traceback (most recent call last)",
      "\u001b[0;32m<ipython-input-47-cd759d3fcf39>\u001b[0m in \u001b[0;36m<module>\u001b[0;34m\u001b[0m\n\u001b[0;32m----> 1\u001b[0;31m \u001b[0;36m10\u001b[0m \u001b[0;34m/\u001b[0m \u001b[0;36m0\u001b[0m\u001b[0;34m\u001b[0m\u001b[0;34m\u001b[0m\u001b[0m\n\u001b[0m",
      "\u001b[0;31mZeroDivisionError\u001b[0m: division by zero"
     ]
    }
   ],
   "source": [
    "10 / 0"
   ]
  },
  {
   "cell_type": "code",
   "execution_count": 49,
   "metadata": {},
   "outputs": [
    {
     "name": "stdout",
     "output_type": "stream",
     "text": [
      "10\n",
      "20\n",
      "30\n"
     ]
    }
   ],
   "source": [
    "mylist = [10, 20, 30]\n",
    "\n",
    "for an_elephant_at_the_zoo in mylist:\n",
    "    print(an_elephant_at_the_zoo)"
   ]
  },
  {
   "cell_type": "code",
   "execution_count": 51,
   "metadata": {},
   "outputs": [],
   "source": [
    "# rules for Python identifiers (fancy word for variable names)\n",
    "# - starts with a letter or _\n",
    "# - after that, any letter, number, or _\n",
    "# - for as long as you want\n",
    "# - and it's case sensitive, so Foo and foo are different"
   ]
  },
  {
   "cell_type": "code",
   "execution_count": 52,
   "metadata": {},
   "outputs": [
    {
     "name": "stdout",
     "output_type": "stream",
     "text": [
      "a\n",
      "b\n",
      "c\n",
      "d\n"
     ]
    }
   ],
   "source": [
    "for one_item in 'abcd':\n",
    "    print(one_item)"
   ]
  },
  {
   "cell_type": "code",
   "execution_count": 53,
   "metadata": {},
   "outputs": [
    {
     "name": "stdout",
     "output_type": "stream",
     "text": [
      "!\n",
      "@\n",
      "#\n",
      "$\n",
      "%\n"
     ]
    }
   ],
   "source": [
    "for one_letter in '!@#$%':\n",
    "    print(one_letter)"
   ]
  },
  {
   "cell_type": "code",
   "execution_count": 54,
   "metadata": {},
   "outputs": [],
   "source": [
    "i = iter('abcd')  # are you iterable?  If so, give me an iterator\n"
   ]
  },
  {
   "cell_type": "code",
   "execution_count": 55,
   "metadata": {},
   "outputs": [
    {
     "data": {
      "text/plain": [
       "'a'"
      ]
     },
     "execution_count": 55,
     "metadata": {},
     "output_type": "execute_result"
    }
   ],
   "source": [
    "next(i)"
   ]
  },
  {
   "cell_type": "code",
   "execution_count": 56,
   "metadata": {},
   "outputs": [
    {
     "data": {
      "text/plain": [
       "'b'"
      ]
     },
     "execution_count": 56,
     "metadata": {},
     "output_type": "execute_result"
    }
   ],
   "source": [
    "next(i)"
   ]
  },
  {
   "cell_type": "code",
   "execution_count": 57,
   "metadata": {},
   "outputs": [
    {
     "data": {
      "text/plain": [
       "'c'"
      ]
     },
     "execution_count": 57,
     "metadata": {},
     "output_type": "execute_result"
    }
   ],
   "source": [
    "next(i)"
   ]
  },
  {
   "cell_type": "code",
   "execution_count": 58,
   "metadata": {},
   "outputs": [
    {
     "data": {
      "text/plain": [
       "'d'"
      ]
     },
     "execution_count": 58,
     "metadata": {},
     "output_type": "execute_result"
    }
   ],
   "source": [
    "next(i)"
   ]
  },
  {
   "cell_type": "code",
   "execution_count": 59,
   "metadata": {},
   "outputs": [
    {
     "ename": "StopIteration",
     "evalue": "",
     "output_type": "error",
     "traceback": [
      "\u001b[0;31m---------------------------------------------------------------------------\u001b[0m",
      "\u001b[0;31mStopIteration\u001b[0m                             Traceback (most recent call last)",
      "\u001b[0;32m<ipython-input-59-a883b34d6d8a>\u001b[0m in \u001b[0;36m<module>\u001b[0;34m\u001b[0m\n\u001b[0;32m----> 1\u001b[0;31m \u001b[0mnext\u001b[0m\u001b[0;34m(\u001b[0m\u001b[0mi\u001b[0m\u001b[0;34m)\u001b[0m\u001b[0;34m\u001b[0m\u001b[0;34m\u001b[0m\u001b[0m\n\u001b[0m",
      "\u001b[0;31mStopIteration\u001b[0m: "
     ]
    }
   ],
   "source": [
    "next(i)"
   ]
  },
  {
   "cell_type": "code",
   "execution_count": 60,
   "metadata": {},
   "outputs": [
    {
     "data": {
      "text/plain": [
       "['this', 'is', 'a', 'test']"
      ]
     },
     "execution_count": 60,
     "metadata": {},
     "output_type": "execute_result"
    }
   ],
   "source": [
    "mylist = 'this is a test'.split()\n",
    "mylist"
   ]
  },
  {
   "cell_type": "code",
   "execution_count": 61,
   "metadata": {},
   "outputs": [
    {
     "data": {
      "text/plain": [
       "'this'"
      ]
     },
     "execution_count": 61,
     "metadata": {},
     "output_type": "execute_result"
    }
   ],
   "source": [
    "mylist[0]"
   ]
  },
  {
   "cell_type": "code",
   "execution_count": 62,
   "metadata": {},
   "outputs": [
    {
     "data": {
      "text/plain": [
       "'is'"
      ]
     },
     "execution_count": 62,
     "metadata": {},
     "output_type": "execute_result"
    }
   ],
   "source": [
    "mylist[1]"
   ]
  },
  {
   "cell_type": "code",
   "execution_count": 63,
   "metadata": {},
   "outputs": [
    {
     "data": {
      "text/plain": [
       "'a'"
      ]
     },
     "execution_count": 63,
     "metadata": {},
     "output_type": "execute_result"
    }
   ],
   "source": [
    "mylist[2]"
   ]
  },
  {
   "cell_type": "code",
   "execution_count": 64,
   "metadata": {},
   "outputs": [
    {
     "data": {
      "text/plain": [
       "'test'"
      ]
     },
     "execution_count": 64,
     "metadata": {},
     "output_type": "execute_result"
    }
   ],
   "source": [
    "mylist[3]"
   ]
  },
  {
   "cell_type": "code",
   "execution_count": 65,
   "metadata": {},
   "outputs": [],
   "source": [
    "# define dicts with curly braces {} !\n",
    "d = {}\n",
    "\n",
    "# add elements to a dictionary with assignment\n",
    "# I have to assign both a key (index) and a value\n",
    "d[10] = 'hello'\n",
    "d[20] = 'goodbye'\n",
    "d[30] = 'I dunno'"
   ]
  },
  {
   "cell_type": "code",
   "execution_count": 66,
   "metadata": {},
   "outputs": [],
   "source": [
    "# list indexes are ints, but values are anything\n",
    "# tuple indexes are ints, but values are anything\n",
    "# dict indexes (keys) are ANYTHING IMMUTABLE\n",
    "#    and values are anything\n",
    "\n",
    "# mostly, dict keys are ints and strings"
   ]
  },
  {
   "cell_type": "code",
   "execution_count": 67,
   "metadata": {},
   "outputs": [
    {
     "data": {
      "text/plain": [
       "'goodbye'"
      ]
     },
     "execution_count": 67,
     "metadata": {},
     "output_type": "execute_result"
    }
   ],
   "source": [
    "d[20]"
   ]
  },
  {
   "cell_type": "code",
   "execution_count": 68,
   "metadata": {},
   "outputs": [
    {
     "data": {
      "text/plain": [
       "'I dunno'"
      ]
     },
     "execution_count": 68,
     "metadata": {},
     "output_type": "execute_result"
    }
   ],
   "source": [
    "d[30]"
   ]
  },
  {
   "cell_type": "code",
   "execution_count": 69,
   "metadata": {},
   "outputs": [],
   "source": [
    "# dict keys can be strings!!!"
   ]
  },
  {
   "cell_type": "code",
   "execution_count": 70,
   "metadata": {},
   "outputs": [],
   "source": [
    "d = {}\n",
    "d['first'] = 'Reuven'\n",
    "d['last'] = 'Lerner'\n",
    "d['email'] = 'reuven@lerner.co.il'\n",
    "d['shoesize'] = 46"
   ]
  },
  {
   "cell_type": "code",
   "execution_count": 71,
   "metadata": {},
   "outputs": [
    {
     "data": {
      "text/plain": [
       "{'first': 'Reuven',\n",
       " 'last': 'Lerner',\n",
       " 'email': 'reuven@lerner.co.il',\n",
       " 'shoesize': 46}"
      ]
     },
     "execution_count": 71,
     "metadata": {},
     "output_type": "execute_result"
    }
   ],
   "source": [
    "d"
   ]
  },
  {
   "cell_type": "code",
   "execution_count": 72,
   "metadata": {},
   "outputs": [
    {
     "data": {
      "text/plain": [
       "'Reuven'"
      ]
     },
     "execution_count": 72,
     "metadata": {},
     "output_type": "execute_result"
    }
   ],
   "source": [
    "d['first']"
   ]
  },
  {
   "cell_type": "code",
   "execution_count": 73,
   "metadata": {},
   "outputs": [
    {
     "data": {
      "text/plain": [
       "'Lerner'"
      ]
     },
     "execution_count": 73,
     "metadata": {},
     "output_type": "execute_result"
    }
   ],
   "source": [
    "d['last']"
   ]
  },
  {
   "cell_type": "code",
   "execution_count": 74,
   "metadata": {},
   "outputs": [
    {
     "data": {
      "text/plain": [
       "True"
      ]
     },
     "execution_count": 74,
     "metadata": {},
     "output_type": "execute_result"
    }
   ],
   "source": [
    "# check if a key exists in a dict with \"in\"\n",
    "'first' in d"
   ]
  },
  {
   "cell_type": "code",
   "execution_count": 75,
   "metadata": {},
   "outputs": [
    {
     "data": {
      "text/plain": [
       "False"
      ]
     },
     "execution_count": 75,
     "metadata": {},
     "output_type": "execute_result"
    }
   ],
   "source": [
    "'Reuven' in d"
   ]
  },
  {
   "cell_type": "code",
   "execution_count": 76,
   "metadata": {},
   "outputs": [
    {
     "data": {
      "text/plain": [
       "{'first': 'Reuven',\n",
       " 'last': 'Lerner',\n",
       " 'email': 'reuven@lerner.co.il',\n",
       " 'shoesize': 46}"
      ]
     },
     "execution_count": 76,
     "metadata": {},
     "output_type": "execute_result"
    }
   ],
   "source": [
    "d"
   ]
  },
  {
   "cell_type": "code",
   "execution_count": 77,
   "metadata": {},
   "outputs": [],
   "source": [
    "# let's replace the first name!\n",
    "d['first'] = 'asdfasfaa'"
   ]
  },
  {
   "cell_type": "code",
   "execution_count": 78,
   "metadata": {},
   "outputs": [
    {
     "data": {
      "text/plain": [
       "{'first': 'asdfasfaa',\n",
       " 'last': 'Lerner',\n",
       " 'email': 'reuven@lerner.co.il',\n",
       " 'shoesize': 46}"
      ]
     },
     "execution_count": 78,
     "metadata": {},
     "output_type": "execute_result"
    }
   ],
   "source": [
    "d"
   ]
  },
  {
   "cell_type": "code",
   "execution_count": 79,
   "metadata": {},
   "outputs": [],
   "source": [
    "# (1) Define a dict called \"menu\" in which the item names (strings)\n",
    "# are the dict keys, and the prices are the values\n",
    "\n",
    "menu = {'sandwich': 15, 'tea': 7}\n",
    "\n",
    "# (2) Ask the user repeatedly what they want to order\n",
    "# a while True infinite loop\n",
    "\n",
    "# (3) Based on their response:\n",
    "# - If they enter an empty string, stop asking and print the\n",
    "#   total price\n",
    "\n",
    "# break from the loop if we get '' as input from the user\n",
    "\n",
    "# - If they enter the name of something on the menu,\n",
    "#   print the price and the new total\n",
    "\n",
    "# - use \"in\" to check if the user's input is on the menu\n",
    "#  for example:   'tea' in menu\n",
    "#   given the user's choice, you can retrieve the price\n",
    "\n",
    "#   order = 'tea'\n",
    "#   menu[order]  # same as menu['tea'] -- will give us the price\n",
    "\n",
    "# - If they enter the name of something *NOT* on the\n",
    "#   menu, give a poor excuse\n",
    "\n",
    "# if the key is *NOT* in the dict, then ... scold them"
   ]
  },
  {
   "cell_type": "code",
   "execution_count": null,
   "metadata": {},
   "outputs": [],
   "source": [
    "# Order: sandwich\n",
    "# sandwich is 15, total is 15\n",
    "# Order: tea\n",
    "# tea is 7, total is 22\n",
    "# Order: elephant\n",
    "# Sorry, we are fresh out of elephant today\n",
    "# Order: <enter>\n",
    "# Total is 22\n"
   ]
  },
  {
   "cell_type": "code",
   "execution_count": 80,
   "metadata": {},
   "outputs": [
    {
     "name": "stdout",
     "output_type": "stream",
     "text": [
      "3\n",
      "Order: \n",
      "Total is 0\n"
     ]
    }
   ],
   "source": [
    "total = 0\n",
    "menu = {'sandwich':10, 'tea':7, 'soup':8}\n",
    "print(len(menu))\n",
    "\n",
    "while True:\n",
    "    order = input(\"Order: \")\n",
    "    \n",
    "    if order == '':\n",
    "        break\n",
    "    \n",
    "    elif order in menu:\n",
    "        price = menu[order]\n",
    "        total += price\n",
    "        print(f'{order} cost {price}; total is now {total}')\n",
    "        \n",
    "    else:\n",
    "        print(f'We are out of {order} today')\n",
    "        \n",
    "print(f'Total is {total}')\n",
    "        "
   ]
  },
  {
   "cell_type": "code",
   "execution_count": 81,
   "metadata": {},
   "outputs": [
    {
     "data": {
      "text/plain": [
       "True"
      ]
     },
     "execution_count": 81,
     "metadata": {},
     "output_type": "execute_result"
    }
   ],
   "source": [
    "mylist = [10, 100, 1000, 5]\n",
    "\n",
    "# use \"in\" to get a True/False on whether something is in a list\n",
    "100 in mylist"
   ]
  },
  {
   "cell_type": "code",
   "execution_count": 82,
   "metadata": {},
   "outputs": [
    {
     "data": {
      "text/plain": [
       "True"
      ]
     },
     "execution_count": 82,
     "metadata": {},
     "output_type": "execute_result"
    }
   ],
   "source": [
    "1000 in mylist"
   ]
  },
  {
   "cell_type": "code",
   "execution_count": 83,
   "metadata": {},
   "outputs": [
    {
     "data": {
      "text/plain": [
       "False"
      ]
     },
     "execution_count": 83,
     "metadata": {},
     "output_type": "execute_result"
    }
   ],
   "source": [
    "'100' in mylist"
   ]
  },
  {
   "cell_type": "code",
   "execution_count": 84,
   "metadata": {},
   "outputs": [
    {
     "data": {
      "text/plain": [
       "True"
      ]
     },
     "execution_count": 84,
     "metadata": {},
     "output_type": "execute_result"
    }
   ],
   "source": [
    "d = {'a':1, 'b':2, 'c':3}\n",
    "\n",
    "# \"in\" on a dict says: Is this item a dict key?\n",
    "'a' in d  # is 'a' a key in d?"
   ]
  },
  {
   "cell_type": "code",
   "execution_count": 85,
   "metadata": {},
   "outputs": [
    {
     "data": {
      "text/plain": [
       "True"
      ]
     },
     "execution_count": 85,
     "metadata": {},
     "output_type": "execute_result"
    }
   ],
   "source": [
    "'c' in d"
   ]
  },
  {
   "cell_type": "code",
   "execution_count": 86,
   "metadata": {},
   "outputs": [
    {
     "data": {
      "text/plain": [
       "False"
      ]
     },
     "execution_count": 86,
     "metadata": {},
     "output_type": "execute_result"
    }
   ],
   "source": [
    "'c ' in d"
   ]
  },
  {
   "cell_type": "code",
   "execution_count": 87,
   "metadata": {},
   "outputs": [
    {
     "data": {
      "text/plain": [
       "{'sandwich': 10, 'tea': 7, 'soup': 8}"
      ]
     },
     "execution_count": 87,
     "metadata": {},
     "output_type": "execute_result"
    }
   ],
   "source": [
    "menu"
   ]
  },
  {
   "cell_type": "code",
   "execution_count": 88,
   "metadata": {},
   "outputs": [
    {
     "data": {
      "text/plain": [
       "True"
      ]
     },
     "execution_count": 88,
     "metadata": {},
     "output_type": "execute_result"
    }
   ],
   "source": [
    "'sandwich' in menu"
   ]
  },
  {
   "cell_type": "code",
   "execution_count": 89,
   "metadata": {},
   "outputs": [
    {
     "data": {
      "text/plain": [
       "True"
      ]
     },
     "execution_count": 89,
     "metadata": {},
     "output_type": "execute_result"
    }
   ],
   "source": [
    "'tea' in menu"
   ]
  },
  {
   "cell_type": "code",
   "execution_count": 90,
   "metadata": {},
   "outputs": [
    {
     "data": {
      "text/plain": [
       "True"
      ]
     },
     "execution_count": 90,
     "metadata": {},
     "output_type": "execute_result"
    }
   ],
   "source": [
    "'tea' in menu"
   ]
  },
  {
   "cell_type": "code",
   "execution_count": 91,
   "metadata": {},
   "outputs": [
    {
     "data": {
      "text/plain": [
       "True"
      ]
     },
     "execution_count": 91,
     "metadata": {},
     "output_type": "execute_result"
    }
   ],
   "source": [
    "order = 'tea'\n",
    "order in menu  "
   ]
  },
  {
   "cell_type": "code",
   "execution_count": 92,
   "metadata": {},
   "outputs": [
    {
     "data": {
      "text/plain": [
       "7"
      ]
     },
     "execution_count": 92,
     "metadata": {},
     "output_type": "execute_result"
    }
   ],
   "source": [
    "# menu['tea']\n",
    "\n",
    "menu[order]  # retrieve the value from \"menu\" where the key is order"
   ]
  },
  {
   "cell_type": "code",
   "execution_count": 94,
   "metadata": {},
   "outputs": [
    {
     "data": {
      "text/plain": [
       "'tea'"
      ]
     },
     "execution_count": 94,
     "metadata": {},
     "output_type": "execute_result"
    }
   ],
   "source": [
    "order"
   ]
  },
  {
   "cell_type": "code",
   "execution_count": 96,
   "metadata": {},
   "outputs": [
    {
     "data": {
      "text/plain": [
       "{'sandwich': 10, 'tea': 7, 'soup': 8}"
      ]
     },
     "execution_count": 96,
     "metadata": {},
     "output_type": "execute_result"
    }
   ],
   "source": [
    "menu"
   ]
  },
  {
   "cell_type": "code",
   "execution_count": 98,
   "metadata": {},
   "outputs": [
    {
     "name": "stdout",
     "output_type": "stream",
     "text": [
      "3\n",
      "Order: tea\n",
      "tea cost 7; total is now 7\n",
      "Order: sandwich\n",
      "sandwich cost 10; total is now 17\n",
      "Order: soup\n",
      "soup cost 8; total is now 25\n",
      "Order: \n",
      "You ordered tea, sandwich, soup\n",
      "Total is 25\n"
     ]
    }
   ],
   "source": [
    "total = 0\n",
    "ordered_items = []\n",
    "menu = {'sandwich':10, 'tea':7, 'soup':8}\n",
    "print(len(menu))\n",
    "\n",
    "while True:\n",
    "    order = input(\"Order: \")\n",
    "    \n",
    "    if order == '':\n",
    "        break\n",
    "    \n",
    "    elif order in menu:\n",
    "        price = menu[order]\n",
    "        ordered_items.append(order)\n",
    "        total += price\n",
    "        print(f'{order} cost {price}; total is now {total}')\n",
    "        \n",
    "    else:\n",
    "        print(f'We are out of {order} today')\n",
    "        \n",
    "s = ', '.join(ordered_items)\n",
    "print(f'You ordered {s}')\n",
    "print(f'Total is {total}')\n",
    "        "
   ]
  },
  {
   "cell_type": "code",
   "execution_count": 99,
   "metadata": {},
   "outputs": [
    {
     "data": {
      "text/plain": [
       "'abcd***efgh***ijklm'"
      ]
     },
     "execution_count": 99,
     "metadata": {},
     "output_type": "execute_result"
    }
   ],
   "source": [
    "mylist = ['abcd', 'efgh', 'ijklm']\n",
    "\n",
    "# join returns a string with the elements of mylist glued together\n",
    "# with '***'\n",
    "'***'.join(mylist)"
   ]
  },
  {
   "cell_type": "code",
   "execution_count": 100,
   "metadata": {},
   "outputs": [
    {
     "data": {
      "text/plain": [
       "'abcd, efgh, ijklm'"
      ]
     },
     "execution_count": 100,
     "metadata": {},
     "output_type": "execute_result"
    }
   ],
   "source": [
    "', '.join(mylist)"
   ]
  },
  {
   "cell_type": "code",
   "execution_count": 101,
   "metadata": {},
   "outputs": [
    {
     "data": {
      "text/plain": [
       "'abcd,efgh,ijklm'"
      ]
     },
     "execution_count": 101,
     "metadata": {},
     "output_type": "execute_result"
    }
   ],
   "source": [
    "','.join(mylist)"
   ]
  },
  {
   "cell_type": "code",
   "execution_count": 103,
   "metadata": {},
   "outputs": [
    {
     "name": "stdout",
     "output_type": "stream",
     "text": [
      "abcd\n",
      "efgh\n",
      "ijklm\n"
     ]
    }
   ],
   "source": [
    "print('\\n'.join(mylist))"
   ]
  },
  {
   "cell_type": "code",
   "execution_count": 104,
   "metadata": {},
   "outputs": [
    {
     "name": "stdout",
     "output_type": "stream",
     "text": [
      "Enter a letter: a\n",
      "Enter a letter: a\n",
      "Enter a letter: a\n",
      "Enter a letter: b\n",
      "Enter a letter: c\n",
      "Enter a letter: c\n",
      "Enter a letter: \n",
      "{'a': 4, 'b': 3, 'c': 5}\n"
     ]
    }
   ],
   "source": [
    "d = {'a':1, 'b':2, 'c':3}\n",
    "\n",
    "while True:\n",
    "    one_letter = input(\"Enter a letter: \")\n",
    "    \n",
    "    if one_letter == '':\n",
    "        break\n",
    "        \n",
    "    elif one_letter in d:\n",
    "        d[one_letter] += 1\n",
    "        \n",
    "    else:\n",
    "        print(f'{one_letter} is not valid')\n",
    "        \n",
    "print(d)"
   ]
  },
  {
   "cell_type": "code",
   "execution_count": 105,
   "metadata": {},
   "outputs": [
    {
     "name": "stdout",
     "output_type": "stream",
     "text": [
      "Enter a letter: a\n",
      "Enter a letter: a\n",
      "Enter a letter: a\n",
      "Enter a letter: b\n",
      "Enter a letter: b\n",
      "Enter a letter: c\n",
      "Enter a letter: \n",
      "{'a': 3, 'b': 2, 'c': 1}\n"
     ]
    }
   ],
   "source": [
    "d = {}\n",
    "\n",
    "while True:\n",
    "    one_letter = input(\"Enter a letter: \")\n",
    "    \n",
    "    if one_letter == '':\n",
    "        break\n",
    "        \n",
    "    elif one_letter in d:\n",
    "        # if one_letter is already a key, then add 1 to it\n",
    "        d[one_letter] += 1\n",
    "        \n",
    "    else:\n",
    "        # if one_letter is not yet a key, make it one, with value 1\n",
    "        d[one_letter] = 1\n",
    "        \n",
    "print(d)"
   ]
  },
  {
   "cell_type": "code",
   "execution_count": null,
   "metadata": {},
   "outputs": [],
   "source": [
    "# (0) Initialize an empty dict, \"rainfall\"\n",
    "# (1) Ask the user to enter a city name\n",
    "# (2) If the city name is blank, stop asking and print the\n",
    "#      dictionary of rainfall accumulation\n",
    "# (3) If the city name is NOT blank, ask for mm rain that fell\n",
    "# (4) Store the city + rainfall in a dict.  The city\n",
    "#     will be the key, and the rainfall will be the value.  \n",
    "# (5) Add to the rainfall if a city repeats -- don't just overwrite\n",
    "#     the value\n",
    "\n",
    "City: Jerusalem\n",
    "Rain: 5\n",
    "City: Tel Aviv\n",
    "Rain: 4\n",
    "City: Jerusalem\n",
    "Rain: 3\n",
    "City: <enter>  \n",
    "    \n",
    "{'Jerusalem': 8, 'Tel Aviv': 4}"
   ]
  },
  {
   "cell_type": "code",
   "execution_count": 106,
   "metadata": {},
   "outputs": [],
   "source": [
    "# parser\n",
    "\n",
    "d = {'a':1, 'b':2, 'c':3}\n",
    "key = 'b'\n",
    "\n",
    "value = d[key]   # value = d['b']"
   ]
  },
  {
   "cell_type": "code",
   "execution_count": 107,
   "metadata": {},
   "outputs": [
    {
     "data": {
      "text/plain": [
       "2"
      ]
     },
     "execution_count": 107,
     "metadata": {},
     "output_type": "execute_result"
    }
   ],
   "source": [
    "value"
   ]
  },
  {
   "cell_type": "code",
   "execution_count": 110,
   "metadata": {},
   "outputs": [
    {
     "name": "stdout",
     "output_type": "stream",
     "text": [
      "total = 0\n",
      "Enter key: a\n",
      "\tYou chose a, value is 1\n",
      "total = 1\n",
      "Enter key: b\n",
      "\tYou chose b, value is 2\n",
      "total = 3\n",
      "Enter key: c\n",
      "\tYou chose c, value is 3\n"
     ]
    },
    {
     "ename": "TypeError",
     "evalue": "unsupported operand type(s) for +=: 'int' and 'str'",
     "output_type": "error",
     "traceback": [
      "\u001b[0;31m---------------------------------------------------------------------------\u001b[0m",
      "\u001b[0;31mTypeError\u001b[0m                                 Traceback (most recent call last)",
      "\u001b[0;32m<ipython-input-110-b8f602649ae5>\u001b[0m in \u001b[0;36m<module>\u001b[0;34m\u001b[0m\n\u001b[1;32m     12\u001b[0m     \u001b[0;32melif\u001b[0m \u001b[0mk\u001b[0m \u001b[0;32min\u001b[0m \u001b[0md\u001b[0m\u001b[0;34m:\u001b[0m\u001b[0;34m\u001b[0m\u001b[0;34m\u001b[0m\u001b[0m\n\u001b[1;32m     13\u001b[0m         \u001b[0mprint\u001b[0m\u001b[0;34m(\u001b[0m\u001b[0;34mf'\\tYou chose {k}, value is {d[k]}'\u001b[0m\u001b[0;34m)\u001b[0m\u001b[0;34m\u001b[0m\u001b[0;34m\u001b[0m\u001b[0m\n\u001b[0;32m---> 14\u001b[0;31m         \u001b[0mtotal\u001b[0m \u001b[0;34m+=\u001b[0m \u001b[0md\u001b[0m\u001b[0;34m[\u001b[0m\u001b[0mk\u001b[0m\u001b[0;34m]\u001b[0m   \u001b[0;31m# retrieve the value for d[k]\u001b[0m\u001b[0;34m\u001b[0m\u001b[0;34m\u001b[0m\u001b[0m\n\u001b[0m\u001b[1;32m     15\u001b[0m \u001b[0;34m\u001b[0m\u001b[0m\n\u001b[1;32m     16\u001b[0m     \u001b[0;32melse\u001b[0m\u001b[0;34m:\u001b[0m\u001b[0;34m\u001b[0m\u001b[0;34m\u001b[0m\u001b[0m\n",
      "\u001b[0;31mTypeError\u001b[0m: unsupported operand type(s) for +=: 'int' and 'str'"
     ]
    }
   ],
   "source": [
    "d = {'a':1, 'b':2, 'c':'3'}   \n",
    "\n",
    "total = 0\n",
    "\n",
    "while True:\n",
    "    print(f'total = {total}')\n",
    "    k = input(\"Enter key: \")\n",
    "    \n",
    "    if k == '':\n",
    "        break\n",
    "        \n",
    "    elif k in d:\n",
    "        print(f'\\tYou chose {k}, value is {d[k]}')\n",
    "        total += d[k]   # retrieve the value for d[k]\n",
    "        \n",
    "    else:\n",
    "        print(f'key {k} is unknown ')\n",
    "\n",
    "print(f'Finally, total = {total}')\n"
   ]
  },
  {
   "cell_type": "code",
   "execution_count": null,
   "metadata": {},
   "outputs": [],
   "source": [
    "total = 0\n",
    "menu = {'sandwich':10, 'tea':7, 'soup':8}\n",
    "print(len(menu))\n",
    "\n",
    "while True:\n",
    "    order = input(\"Order: \")\n",
    "    \n",
    "    if order == '':\n",
    "        break\n",
    "    \n",
    "    elif order in menu:\n",
    "        price = menu[order]\n",
    "        total += price\n",
    "        print(f'{order} cost {price}; total is now {total}')\n",
    "        \n",
    "    else:\n",
    "        print(f'We are out of {order} today')\n",
    "        \n",
    "print(f'Total is {total}')\n",
    "        "
   ]
  },
  {
   "cell_type": "code",
   "execution_count": null,
   "metadata": {},
   "outputs": [],
   "source": [
    "# (0) Initialize an empty dict, \"rainfall\"\n",
    "# rainfall = {}\n",
    "\n",
    "# (1) Ask the user to enter a city name\n",
    "# while True -- we don't know how many iterations we'll run\n",
    "# use \"input\" to get the user's input\n",
    "\n",
    "# (2) If the city name is blank, stop asking and print the\n",
    "#      dictionary of rainfall accumulation\n",
    "# check if the input we got is an empty string\n",
    "\n",
    "# (3) If the city name is NOT blank, ask for mm rain that fell\n",
    "# ask for a 2nd piece of information -- mm_rain\n",
    "# remember: when we get input, it's a string!\n",
    "# so we'll need to convert the string into an integer\n",
    "\n",
    "# (4) Store the city + rainfall in a dict.  The city\n",
    "#     will be the key, and the rainfall will be the value.  \n",
    "# - check:\n",
    "# is the key in rainfall already ? If so, just add to its value\n",
    "# if the key is new (i.e., doesn't yet exist in rainfall),\n",
    "#   then we'll just set the value\n",
    "\n",
    "# (5) Add to the rainfall if a city repeats -- don't just overwrite\n",
    "#     the value\n",
    "\n",
    "City: Jerusalem\n",
    "Rain: 5\n",
    "City: Tel Aviv\n",
    "Rain: 4\n",
    "City: Jerusalem\n",
    "Rain: 3\n",
    "City: <enter>  \n",
    "    \n",
    "{'Jerusalem': 8, 'Tel Aviv': 4}"
   ]
  },
  {
   "cell_type": "code",
   "execution_count": null,
   "metadata": {},
   "outputs": [],
   "source": [
    "rainfall = {}\n",
    "\n",
    "while True:\n",
    "    city = input (\"Enter a city: \")\n",
    "    \n",
    "    if city == '':\n",
    "        break\n",
    "\n",
    "    rain = int( input (\"Enter the mm of rain that fell: \"))\n",
    "    \n",
    "    if city in rainfall:\n",
    "        value = int(rainfall[city])\n",
    "        value = value+rain\n",
    "        rainfall[city] = value\n",
    "    else:\n",
    "        rainfall[city] = rain\n",
    "print (rainfall)"
   ]
  },
  {
   "cell_type": "code",
   "execution_count": 112,
   "metadata": {},
   "outputs": [
    {
     "name": "stdout",
     "output_type": "stream",
     "text": [
      " Enter your city: a\n",
      "Enter rain amount: 1\n",
      " Enter your city: b\n",
      "Enter rain amount: 2\n",
      " Enter your city: a\n",
      "Enter rain amount: 3\n",
      " Enter your city: \n",
      "Total rainfall foe each city is as follwos {'a': 4, 'b': 2}\n"
     ]
    }
   ],
   "source": [
    "rainfall = {}\n",
    "while True: \n",
    "    city = input(\" Enter your city: \")\n",
    "    \n",
    "    if city == '':\n",
    "        break\n",
    "    \n",
    "    amount = input(\"Enter rain amount: \")\n",
    "    if not amount.isdigit():\n",
    "        print(f'{amount} is not valid value! amount try again')\n",
    "        continue\n",
    "\n",
    "    if city in rainfall:   # is city (already) a key in rainfall?\n",
    "        rainfall[city] += int(amount)  # add to existing amount\n",
    "    else:\n",
    "        rainfall[city] = int(amount)   # add a new key-value pair\n",
    "\n",
    "print(f'Total rainfall foe each city is as follwos {rainfall}')"
   ]
  },
  {
   "cell_type": "code",
   "execution_count": 113,
   "metadata": {},
   "outputs": [],
   "source": [
    "d = {'a':1, 'b':2, 'c':3}"
   ]
  },
  {
   "cell_type": "code",
   "execution_count": 114,
   "metadata": {},
   "outputs": [
    {
     "name": "stdout",
     "output_type": "stream",
     "text": [
      "{'a': 1, 'b': 2, 'c': 3}\n"
     ]
    }
   ],
   "source": [
    "print(d)"
   ]
  },
  {
   "cell_type": "code",
   "execution_count": 115,
   "metadata": {},
   "outputs": [
    {
     "name": "stdout",
     "output_type": "stream",
     "text": [
      "a\n",
      "b\n",
      "c\n"
     ]
    }
   ],
   "source": [
    "for one_item in d:\n",
    "    print(one_item)"
   ]
  },
  {
   "cell_type": "code",
   "execution_count": 116,
   "metadata": {},
   "outputs": [
    {
     "name": "stdout",
     "output_type": "stream",
     "text": [
      "a: 1\n",
      "b: 2\n",
      "c: 3\n"
     ]
    }
   ],
   "source": [
    "for key in d:\n",
    "    print(f'{key}: {d[key]}')"
   ]
  },
  {
   "cell_type": "code",
   "execution_count": 117,
   "metadata": {},
   "outputs": [
    {
     "name": "stdout",
     "output_type": "stream",
     "text": [
      "a: 1\n",
      "b: 2\n",
      "c: 3\n"
     ]
    }
   ],
   "source": [
    "for key, value in d.items():\n",
    "    print(f'{key}: {value}')"
   ]
  },
  {
   "cell_type": "code",
   "execution_count": 118,
   "metadata": {},
   "outputs": [
    {
     "data": {
      "text/plain": [
       "{'a': 4, 'b': 2}"
      ]
     },
     "execution_count": 118,
     "metadata": {},
     "output_type": "execute_result"
    }
   ],
   "source": [
    "rainfall"
   ]
  },
  {
   "cell_type": "code",
   "execution_count": 119,
   "metadata": {},
   "outputs": [
    {
     "name": "stdout",
     "output_type": "stream",
     "text": [
      "a: 4\n",
      "b: 2\n"
     ]
    }
   ],
   "source": [
    "for city, mm_rain in rainfall.items():\n",
    "    print(f'{city}: {mm_rain}')"
   ]
  },
  {
   "cell_type": "code",
   "execution_count": 120,
   "metadata": {},
   "outputs": [
    {
     "data": {
      "text/plain": [
       "'Reuven'"
      ]
     },
     "execution_count": 120,
     "metadata": {},
     "output_type": "execute_result"
    }
   ],
   "source": [
    "# store a record about a person in a tuple\n",
    "p = ('Reuven', 'Lerner', 46)\n",
    "\n",
    "p[0]"
   ]
  },
  {
   "cell_type": "code",
   "execution_count": 121,
   "metadata": {},
   "outputs": [
    {
     "data": {
      "text/plain": [
       "'Lerner'"
      ]
     },
     "execution_count": 121,
     "metadata": {},
     "output_type": "execute_result"
    }
   ],
   "source": [
    "p[1]"
   ]
  },
  {
   "cell_type": "code",
   "execution_count": 122,
   "metadata": {},
   "outputs": [
    {
     "data": {
      "text/plain": [
       "46"
      ]
     },
     "execution_count": 122,
     "metadata": {},
     "output_type": "execute_result"
    }
   ],
   "source": [
    "p[2]"
   ]
  },
  {
   "cell_type": "code",
   "execution_count": 123,
   "metadata": {},
   "outputs": [
    {
     "data": {
      "text/plain": [
       "'Reuven'"
      ]
     },
     "execution_count": 123,
     "metadata": {},
     "output_type": "execute_result"
    }
   ],
   "source": [
    "# store a record about a person in a dict\n",
    "p = {'first': 'Reuven', 'last':'Lerner', 'shoesize':46}\n",
    "\n",
    "p['first']"
   ]
  },
  {
   "cell_type": "code",
   "execution_count": 124,
   "metadata": {},
   "outputs": [
    {
     "data": {
      "text/plain": [
       "46"
      ]
     },
     "execution_count": 124,
     "metadata": {},
     "output_type": "execute_result"
    }
   ],
   "source": [
    "p['shoesize']"
   ]
  },
  {
   "cell_type": "code",
   "execution_count": 125,
   "metadata": {},
   "outputs": [
    {
     "data": {
      "text/plain": [
       "float"
      ]
     },
     "execution_count": 125,
     "metadata": {},
     "output_type": "execute_result"
    }
   ],
   "source": [
    "x = 1.2345\n",
    "type(x)"
   ]
  },
  {
   "cell_type": "code",
   "execution_count": 126,
   "metadata": {},
   "outputs": [],
   "source": [
    "# NumPy -- numeric Python\n",
    "# basically C data with a Python shell/interface"
   ]
  },
  {
   "cell_type": "code",
   "execution_count": 127,
   "metadata": {},
   "outputs": [
    {
     "data": {
      "text/plain": [
       "{'a': 1, 'b': 2, 'c': 3}"
      ]
     },
     "execution_count": 127,
     "metadata": {},
     "output_type": "execute_result"
    }
   ],
   "source": [
    "mylist = [10, 20, 30]\n",
    "\n",
    "d"
   ]
  },
  {
   "cell_type": "code",
   "execution_count": 128,
   "metadata": {},
   "outputs": [
    {
     "ename": "TypeError",
     "evalue": "unhashable type: 'list'",
     "output_type": "error",
     "traceback": [
      "\u001b[0;31m---------------------------------------------------------------------------\u001b[0m",
      "\u001b[0;31mTypeError\u001b[0m                                 Traceback (most recent call last)",
      "\u001b[0;32m<ipython-input-128-fd4befd2ea38>\u001b[0m in \u001b[0;36m<module>\u001b[0;34m\u001b[0m\n\u001b[0;32m----> 1\u001b[0;31m \u001b[0md\u001b[0m\u001b[0;34m[\u001b[0m\u001b[0mmylist\u001b[0m\u001b[0;34m]\u001b[0m \u001b[0;34m=\u001b[0m \u001b[0;34m'hello'\u001b[0m\u001b[0;34m\u001b[0m\u001b[0;34m\u001b[0m\u001b[0m\n\u001b[0m",
      "\u001b[0;31mTypeError\u001b[0m: unhashable type: 'list'"
     ]
    }
   ],
   "source": [
    "d[mylist] = 'hello'"
   ]
  },
  {
   "cell_type": "code",
   "execution_count": 129,
   "metadata": {},
   "outputs": [],
   "source": [
    "# Python uses a \"hash function\" to store and retrieve dict items"
   ]
  },
  {
   "cell_type": "code",
   "execution_count": 130,
   "metadata": {},
   "outputs": [
    {
     "data": {
      "text/plain": [
       "True"
      ]
     },
     "execution_count": 130,
     "metadata": {},
     "output_type": "execute_result"
    }
   ],
   "source": [
    "20 in mylist"
   ]
  },
  {
   "cell_type": "code",
   "execution_count": 131,
   "metadata": {},
   "outputs": [],
   "source": [
    "# to find someone's office,\n",
    "# take the first letter of their last name\n",
    "# and use the key a=1, b=2, c=3, ... z=26\n",
    "# they are in that office.\n",
    "\n",
    "# Mary Jones will be in office #10\n",
    "# Tom Smith will be in office #19 "
   ]
  },
  {
   "cell_type": "code",
   "execution_count": 132,
   "metadata": {},
   "outputs": [
    {
     "data": {
      "text/plain": [
       "{'a': 1, 'b': 2, 'c': 3}"
      ]
     },
     "execution_count": 132,
     "metadata": {},
     "output_type": "execute_result"
    }
   ],
   "source": [
    "d"
   ]
  },
  {
   "cell_type": "code",
   "execution_count": 133,
   "metadata": {},
   "outputs": [
    {
     "data": {
      "text/plain": [
       "True"
      ]
     },
     "execution_count": 133,
     "metadata": {},
     "output_type": "execute_result"
    }
   ],
   "source": [
    "'a' in d  "
   ]
  },
  {
   "cell_type": "code",
   "execution_count": 134,
   "metadata": {},
   "outputs": [],
   "source": [
    "x = 100  # Python turns \"x\" into a string, and uses it in globals()\n",
    "# really: globals()['x'] = 100"
   ]
  },
  {
   "cell_type": "code",
   "execution_count": 135,
   "metadata": {},
   "outputs": [
    {
     "data": {
      "text/plain": [
       "{'__name__': '__main__',\n",
       " '__doc__': 'Automatically created module for IPython interactive environment',\n",
       " '__package__': None,\n",
       " '__loader__': None,\n",
       " '__spec__': None,\n",
       " '__builtin__': <module 'builtins' (built-in)>,\n",
       " '__builtins__': <module 'builtins' (built-in)>,\n",
       " '_ih': ['',\n",
       "  '# None\\n# True, False (boolean values)\\n# numbers -- int, float\\n# strings\\n# lists, tuples\\n\\n# dict -- dictionary\\n# files -- reading, writing ',\n",
       "  '# http://pythontutor.com',\n",
       "  '# strings, lists, and tuples are all sequences\\n\\n# they can all:\\n# - index with [i]  (a number in [])\\n# - retrieve multiple items with a slice [start:end]\\n# - search with \"in\"\\n# - run a \"for\" loop on their elements\\n# - use \"len\" to get the length\\n\\n# but:\\n# - strings only contain characters (strings of length 1)\\n# - strings + tuples are immutable (they cannot be changed)\\n# - only lists\\' elements can be modified\\n# - only lists can get bigger and smaller after being created',\n",
       "  \"mylist = []\\n\\ns = '10 20 abcd 30 4b 5a 60'\\nfor one_item in s.split():\\n    print(one_item)\\n    \",\n",
       "  \"mylist = []\\n\\ns = '10 20 abcd 30 4b 5a 60'\\nfor one_item in s.split():\\n    mylist.append(one_item)\\n    \\nmylist\\n    \",\n",
       "  'mylist',\n",
       "  \"mylist.remove('30')  # removes one version of '30' from the list\",\n",
       "  'mylist',\n",
       "  \"mylist = []\\n\\ns = '10 20 abcd 30 4b 5a 60'\\nfor one_item in s.split():\\n    mylist.append(one_item)\\n    \\nmylist\\n    \",\n",
       "  \"mylist = []\\n\\ns = '10 20 abcd 30 4b 5a 60'\\nfor one_item in s.split():\\n    mylist.append(int(one_item))\\n    \\nmylist\\n    \",\n",
       "  \"mylist = []\\n\\ns = '10 20 abcd 30 4b 5a 60'\\nfor one_item in s.split():\\n    if one_item.isdigit():\\n        mylist.append(int(one_item))\\n    \\nmylist\\n    \",\n",
       "  \"s = 'abcd'\",\n",
       "  's.isalnum()',\n",
       "  \"s = 'ab1234cd'\\ns.isalnum()\",\n",
       "  \"s = 'ab 12'\\ns.isalnum()\",\n",
       "  's.isascii()',\n",
       "  '# to turn a string into a list of strings, use \"split\"\\n# you need to say what character/string is the field delimiter\\n\\ns = \\'a:b:c:d\\'\\ns.split(\\':\\')',\n",
       "  '# to turn a string into a list of strings, use \"split\"\\n# you need to say what character/string is the field delimiter\\n\\ns = \\'a:b:cd:ef:ghi\\'\\ns.split(\\':\\')',\n",
       "  '# to turn a string into a list of strings, use \"split\"\\n# you need to say what character/string is the field delimiter\\n\\ns = \\'a:b:cd:ef:ghi\\'\\nfields = s.split(\\':\\')\\nfields',\n",
       "  \"'*'.join(fields)\",\n",
       "  \"'*'.join(fields)   # returns a string based on '*' and fields\",\n",
       "  '# tuples are basically immutable lists\\n# meaning: you can create them, but you cannot change them.\\n\\nt = (100, 200, 300, 400)\\ntype(t)',\n",
       "  '300 in t',\n",
       "  '# (0) Create two empty lists, one called \"evens\" and one called \"odds\"\\n# (1) Ask the user, again and again, to enter a number.\\n# (2) If they give an empty string, stop asking\\n# (3) If they give a non-numeric input, scold them and try again\\n# (4) If they give a number, then add the number to either\\n# the \"evens\" or \"odds\" list, depending on whether it\\'s even\\n# or odd.\\n# (5) When we exit the loop, print the total + average of \\n# each of the lists (evens and odds).',\n",
       "  \"# to find out if a number is even, then divide it by 2.\\n# if the remainder is 0, it's even.  Otherwise, it's odd.\\n\\n# the % (modulus) operator returns the remainder from \\n# a division problem\\n\\n10 % 2\",\n",
       "  '11 % 2',\n",
       "  'evens = []\\nodds = []\\n\\nwhile True:\\n    x = input(\"Enter a number: \")\\n    \\n    if x == \\'\\':\\n        break\\n        \\n        ',\n",
       "  'evens = []\\nodds = []\\n\\nwhile True:\\n    x = input(\"Enter a number: \")\\n    \\n    if x == \\'\\':\\n        break\\n        \\n    x = int(x)\\n    if x % 2 == 0:\\n        print(f\"{x} is even\")\\n    else:\\n        print(f\\'{x} is odd\\')',\n",
       "  'evens = []\\nodds = []\\n\\nwhile True:\\n    x = input(\"Enter a number: \")\\n    \\n    if x == \\'\\':\\n        break\\n        \\n    x = int(x)\\n    if x % 2 == 0:\\n        print(f\"{x} is even\")\\n    else:\\n        print(f\\'{x} is odd\\')',\n",
       "  'evens = []\\nodds = []\\n\\nwhile True:\\n    x = input(\"Enter a number: \")\\n    \\n    if x == \\'\\':\\n        break\\n        \\n    if x.isdigit():\\n        x = int(x)\\n        if x % 2 == 0:\\n            print(f\"{x} is even\")\\n        else:\\n            print(f\\'{x} is odd\\')\\n            \\n    else:\\n        print(f\\'{x} is not numeric; try again\\')',\n",
       "  'evens = []\\nodds = []\\n\\nwhile True:\\n    x = input(\"Enter a number: \")\\n    \\n    if x == \\'\\':\\n        break\\n        \\n    if x.isdigit():\\n        x = int(x)\\n        if x % 2 == 0:\\n            evens.append(x)\\n        else:\\n            odds.append(x)\\n            \\n    else:\\n        print(f\\'{x} is not numeric; try again\\')',\n",
       "  'evens',\n",
       "  'odds',\n",
       "  \"# get sum + mean of evens\\ntotal = 0\\nfor one_item in evens:\\n    total += one_item\\nprint(f'total of evens is {total}, mean is {total/len(evens)}')\\n\\n# get sum + mean of odds\\ntotal = 0\\nfor one_item in odds:\\n    total += one_item\\nprint(f'total of odds is {total}, mean is {total/len(odds)}')\",\n",
       "  'evens',\n",
       "  'ods',\n",
       "  'odds',\n",
       "  \"for one_list in [evens, odds]:\\n    total = 0\\n    for one_item in one_list:\\n        total += one_item\\n    print(f'total is {total}, mean is {total/len(one_list)}')\",\n",
       "  '# dictionary',\n",
       "  \"for one_list in [evens, odds]:\\n    total = 0\\n    for one_item in one_list:\\n        total += one_item\\n        print(f'total is {total}, mean is {total/len(one_list)}')\",\n",
       "  \"for one_list in [evens, odds]:\\n    total = 0\\n    print(f'Now checking {one_list}')\\n    for one_item in one_list:\\n        total += one_item\\n        print(f'\\\\ttotal is {total}, mean is {total/len(one_list)}')\",\n",
       "  \"for t in [('evens', evens), ('odds', odds)]:\\n    list_name = t[0]\\n    one_list = t[1]\\n\\n    total = 0\\n    print(f'Now checking {one_list}')\\n    for one_item in one_list:\\n        total += one_item\\n        print(f'\\\\ttotal is {total}, mean is {total/len(one_list)}')\",\n",
       "  \"for t in [('evens', evens), ('odds', odds)]:\\n    list_name = t[0]\\n    one_list = t[1]\\n\\n    total = 0\\n    print(f'Now checking {one_list}')\\n    for one_item in one_list:\\n        total += one_item\\n    print(f'\\\\ttotal of {list_name} is {total}, mean is {total/len(one_list)}')\",\n",
       "  'while True:\\n    x = input(\"Please enter a number: \")\\n    \\n    if x == \"\":\\n        break\\n    \\n    if x.isdigit():\\n        x = int(x)\\n        if x % 2 == 0:\\n            evens.append(x)\\n            print (f\"{x} is even.\"\\n            \\n        else:\\n            odds.append(x)\\n            print(f\"{x} is odd.\")\\n            \\n    else:\\n        print(f\"{x} is not a numeric value. Try again.\")',\n",
       "  'while True:\\n    x = input(\"Please enter a number: \")\\n    \\n    if x == \"\":\\n        break\\n    \\n    if x.isdigit():\\n        x = int(x)\\n        if x % 2 == 0:\\n            evens.append(x)\\n            print (f\"{x} is even.\")\\n            \\n        else:\\n            odds.append(x)\\n            print(f\"{x} is odd.\")\\n            \\n    else:\\n        print(f\"{x} is not a numeric value. Try again.\")',\n",
       "  '10 / 2',\n",
       "  '10 / 0',\n",
       "  'mylist = [10, 20, 30]\\n\\nfor one_item in mylist:\\n    print(one_item)',\n",
       "  'mylist = [10, 20, 30]\\n\\nfor an_elephant_at_the_zoo in mylist:\\n    print(an_elephant_at_the_zoo)',\n",
       "  '# rules for Python identifiers (fancy word for variable names)\\n# - starts with a letter or _\\n# - after that, any letter, number, or _\\n# - for as long as you want',\n",
       "  \"# rules for Python identifiers (fancy word for variable names)\\n# - starts with a letter or _\\n# - after that, any letter, number, or _\\n# - for as long as you want\\n# - and it's case sensitive, so Foo and foo are different\",\n",
       "  \"for one_item in 'abcd':\\n    print(one_item)\",\n",
       "  \"for one_letter in '!@#$%':\\n    print(one_letter)\",\n",
       "  \"i = iter('abcd')  # are you iterable?  If so, give me an iterator\",\n",
       "  'next(i)',\n",
       "  'next(i)',\n",
       "  'next(i)',\n",
       "  'next(i)',\n",
       "  'next(i)',\n",
       "  \"mylist = 'this is a test'.split()\\nmylist\",\n",
       "  'mylist[0]',\n",
       "  'mylist[1]',\n",
       "  'mylist[2]',\n",
       "  'mylist[3]',\n",
       "  \"# define dicts with curly braces {} !\\nd = {}\\n\\n# add elements to a dictionary with assignment\\n# I have to assign both a key (index) and a value\\nd[10] = 'hello'\\nd[20] = 'goodbye'\\nd[30] = 'I dunno'\",\n",
       "  '# list indexes are ints, but values are anything\\n# tuple indexes are ints, but values are anything\\n# dict indexes (keys) are ANYTHING IMMUTABLE\\n#    and values are anything\\n\\n# mostly, dict keys are ints and strings',\n",
       "  'd[20]',\n",
       "  'd[30]',\n",
       "  '# dict keys can be strings!!!',\n",
       "  \"d = {}\\nd['first'] = 'Reuven'\\nd['last'] = 'Lerner'\\nd['email'] = 'reuven@lerner.co.il'\\nd['shoesize'] = 46\",\n",
       "  'd',\n",
       "  \"d['first']\",\n",
       "  \"d['last']\",\n",
       "  '# check if a key exists in a dict with \"in\"\\n\\'first\\' in d',\n",
       "  \"'Reuven' in d\",\n",
       "  'd',\n",
       "  \"# let's replace the first name!\\nd['first'] = 'asdfasfaa'\",\n",
       "  'd',\n",
       "  '# (1) Define a dict called \"menu\" in which the item names (strings)\\n# are the dict keys, and the prices are the values\\n\\n# (2) Ask the user repeatedly what they want to order\\n\\n# (3) Based on their response:\\n# - If they enter an empty string, stop asking and print the\\n#   total price\\n# - If they enter the name of something on the menu,\\n#   print the price and the new total\\n# - If they enter the name of something *NOT* on the\\n#   menu, give a poor excuse',\n",
       "  'total = 0\\nmenu = {\\'sandwich\\':10, \\'tea\\':7, \\'soup\\':8}\\nprint(len(menu))\\n\\nwhile True:\\n    order = input(\"Order: \")\\n    \\n    if order == \\'\\':\\n        break\\n    \\n    elif order in menu:\\n        price = menu[order]\\n        total += price\\n        print(f\\'{order} cost {price}; total is now {total}\\')\\n        \\n    else:\\n        print(f\\'We are out of {order} today\\')\\n        \\nprint(f\\'Total is {total}\\')\\n        ',\n",
       "  'mylist = [10, 100, 1000, 5]\\n\\n# use \"in\" to get a True/False on whether something is in a list\\n100 in mylist',\n",
       "  '1000 in mylist',\n",
       "  \"'100' in mylist\",\n",
       "  'd = {\\'a\\':1, \\'b\\':2, \\'c\\':3}\\n\\n# \"in\" on a dict says: Is this item a dict key?\\n\\'a\\' in d  # is \\'a\\' a key in d?',\n",
       "  \"'c' in d\",\n",
       "  \"'c ' in d\",\n",
       "  'menu',\n",
       "  \"'sandwich' in menu\",\n",
       "  \"'tea' in menu\",\n",
       "  \"'tea' in menu\",\n",
       "  \"order = 'tea'\\norder in menu  \",\n",
       "  'menu[order]  # retrieve the value from \"menu\" where the key is order',\n",
       "  'order',\n",
       "  'order',\n",
       "  'menui',\n",
       "  'menu',\n",
       "  'total = 0\\nordered_items = []\\nmenu = {\\'sandwich\\':10, \\'tea\\':7, \\'soup\\':8}\\nprint(len(menu))\\n\\nwhile True:\\n    order = input(\"Order: \")\\n    \\n    if order == \\'\\':\\n        break\\n    \\n    elif order in menu:\\n        price = menu[order]\\n        ordered_items.append(order)\\n        total += price\\n        print(f\\'{order} cost {price}; total is now {total}\\')\\n        \\n    else:\\n        print(f\\'We are out of {order} today\\')\\n        \\nprint(f\\'You ordered {ordered_items}\\')\\nprint(f\\'Total is {total}\\')\\n        ',\n",
       "  'total = 0\\nordered_items = []\\nmenu = {\\'sandwich\\':10, \\'tea\\':7, \\'soup\\':8}\\nprint(len(menu))\\n\\nwhile True:\\n    order = input(\"Order: \")\\n    \\n    if order == \\'\\':\\n        break\\n    \\n    elif order in menu:\\n        price = menu[order]\\n        ordered_items.append(order)\\n        total += price\\n        print(f\\'{order} cost {price}; total is now {total}\\')\\n        \\n    else:\\n        print(f\\'We are out of {order} today\\')\\n        \\ns = \\', \\'.join(ordered_items)\\nprint(f\\'You ordered {s}\\')\\nprint(f\\'Total is {total}\\')\\n        ',\n",
       "  \"mylist = ['abcd', 'efgh', 'ijklm']\\n\\n# join returns a string with the elements of mylist glued together\\n# with '***'\\n'***'.join(mylist)\",\n",
       "  \"', '.join(mylist)\",\n",
       "  \"','.join(mylist)\",\n",
       "  \"'\\\\n'.join(mylist)\",\n",
       "  \"print('\\\\n'.join(mylist))\",\n",
       "  'd = {\\'a\\':1, \\'b\\':2, \\'c\\':3}\\n\\nwhile True:\\n    one_letter = input(\"Enter a letter: \")\\n    \\n    if one_letter == \\'\\':\\n        break\\n        \\n    elif one_letter in d:\\n        d[one_letter] += 1\\n        \\n    else:\\n        print(f\\'{one_letter} is not valid\\')\\n        \\nprint(d)',\n",
       "  'd = {}\\n\\nwhile True:\\n    one_letter = input(\"Enter a letter: \")\\n    \\n    if one_letter == \\'\\':\\n        break\\n        \\n    elif one_letter in d:\\n        # if one_letter is already a key, then add 1 to it\\n        d[one_letter] += 1\\n        \\n    else:\\n        # if one_letter is not yet a key, make it one, with value 1\\n        d[one_letter] = 1\\n        \\nprint(d)',\n",
       "  \"# parser\\n\\nd = {'a':1, 'b':2, 'c':3}\\nkey = 'b'\\n\\nvalue = d[key]\",\n",
       "  'value',\n",
       "  'd = {\\'a\\':1, \\'b\\':2, \\'c\\':\\'3\\'}   \\n\\ntotal = 0\\n\\nwhile True:\\n    k = input(\"Enter key: \")\\n    \\n    if k == \\'\\':\\n        break\\n        \\n    elif k in d:\\n        total += d[k]   # retrieve the value for d[k]\\n        \\n    else:\\n        print(f\\'key {k} is unknown \\')',\n",
       "  'd = {\\'a\\':1, \\'b\\':2, \\'c\\':\\'3\\'}   \\n\\ntotal = 0\\n\\nwhile True:\\n    print(f\\'total = {total}\\')\\n    k = input(\"Enter key: \")\\n    \\n    if k == \\'\\':\\n        break\\n        \\n    elif k in d:\\n        total += d[k]   # retrieve the value for d[k]\\n        \\n    else:\\n        print(f\\'key {k} is unknown \\')\\n\\nprint(f\\'Finally, total = {total}\\')',\n",
       "  'd = {\\'a\\':1, \\'b\\':2, \\'c\\':\\'3\\'}   \\n\\ntotal = 0\\n\\nwhile True:\\n    print(f\\'total = {total}\\')\\n    k = input(\"Enter key: \")\\n    \\n    if k == \\'\\':\\n        break\\n        \\n    elif k in d:\\n        print(f\\'\\\\tYou chose {k}, value is {d[k]}\\')\\n        total += d[k]   # retrieve the value for d[k]\\n        \\n    else:\\n        print(f\\'key {k} is unknown \\')\\n\\nprint(f\\'Finally, total = {total}\\')',\n",
       "  'rainfall = {}\\nwhile True: \\n    city = input(\" Enter your city: \")\\n    \\n    if city == \\'\\':\\n        break\\n    \\n    elif city in rainfall:\\n        amount = input(\"Enter rain amount: \")\\n        if amount.isdigit():\\n            rainfall[city] += int(amount)\\n        else:\\n            print(f\\'{amount} is not valid value! amount try again\\')\\n    \\n    else:\\n        amount = input(\"Enter rain amount: \")\\n        if amount.isdigit():\\n            rainfall[city] = int(amount)\\n        else:\\n            print(f\\'{amount} is not valid value! amount try again\\')\\n            continue\\nprint(f\\'Total rainfall foe each city is as follwos {rainfall}\\')',\n",
       "  'rainfall = {}\\nwhile True: \\n    city = input(\" Enter your city: \")\\n    \\n    if city == \\'\\':\\n        break\\n    \\n    amount = input(\"Enter rain amount: \")\\n    if not amount.isdigit():\\n        print(f\\'{amount} is not valid value! amount try again\\')\\n        continue\\n\\n    if city in rainfall:\\n        rainfall[city] += int(amount)\\n    else:\\n        rainfall[city] = int(amount)\\n\\nprint(f\\'Total rainfall foe each city is as follwos {rainfall}\\')',\n",
       "  \"d = {'a':1, 'b':2, 'c':3}\",\n",
       "  'print(d)',\n",
       "  'for one_item in d:\\n    print(one_item)',\n",
       "  \"for key in d:\\n    print(f'{key}: {d[key]}')\",\n",
       "  \"for key, value in d.items():\\n    print(f'{key}: {value}')\",\n",
       "  'rainfall',\n",
       "  \"for city, mm_rain in rainfall.items():\\n    print(f'{city}: {mm_rain}')\",\n",
       "  \"# store a record about a person in a tuple\\np = ('Reuven', 'Lerner', 46)\\n\\np[0]\",\n",
       "  'p[1]',\n",
       "  'p[2]',\n",
       "  \"# store a record about a person in a dict\\np = {'first': 'Reuven', 'last':'Lerner', 'shoesize':46}\\n\\np['first']\",\n",
       "  \"p['shoesize']\",\n",
       "  'x = 1.2345\\ntype(x)',\n",
       "  '# NumPy -- numeric Python\\n# basically C data with a Python shell/interface',\n",
       "  'mylist = [10, 20, 30]\\n\\nd',\n",
       "  \"d[mylist] = 'hello'\",\n",
       "  '# Python uses a \"hash function\" to store and retrieve dict items',\n",
       "  '20 in mylist',\n",
       "  \"# to find someone's office,\\n# take the first letter of their last name\\n# and use the key a=1, b=2, c=3, ... z=26\\n# they are in that office.\\n\\n# Mary Jones will be in office #10\\n# Tom Smith will be in office #19 \",\n",
       "  'd',\n",
       "  \"'a' in d  \",\n",
       "  'x = 100',\n",
       "  'globals() '],\n",
       " '_oh': {5: ['10', '20', 'abcd', '4b', '5a', '60'],\n",
       "  6: ['10', '20', 'abcd', '4b', '5a', '60'],\n",
       "  8: ['10', '20', 'abcd', '4b', '5a', '60'],\n",
       "  9: ['10', '20', 'abcd', '30', '4b', '5a', '60'],\n",
       "  11: [10, 20, 30, 60],\n",
       "  13: True,\n",
       "  14: True,\n",
       "  15: False,\n",
       "  16: True,\n",
       "  17: ['a', 'b', 'c', 'd'],\n",
       "  18: ['a', 'b', 'cd', 'ef', 'ghi'],\n",
       "  19: ['a', 'b', 'cd', 'ef', 'ghi'],\n",
       "  20: 'a*b*cd*ef*ghi',\n",
       "  21: 'a*b*cd*ef*ghi',\n",
       "  22: tuple,\n",
       "  23: True,\n",
       "  25: 0,\n",
       "  26: 1,\n",
       "  32: [10, 20, 30, 32, 10],\n",
       "  33: [15, 23, 27, 29],\n",
       "  35: [10, 20, 30, 32, 10],\n",
       "  37: [15, 23, 27, 29],\n",
       "  46: 5.0,\n",
       "  55: 'a',\n",
       "  56: 'b',\n",
       "  57: 'c',\n",
       "  58: 'd',\n",
       "  60: ['this', 'is', 'a', 'test'],\n",
       "  61: 'this',\n",
       "  62: 'is',\n",
       "  63: 'a',\n",
       "  64: 'test',\n",
       "  67: 'goodbye',\n",
       "  68: 'I dunno',\n",
       "  71: {'first': 'asdfasfaa',\n",
       "   'last': 'Lerner',\n",
       "   'email': 'reuven@lerner.co.il',\n",
       "   'shoesize': 46},\n",
       "  72: 'Reuven',\n",
       "  73: 'Lerner',\n",
       "  74: True,\n",
       "  75: False,\n",
       "  76: {'first': 'asdfasfaa',\n",
       "   'last': 'Lerner',\n",
       "   'email': 'reuven@lerner.co.il',\n",
       "   'shoesize': 46},\n",
       "  78: {'first': 'asdfasfaa',\n",
       "   'last': 'Lerner',\n",
       "   'email': 'reuven@lerner.co.il',\n",
       "   'shoesize': 46},\n",
       "  81: True,\n",
       "  82: True,\n",
       "  83: False,\n",
       "  84: True,\n",
       "  85: True,\n",
       "  86: False,\n",
       "  87: {'sandwich': 10, 'tea': 7, 'soup': 8},\n",
       "  88: True,\n",
       "  89: True,\n",
       "  90: True,\n",
       "  91: True,\n",
       "  92: 7,\n",
       "  93: 'tea',\n",
       "  94: 'tea',\n",
       "  96: {'sandwich': 10, 'tea': 7, 'soup': 8},\n",
       "  99: 'abcd***efgh***ijklm',\n",
       "  100: 'abcd, efgh, ijklm',\n",
       "  101: 'abcd,efgh,ijklm',\n",
       "  102: 'abcd\\nefgh\\nijklm',\n",
       "  107: 2,\n",
       "  118: {'a': 4, 'b': 2},\n",
       "  120: 'Reuven',\n",
       "  121: 'Lerner',\n",
       "  122: 46,\n",
       "  123: 'Reuven',\n",
       "  124: 46,\n",
       "  125: float,\n",
       "  127: {'a': 1, 'b': 2, 'c': 3},\n",
       "  130: True,\n",
       "  132: {'a': 1, 'b': 2, 'c': 3},\n",
       "  133: True},\n",
       " '_dh': ['/home/student'],\n",
       " 'In': ['',\n",
       "  '# None\\n# True, False (boolean values)\\n# numbers -- int, float\\n# strings\\n# lists, tuples\\n\\n# dict -- dictionary\\n# files -- reading, writing ',\n",
       "  '# http://pythontutor.com',\n",
       "  '# strings, lists, and tuples are all sequences\\n\\n# they can all:\\n# - index with [i]  (a number in [])\\n# - retrieve multiple items with a slice [start:end]\\n# - search with \"in\"\\n# - run a \"for\" loop on their elements\\n# - use \"len\" to get the length\\n\\n# but:\\n# - strings only contain characters (strings of length 1)\\n# - strings + tuples are immutable (they cannot be changed)\\n# - only lists\\' elements can be modified\\n# - only lists can get bigger and smaller after being created',\n",
       "  \"mylist = []\\n\\ns = '10 20 abcd 30 4b 5a 60'\\nfor one_item in s.split():\\n    print(one_item)\\n    \",\n",
       "  \"mylist = []\\n\\ns = '10 20 abcd 30 4b 5a 60'\\nfor one_item in s.split():\\n    mylist.append(one_item)\\n    \\nmylist\\n    \",\n",
       "  'mylist',\n",
       "  \"mylist.remove('30')  # removes one version of '30' from the list\",\n",
       "  'mylist',\n",
       "  \"mylist = []\\n\\ns = '10 20 abcd 30 4b 5a 60'\\nfor one_item in s.split():\\n    mylist.append(one_item)\\n    \\nmylist\\n    \",\n",
       "  \"mylist = []\\n\\ns = '10 20 abcd 30 4b 5a 60'\\nfor one_item in s.split():\\n    mylist.append(int(one_item))\\n    \\nmylist\\n    \",\n",
       "  \"mylist = []\\n\\ns = '10 20 abcd 30 4b 5a 60'\\nfor one_item in s.split():\\n    if one_item.isdigit():\\n        mylist.append(int(one_item))\\n    \\nmylist\\n    \",\n",
       "  \"s = 'abcd'\",\n",
       "  's.isalnum()',\n",
       "  \"s = 'ab1234cd'\\ns.isalnum()\",\n",
       "  \"s = 'ab 12'\\ns.isalnum()\",\n",
       "  's.isascii()',\n",
       "  '# to turn a string into a list of strings, use \"split\"\\n# you need to say what character/string is the field delimiter\\n\\ns = \\'a:b:c:d\\'\\ns.split(\\':\\')',\n",
       "  '# to turn a string into a list of strings, use \"split\"\\n# you need to say what character/string is the field delimiter\\n\\ns = \\'a:b:cd:ef:ghi\\'\\ns.split(\\':\\')',\n",
       "  '# to turn a string into a list of strings, use \"split\"\\n# you need to say what character/string is the field delimiter\\n\\ns = \\'a:b:cd:ef:ghi\\'\\nfields = s.split(\\':\\')\\nfields',\n",
       "  \"'*'.join(fields)\",\n",
       "  \"'*'.join(fields)   # returns a string based on '*' and fields\",\n",
       "  '# tuples are basically immutable lists\\n# meaning: you can create them, but you cannot change them.\\n\\nt = (100, 200, 300, 400)\\ntype(t)',\n",
       "  '300 in t',\n",
       "  '# (0) Create two empty lists, one called \"evens\" and one called \"odds\"\\n# (1) Ask the user, again and again, to enter a number.\\n# (2) If they give an empty string, stop asking\\n# (3) If they give a non-numeric input, scold them and try again\\n# (4) If they give a number, then add the number to either\\n# the \"evens\" or \"odds\" list, depending on whether it\\'s even\\n# or odd.\\n# (5) When we exit the loop, print the total + average of \\n# each of the lists (evens and odds).',\n",
       "  \"# to find out if a number is even, then divide it by 2.\\n# if the remainder is 0, it's even.  Otherwise, it's odd.\\n\\n# the % (modulus) operator returns the remainder from \\n# a division problem\\n\\n10 % 2\",\n",
       "  '11 % 2',\n",
       "  'evens = []\\nodds = []\\n\\nwhile True:\\n    x = input(\"Enter a number: \")\\n    \\n    if x == \\'\\':\\n        break\\n        \\n        ',\n",
       "  'evens = []\\nodds = []\\n\\nwhile True:\\n    x = input(\"Enter a number: \")\\n    \\n    if x == \\'\\':\\n        break\\n        \\n    x = int(x)\\n    if x % 2 == 0:\\n        print(f\"{x} is even\")\\n    else:\\n        print(f\\'{x} is odd\\')',\n",
       "  'evens = []\\nodds = []\\n\\nwhile True:\\n    x = input(\"Enter a number: \")\\n    \\n    if x == \\'\\':\\n        break\\n        \\n    x = int(x)\\n    if x % 2 == 0:\\n        print(f\"{x} is even\")\\n    else:\\n        print(f\\'{x} is odd\\')',\n",
       "  'evens = []\\nodds = []\\n\\nwhile True:\\n    x = input(\"Enter a number: \")\\n    \\n    if x == \\'\\':\\n        break\\n        \\n    if x.isdigit():\\n        x = int(x)\\n        if x % 2 == 0:\\n            print(f\"{x} is even\")\\n        else:\\n            print(f\\'{x} is odd\\')\\n            \\n    else:\\n        print(f\\'{x} is not numeric; try again\\')',\n",
       "  'evens = []\\nodds = []\\n\\nwhile True:\\n    x = input(\"Enter a number: \")\\n    \\n    if x == \\'\\':\\n        break\\n        \\n    if x.isdigit():\\n        x = int(x)\\n        if x % 2 == 0:\\n            evens.append(x)\\n        else:\\n            odds.append(x)\\n            \\n    else:\\n        print(f\\'{x} is not numeric; try again\\')',\n",
       "  'evens',\n",
       "  'odds',\n",
       "  \"# get sum + mean of evens\\ntotal = 0\\nfor one_item in evens:\\n    total += one_item\\nprint(f'total of evens is {total}, mean is {total/len(evens)}')\\n\\n# get sum + mean of odds\\ntotal = 0\\nfor one_item in odds:\\n    total += one_item\\nprint(f'total of odds is {total}, mean is {total/len(odds)}')\",\n",
       "  'evens',\n",
       "  'ods',\n",
       "  'odds',\n",
       "  \"for one_list in [evens, odds]:\\n    total = 0\\n    for one_item in one_list:\\n        total += one_item\\n    print(f'total is {total}, mean is {total/len(one_list)}')\",\n",
       "  '# dictionary',\n",
       "  \"for one_list in [evens, odds]:\\n    total = 0\\n    for one_item in one_list:\\n        total += one_item\\n        print(f'total is {total}, mean is {total/len(one_list)}')\",\n",
       "  \"for one_list in [evens, odds]:\\n    total = 0\\n    print(f'Now checking {one_list}')\\n    for one_item in one_list:\\n        total += one_item\\n        print(f'\\\\ttotal is {total}, mean is {total/len(one_list)}')\",\n",
       "  \"for t in [('evens', evens), ('odds', odds)]:\\n    list_name = t[0]\\n    one_list = t[1]\\n\\n    total = 0\\n    print(f'Now checking {one_list}')\\n    for one_item in one_list:\\n        total += one_item\\n        print(f'\\\\ttotal is {total}, mean is {total/len(one_list)}')\",\n",
       "  \"for t in [('evens', evens), ('odds', odds)]:\\n    list_name = t[0]\\n    one_list = t[1]\\n\\n    total = 0\\n    print(f'Now checking {one_list}')\\n    for one_item in one_list:\\n        total += one_item\\n    print(f'\\\\ttotal of {list_name} is {total}, mean is {total/len(one_list)}')\",\n",
       "  'while True:\\n    x = input(\"Please enter a number: \")\\n    \\n    if x == \"\":\\n        break\\n    \\n    if x.isdigit():\\n        x = int(x)\\n        if x % 2 == 0:\\n            evens.append(x)\\n            print (f\"{x} is even.\"\\n            \\n        else:\\n            odds.append(x)\\n            print(f\"{x} is odd.\")\\n            \\n    else:\\n        print(f\"{x} is not a numeric value. Try again.\")',\n",
       "  'while True:\\n    x = input(\"Please enter a number: \")\\n    \\n    if x == \"\":\\n        break\\n    \\n    if x.isdigit():\\n        x = int(x)\\n        if x % 2 == 0:\\n            evens.append(x)\\n            print (f\"{x} is even.\")\\n            \\n        else:\\n            odds.append(x)\\n            print(f\"{x} is odd.\")\\n            \\n    else:\\n        print(f\"{x} is not a numeric value. Try again.\")',\n",
       "  '10 / 2',\n",
       "  '10 / 0',\n",
       "  'mylist = [10, 20, 30]\\n\\nfor one_item in mylist:\\n    print(one_item)',\n",
       "  'mylist = [10, 20, 30]\\n\\nfor an_elephant_at_the_zoo in mylist:\\n    print(an_elephant_at_the_zoo)',\n",
       "  '# rules for Python identifiers (fancy word for variable names)\\n# - starts with a letter or _\\n# - after that, any letter, number, or _\\n# - for as long as you want',\n",
       "  \"# rules for Python identifiers (fancy word for variable names)\\n# - starts with a letter or _\\n# - after that, any letter, number, or _\\n# - for as long as you want\\n# - and it's case sensitive, so Foo and foo are different\",\n",
       "  \"for one_item in 'abcd':\\n    print(one_item)\",\n",
       "  \"for one_letter in '!@#$%':\\n    print(one_letter)\",\n",
       "  \"i = iter('abcd')  # are you iterable?  If so, give me an iterator\",\n",
       "  'next(i)',\n",
       "  'next(i)',\n",
       "  'next(i)',\n",
       "  'next(i)',\n",
       "  'next(i)',\n",
       "  \"mylist = 'this is a test'.split()\\nmylist\",\n",
       "  'mylist[0]',\n",
       "  'mylist[1]',\n",
       "  'mylist[2]',\n",
       "  'mylist[3]',\n",
       "  \"# define dicts with curly braces {} !\\nd = {}\\n\\n# add elements to a dictionary with assignment\\n# I have to assign both a key (index) and a value\\nd[10] = 'hello'\\nd[20] = 'goodbye'\\nd[30] = 'I dunno'\",\n",
       "  '# list indexes are ints, but values are anything\\n# tuple indexes are ints, but values are anything\\n# dict indexes (keys) are ANYTHING IMMUTABLE\\n#    and values are anything\\n\\n# mostly, dict keys are ints and strings',\n",
       "  'd[20]',\n",
       "  'd[30]',\n",
       "  '# dict keys can be strings!!!',\n",
       "  \"d = {}\\nd['first'] = 'Reuven'\\nd['last'] = 'Lerner'\\nd['email'] = 'reuven@lerner.co.il'\\nd['shoesize'] = 46\",\n",
       "  'd',\n",
       "  \"d['first']\",\n",
       "  \"d['last']\",\n",
       "  '# check if a key exists in a dict with \"in\"\\n\\'first\\' in d',\n",
       "  \"'Reuven' in d\",\n",
       "  'd',\n",
       "  \"# let's replace the first name!\\nd['first'] = 'asdfasfaa'\",\n",
       "  'd',\n",
       "  '# (1) Define a dict called \"menu\" in which the item names (strings)\\n# are the dict keys, and the prices are the values\\n\\n# (2) Ask the user repeatedly what they want to order\\n\\n# (3) Based on their response:\\n# - If they enter an empty string, stop asking and print the\\n#   total price\\n# - If they enter the name of something on the menu,\\n#   print the price and the new total\\n# - If they enter the name of something *NOT* on the\\n#   menu, give a poor excuse',\n",
       "  'total = 0\\nmenu = {\\'sandwich\\':10, \\'tea\\':7, \\'soup\\':8}\\nprint(len(menu))\\n\\nwhile True:\\n    order = input(\"Order: \")\\n    \\n    if order == \\'\\':\\n        break\\n    \\n    elif order in menu:\\n        price = menu[order]\\n        total += price\\n        print(f\\'{order} cost {price}; total is now {total}\\')\\n        \\n    else:\\n        print(f\\'We are out of {order} today\\')\\n        \\nprint(f\\'Total is {total}\\')\\n        ',\n",
       "  'mylist = [10, 100, 1000, 5]\\n\\n# use \"in\" to get a True/False on whether something is in a list\\n100 in mylist',\n",
       "  '1000 in mylist',\n",
       "  \"'100' in mylist\",\n",
       "  'd = {\\'a\\':1, \\'b\\':2, \\'c\\':3}\\n\\n# \"in\" on a dict says: Is this item a dict key?\\n\\'a\\' in d  # is \\'a\\' a key in d?',\n",
       "  \"'c' in d\",\n",
       "  \"'c ' in d\",\n",
       "  'menu',\n",
       "  \"'sandwich' in menu\",\n",
       "  \"'tea' in menu\",\n",
       "  \"'tea' in menu\",\n",
       "  \"order = 'tea'\\norder in menu  \",\n",
       "  'menu[order]  # retrieve the value from \"menu\" where the key is order',\n",
       "  'order',\n",
       "  'order',\n",
       "  'menui',\n",
       "  'menu',\n",
       "  'total = 0\\nordered_items = []\\nmenu = {\\'sandwich\\':10, \\'tea\\':7, \\'soup\\':8}\\nprint(len(menu))\\n\\nwhile True:\\n    order = input(\"Order: \")\\n    \\n    if order == \\'\\':\\n        break\\n    \\n    elif order in menu:\\n        price = menu[order]\\n        ordered_items.append(order)\\n        total += price\\n        print(f\\'{order} cost {price}; total is now {total}\\')\\n        \\n    else:\\n        print(f\\'We are out of {order} today\\')\\n        \\nprint(f\\'You ordered {ordered_items}\\')\\nprint(f\\'Total is {total}\\')\\n        ',\n",
       "  'total = 0\\nordered_items = []\\nmenu = {\\'sandwich\\':10, \\'tea\\':7, \\'soup\\':8}\\nprint(len(menu))\\n\\nwhile True:\\n    order = input(\"Order: \")\\n    \\n    if order == \\'\\':\\n        break\\n    \\n    elif order in menu:\\n        price = menu[order]\\n        ordered_items.append(order)\\n        total += price\\n        print(f\\'{order} cost {price}; total is now {total}\\')\\n        \\n    else:\\n        print(f\\'We are out of {order} today\\')\\n        \\ns = \\', \\'.join(ordered_items)\\nprint(f\\'You ordered {s}\\')\\nprint(f\\'Total is {total}\\')\\n        ',\n",
       "  \"mylist = ['abcd', 'efgh', 'ijklm']\\n\\n# join returns a string with the elements of mylist glued together\\n# with '***'\\n'***'.join(mylist)\",\n",
       "  \"', '.join(mylist)\",\n",
       "  \"','.join(mylist)\",\n",
       "  \"'\\\\n'.join(mylist)\",\n",
       "  \"print('\\\\n'.join(mylist))\",\n",
       "  'd = {\\'a\\':1, \\'b\\':2, \\'c\\':3}\\n\\nwhile True:\\n    one_letter = input(\"Enter a letter: \")\\n    \\n    if one_letter == \\'\\':\\n        break\\n        \\n    elif one_letter in d:\\n        d[one_letter] += 1\\n        \\n    else:\\n        print(f\\'{one_letter} is not valid\\')\\n        \\nprint(d)',\n",
       "  'd = {}\\n\\nwhile True:\\n    one_letter = input(\"Enter a letter: \")\\n    \\n    if one_letter == \\'\\':\\n        break\\n        \\n    elif one_letter in d:\\n        # if one_letter is already a key, then add 1 to it\\n        d[one_letter] += 1\\n        \\n    else:\\n        # if one_letter is not yet a key, make it one, with value 1\\n        d[one_letter] = 1\\n        \\nprint(d)',\n",
       "  \"# parser\\n\\nd = {'a':1, 'b':2, 'c':3}\\nkey = 'b'\\n\\nvalue = d[key]\",\n",
       "  'value',\n",
       "  'd = {\\'a\\':1, \\'b\\':2, \\'c\\':\\'3\\'}   \\n\\ntotal = 0\\n\\nwhile True:\\n    k = input(\"Enter key: \")\\n    \\n    if k == \\'\\':\\n        break\\n        \\n    elif k in d:\\n        total += d[k]   # retrieve the value for d[k]\\n        \\n    else:\\n        print(f\\'key {k} is unknown \\')',\n",
       "  'd = {\\'a\\':1, \\'b\\':2, \\'c\\':\\'3\\'}   \\n\\ntotal = 0\\n\\nwhile True:\\n    print(f\\'total = {total}\\')\\n    k = input(\"Enter key: \")\\n    \\n    if k == \\'\\':\\n        break\\n        \\n    elif k in d:\\n        total += d[k]   # retrieve the value for d[k]\\n        \\n    else:\\n        print(f\\'key {k} is unknown \\')\\n\\nprint(f\\'Finally, total = {total}\\')',\n",
       "  'd = {\\'a\\':1, \\'b\\':2, \\'c\\':\\'3\\'}   \\n\\ntotal = 0\\n\\nwhile True:\\n    print(f\\'total = {total}\\')\\n    k = input(\"Enter key: \")\\n    \\n    if k == \\'\\':\\n        break\\n        \\n    elif k in d:\\n        print(f\\'\\\\tYou chose {k}, value is {d[k]}\\')\\n        total += d[k]   # retrieve the value for d[k]\\n        \\n    else:\\n        print(f\\'key {k} is unknown \\')\\n\\nprint(f\\'Finally, total = {total}\\')',\n",
       "  'rainfall = {}\\nwhile True: \\n    city = input(\" Enter your city: \")\\n    \\n    if city == \\'\\':\\n        break\\n    \\n    elif city in rainfall:\\n        amount = input(\"Enter rain amount: \")\\n        if amount.isdigit():\\n            rainfall[city] += int(amount)\\n        else:\\n            print(f\\'{amount} is not valid value! amount try again\\')\\n    \\n    else:\\n        amount = input(\"Enter rain amount: \")\\n        if amount.isdigit():\\n            rainfall[city] = int(amount)\\n        else:\\n            print(f\\'{amount} is not valid value! amount try again\\')\\n            continue\\nprint(f\\'Total rainfall foe each city is as follwos {rainfall}\\')',\n",
       "  'rainfall = {}\\nwhile True: \\n    city = input(\" Enter your city: \")\\n    \\n    if city == \\'\\':\\n        break\\n    \\n    amount = input(\"Enter rain amount: \")\\n    if not amount.isdigit():\\n        print(f\\'{amount} is not valid value! amount try again\\')\\n        continue\\n\\n    if city in rainfall:\\n        rainfall[city] += int(amount)\\n    else:\\n        rainfall[city] = int(amount)\\n\\nprint(f\\'Total rainfall foe each city is as follwos {rainfall}\\')',\n",
       "  \"d = {'a':1, 'b':2, 'c':3}\",\n",
       "  'print(d)',\n",
       "  'for one_item in d:\\n    print(one_item)',\n",
       "  \"for key in d:\\n    print(f'{key}: {d[key]}')\",\n",
       "  \"for key, value in d.items():\\n    print(f'{key}: {value}')\",\n",
       "  'rainfall',\n",
       "  \"for city, mm_rain in rainfall.items():\\n    print(f'{city}: {mm_rain}')\",\n",
       "  \"# store a record about a person in a tuple\\np = ('Reuven', 'Lerner', 46)\\n\\np[0]\",\n",
       "  'p[1]',\n",
       "  'p[2]',\n",
       "  \"# store a record about a person in a dict\\np = {'first': 'Reuven', 'last':'Lerner', 'shoesize':46}\\n\\np['first']\",\n",
       "  \"p['shoesize']\",\n",
       "  'x = 1.2345\\ntype(x)',\n",
       "  '# NumPy -- numeric Python\\n# basically C data with a Python shell/interface',\n",
       "  'mylist = [10, 20, 30]\\n\\nd',\n",
       "  \"d[mylist] = 'hello'\",\n",
       "  '# Python uses a \"hash function\" to store and retrieve dict items',\n",
       "  '20 in mylist',\n",
       "  \"# to find someone's office,\\n# take the first letter of their last name\\n# and use the key a=1, b=2, c=3, ... z=26\\n# they are in that office.\\n\\n# Mary Jones will be in office #10\\n# Tom Smith will be in office #19 \",\n",
       "  'd',\n",
       "  \"'a' in d  \",\n",
       "  'x = 100',\n",
       "  'globals() '],\n",
       " 'Out': {5: ['10', '20', 'abcd', '4b', '5a', '60'],\n",
       "  6: ['10', '20', 'abcd', '4b', '5a', '60'],\n",
       "  8: ['10', '20', 'abcd', '4b', '5a', '60'],\n",
       "  9: ['10', '20', 'abcd', '30', '4b', '5a', '60'],\n",
       "  11: [10, 20, 30, 60],\n",
       "  13: True,\n",
       "  14: True,\n",
       "  15: False,\n",
       "  16: True,\n",
       "  17: ['a', 'b', 'c', 'd'],\n",
       "  18: ['a', 'b', 'cd', 'ef', 'ghi'],\n",
       "  19: ['a', 'b', 'cd', 'ef', 'ghi'],\n",
       "  20: 'a*b*cd*ef*ghi',\n",
       "  21: 'a*b*cd*ef*ghi',\n",
       "  22: tuple,\n",
       "  23: True,\n",
       "  25: 0,\n",
       "  26: 1,\n",
       "  32: [10, 20, 30, 32, 10],\n",
       "  33: [15, 23, 27, 29],\n",
       "  35: [10, 20, 30, 32, 10],\n",
       "  37: [15, 23, 27, 29],\n",
       "  46: 5.0,\n",
       "  55: 'a',\n",
       "  56: 'b',\n",
       "  57: 'c',\n",
       "  58: 'd',\n",
       "  60: ['this', 'is', 'a', 'test'],\n",
       "  61: 'this',\n",
       "  62: 'is',\n",
       "  63: 'a',\n",
       "  64: 'test',\n",
       "  67: 'goodbye',\n",
       "  68: 'I dunno',\n",
       "  71: {'first': 'asdfasfaa',\n",
       "   'last': 'Lerner',\n",
       "   'email': 'reuven@lerner.co.il',\n",
       "   'shoesize': 46},\n",
       "  72: 'Reuven',\n",
       "  73: 'Lerner',\n",
       "  74: True,\n",
       "  75: False,\n",
       "  76: {'first': 'asdfasfaa',\n",
       "   'last': 'Lerner',\n",
       "   'email': 'reuven@lerner.co.il',\n",
       "   'shoesize': 46},\n",
       "  78: {'first': 'asdfasfaa',\n",
       "   'last': 'Lerner',\n",
       "   'email': 'reuven@lerner.co.il',\n",
       "   'shoesize': 46},\n",
       "  81: True,\n",
       "  82: True,\n",
       "  83: False,\n",
       "  84: True,\n",
       "  85: True,\n",
       "  86: False,\n",
       "  87: {'sandwich': 10, 'tea': 7, 'soup': 8},\n",
       "  88: True,\n",
       "  89: True,\n",
       "  90: True,\n",
       "  91: True,\n",
       "  92: 7,\n",
       "  93: 'tea',\n",
       "  94: 'tea',\n",
       "  96: {'sandwich': 10, 'tea': 7, 'soup': 8},\n",
       "  99: 'abcd***efgh***ijklm',\n",
       "  100: 'abcd, efgh, ijklm',\n",
       "  101: 'abcd,efgh,ijklm',\n",
       "  102: 'abcd\\nefgh\\nijklm',\n",
       "  107: 2,\n",
       "  118: {'a': 4, 'b': 2},\n",
       "  120: 'Reuven',\n",
       "  121: 'Lerner',\n",
       "  122: 46,\n",
       "  123: 'Reuven',\n",
       "  124: 46,\n",
       "  125: float,\n",
       "  127: {'a': 1, 'b': 2, 'c': 3},\n",
       "  130: True,\n",
       "  132: {'a': 1, 'b': 2, 'c': 3},\n",
       "  133: True},\n",
       " 'get_ipython': <bound method InteractiveShell.get_ipython of <ipykernel.zmqshell.ZMQInteractiveShell object at 0x7f9bfb20fc90>>,\n",
       " 'exit': <IPython.core.autocall.ZMQExitAutocall at 0x7f9bf874d410>,\n",
       " 'quit': <IPython.core.autocall.ZMQExitAutocall at 0x7f9bf874d410>,\n",
       " '_': True,\n",
       " '__': {'a': 1, 'b': 2, 'c': 3},\n",
       " '___': True,\n",
       " '_i': 'x = 100',\n",
       " '_ii': \"'a' in d  \",\n",
       " '_iii': 'd',\n",
       " '_i1': '# None\\n# True, False (boolean values)\\n# numbers -- int, float\\n# strings\\n# lists, tuples\\n\\n# dict -- dictionary\\n# files -- reading, writing ',\n",
       " '_i2': '# http://pythontutor.com',\n",
       " '_i3': '# strings, lists, and tuples are all sequences\\n\\n# they can all:\\n# - index with [i]  (a number in [])\\n# - retrieve multiple items with a slice [start:end]\\n# - search with \"in\"\\n# - run a \"for\" loop on their elements\\n# - use \"len\" to get the length\\n\\n# but:\\n# - strings only contain characters (strings of length 1)\\n# - strings + tuples are immutable (they cannot be changed)\\n# - only lists\\' elements can be modified\\n# - only lists can get bigger and smaller after being created',\n",
       " '_i4': \"mylist = []\\n\\ns = '10 20 abcd 30 4b 5a 60'\\nfor one_item in s.split():\\n    print(one_item)\\n    \",\n",
       " 'mylist': [10, 20, 30],\n",
       " 's': 'tea, sandwich, soup',\n",
       " 'one_item': 'c',\n",
       " '_i5': \"mylist = []\\n\\ns = '10 20 abcd 30 4b 5a 60'\\nfor one_item in s.split():\\n    mylist.append(one_item)\\n    \\nmylist\\n    \",\n",
       " '_5': ['10', '20', 'abcd', '4b', '5a', '60'],\n",
       " '_i6': 'mylist',\n",
       " '_6': ['10', '20', 'abcd', '4b', '5a', '60'],\n",
       " '_i7': \"mylist.remove('30')  # removes one version of '30' from the list\",\n",
       " '_i8': 'mylist',\n",
       " '_8': ['10', '20', 'abcd', '4b', '5a', '60'],\n",
       " '_i9': \"mylist = []\\n\\ns = '10 20 abcd 30 4b 5a 60'\\nfor one_item in s.split():\\n    mylist.append(one_item)\\n    \\nmylist\\n    \",\n",
       " '_9': ['10', '20', 'abcd', '30', '4b', '5a', '60'],\n",
       " '_i10': \"mylist = []\\n\\ns = '10 20 abcd 30 4b 5a 60'\\nfor one_item in s.split():\\n    mylist.append(int(one_item))\\n    \\nmylist\\n    \",\n",
       " '_i11': \"mylist = []\\n\\ns = '10 20 abcd 30 4b 5a 60'\\nfor one_item in s.split():\\n    if one_item.isdigit():\\n        mylist.append(int(one_item))\\n    \\nmylist\\n    \",\n",
       " '_11': [10, 20, 30, 60],\n",
       " '_i12': \"s = 'abcd'\",\n",
       " '_i13': 's.isalnum()',\n",
       " '_13': True,\n",
       " '_i14': \"s = 'ab1234cd'\\ns.isalnum()\",\n",
       " '_14': True,\n",
       " '_i15': \"s = 'ab 12'\\ns.isalnum()\",\n",
       " '_15': False,\n",
       " '_i16': 's.isascii()',\n",
       " '_16': True,\n",
       " '_i17': '# to turn a string into a list of strings, use \"split\"\\n# you need to say what character/string is the field delimiter\\n\\ns = \\'a:b:c:d\\'\\ns.split(\\':\\')',\n",
       " '_17': ['a', 'b', 'c', 'd'],\n",
       " '_i18': '# to turn a string into a list of strings, use \"split\"\\n# you need to say what character/string is the field delimiter\\n\\ns = \\'a:b:cd:ef:ghi\\'\\ns.split(\\':\\')',\n",
       " '_18': ['a', 'b', 'cd', 'ef', 'ghi'],\n",
       " '_i19': '# to turn a string into a list of strings, use \"split\"\\n# you need to say what character/string is the field delimiter\\n\\ns = \\'a:b:cd:ef:ghi\\'\\nfields = s.split(\\':\\')\\nfields',\n",
       " 'fields': ['a', 'b', 'cd', 'ef', 'ghi'],\n",
       " '_19': ['a', 'b', 'cd', 'ef', 'ghi'],\n",
       " '_i20': \"'*'.join(fields)\",\n",
       " '_20': 'a*b*cd*ef*ghi',\n",
       " '_i21': \"'*'.join(fields)   # returns a string based on '*' and fields\",\n",
       " '_21': 'a*b*cd*ef*ghi',\n",
       " '_i22': '# tuples are basically immutable lists\\n# meaning: you can create them, but you cannot change them.\\n\\nt = (100, 200, 300, 400)\\ntype(t)',\n",
       " 't': ('odds', [15, 23, 27, 29]),\n",
       " '_22': tuple,\n",
       " '_i23': '300 in t',\n",
       " '_23': True,\n",
       " '_i24': '# (0) Create two empty lists, one called \"evens\" and one called \"odds\"\\n# (1) Ask the user, again and again, to enter a number.\\n# (2) If they give an empty string, stop asking\\n# (3) If they give a non-numeric input, scold them and try again\\n# (4) If they give a number, then add the number to either\\n# the \"evens\" or \"odds\" list, depending on whether it\\'s even\\n# or odd.\\n# (5) When we exit the loop, print the total + average of \\n# each of the lists (evens and odds).',\n",
       " '_i25': \"# to find out if a number is even, then divide it by 2.\\n# if the remainder is 0, it's even.  Otherwise, it's odd.\\n\\n# the % (modulus) operator returns the remainder from \\n# a division problem\\n\\n10 % 2\",\n",
       " '_25': 0,\n",
       " '_i26': '11 % 2',\n",
       " '_26': 1,\n",
       " '_i27': 'evens = []\\nodds = []\\n\\nwhile True:\\n    x = input(\"Enter a number: \")\\n    \\n    if x == \\'\\':\\n        break\\n        \\n        ',\n",
       " 'evens': [10, 20, 30, 32, 10],\n",
       " 'odds': [15, 23, 27, 29],\n",
       " 'x': 100,\n",
       " '_i28': 'evens = []\\nodds = []\\n\\nwhile True:\\n    x = input(\"Enter a number: \")\\n    \\n    if x == \\'\\':\\n        break\\n        \\n    x = int(x)\\n    if x % 2 == 0:\\n        print(f\"{x} is even\")\\n    else:\\n        print(f\\'{x} is odd\\')',\n",
       " '_i29': 'evens = []\\nodds = []\\n\\nwhile True:\\n    x = input(\"Enter a number: \")\\n    \\n    if x == \\'\\':\\n        break\\n        \\n    x = int(x)\\n    if x % 2 == 0:\\n        print(f\"{x} is even\")\\n    else:\\n        print(f\\'{x} is odd\\')',\n",
       " '_i30': 'evens = []\\nodds = []\\n\\nwhile True:\\n    x = input(\"Enter a number: \")\\n    \\n    if x == \\'\\':\\n        break\\n        \\n    if x.isdigit():\\n        x = int(x)\\n        if x % 2 == 0:\\n            print(f\"{x} is even\")\\n        else:\\n            print(f\\'{x} is odd\\')\\n            \\n    else:\\n        print(f\\'{x} is not numeric; try again\\')',\n",
       " '_i31': 'evens = []\\nodds = []\\n\\nwhile True:\\n    x = input(\"Enter a number: \")\\n    \\n    if x == \\'\\':\\n        break\\n        \\n    if x.isdigit():\\n        x = int(x)\\n        if x % 2 == 0:\\n            evens.append(x)\\n        else:\\n            odds.append(x)\\n            \\n    else:\\n        print(f\\'{x} is not numeric; try again\\')',\n",
       " '_i32': 'evens',\n",
       " '_32': [10, 20, 30, 32, 10],\n",
       " '_i33': 'odds',\n",
       " '_33': [15, 23, 27, 29],\n",
       " '_i34': \"\\n# get sum + mean of evens\\ntotal = 0\\nfor one_item in evens:\\n    total += one_item\\nprint(f'total of evens is {total}, mean is {total/len(evens)}')\\n\\n# get sum + mean of odds\\ntotal = 0\\nfor one_item in odds:\\n    total += one_item\\nprint(f'total of odds is {total}, mean is {total/len(odds)}')\",\n",
       " 'total': 3,\n",
       " '_i35': 'evens',\n",
       " '_35': [10, 20, 30, 32, 10],\n",
       " '_i36': 'ods',\n",
       " '_i37': 'odds',\n",
       " '_37': [15, 23, 27, 29],\n",
       " '_i38': \"for one_list in [evens, odds]:\\n    total = 0\\n    for one_item in one_list:\\n        total += one_item\\n    print(f'total is {total}, mean is {total/len(one_list)}')\",\n",
       " 'one_list': [15, 23, 27, 29],\n",
       " '_i39': '# dictionary',\n",
       " '_i40': \"for one_list in [evens, odds]:\\n    total = 0\\n    for one_item in one_list:\\n        total += one_item\\n        print(f'total is {total}, mean is {total/len(one_list)}')\",\n",
       " '_i41': \"for one_list in [evens, odds]:\\n    total = 0\\n    print(f'Now checking {one_list}')\\n    for one_item in one_list:\\n        total += one_item\\n        print(f'\\\\ttotal is {total}, mean is {total/len(one_list)}')\",\n",
       " '_i42': \"for t in [('evens', evens), ('odds', odds)]:\\n    list_name = t[0]\\n    one_list = t[1]\\n\\n    total = 0\\n    print(f'Now checking {one_list}')\\n    for one_item in one_list:\\n        total += one_item\\n        print(f'\\\\ttotal is {total}, mean is {total/len(one_list)}')\",\n",
       " 'list_name': 'odds',\n",
       " '_i43': \"for t in [('evens', evens), ('odds', odds)]:\\n    list_name = t[0]\\n    one_list = t[1]\\n\\n    total = 0\\n    print(f'Now checking {one_list}')\\n    for one_item in one_list:\\n        total += one_item\\n    print(f'\\\\ttotal of {list_name} is {total}, mean is {total/len(one_list)}')\",\n",
       " '_i44': 'while True:\\n    x = input(\"Please enter a number: \")\\n    \\n    if x == \"\":\\n        break\\n    \\n    if x.isdigit():\\n        x = int(x)\\n        if x % 2 == 0:\\n            evens.append(x)\\n            print (f\"{x} is even.\"\\n            \\n        else:\\n            odds.append(x)\\n            print(f\"{x} is odd.\")\\n            \\n    else:\\n        print(f\"{x} is not a numeric value. Try again.\")',\n",
       " '_i45': 'while True:\\n    x = input(\"Please enter a number: \")\\n    \\n    if x == \"\":\\n        break\\n    \\n    if x.isdigit():\\n        x = int(x)\\n        if x % 2 == 0:\\n            evens.append(x)\\n            print (f\"{x} is even.\")\\n            \\n        else:\\n            odds.append(x)\\n            print(f\"{x} is odd.\")\\n            \\n    else:\\n        print(f\"{x} is not a numeric value. Try again.\")',\n",
       " '_i46': '10 / 2',\n",
       " '_46': 5.0,\n",
       " '_i47': '10 / 0',\n",
       " '_i48': 'mylist = [10, 20, 30]\\n\\nfor one_item in mylist:\\n    print(one_item)',\n",
       " '_i49': 'mylist = [10, 20, 30]\\n\\nfor an_elephant_at_the_zoo in mylist:\\n    print(an_elephant_at_the_zoo)',\n",
       " 'an_elephant_at_the_zoo': 30,\n",
       " '_i50': '# rules for Python identifiers (fancy word for variable names)\\n# - starts with a letter or _\\n# - after that, any letter, number, or _\\n# - for as long as you want',\n",
       " '_i51': \"# rules for Python identifiers (fancy word for variable names)\\n# - starts with a letter or _\\n# - after that, any letter, number, or _\\n# - for as long as you want\\n# - and it's case sensitive, so Foo and foo are different\",\n",
       " '_i52': \"for one_item in 'abcd':\\n    print(one_item)\",\n",
       " '_i53': \"for one_letter in '!@#$%':\\n    print(one_letter)\",\n",
       " 'one_letter': '',\n",
       " '_i54': \"i = iter('abcd')  # are you iterable?  If so, give me an iterator\",\n",
       " 'i': <str_iterator at 0x7f9bdf0774d0>,\n",
       " '_i55': 'next(i)',\n",
       " '_55': 'a',\n",
       " '_i56': 'next(i)',\n",
       " '_56': 'b',\n",
       " '_i57': 'next(i)',\n",
       " '_57': 'c',\n",
       " '_i58': 'next(i)',\n",
       " '_58': 'd',\n",
       " '_i59': 'next(i)',\n",
       " '_i60': \"mylist = 'this is a test'.split()\\nmylist\",\n",
       " '_60': ['this', 'is', 'a', 'test'],\n",
       " '_i61': 'mylist[0]',\n",
       " '_61': 'this',\n",
       " '_i62': 'mylist[1]',\n",
       " '_62': 'is',\n",
       " '_i63': 'mylist[2]',\n",
       " '_63': 'a',\n",
       " '_i64': 'mylist[3]',\n",
       " '_64': 'test',\n",
       " '_i65': \"# define dicts with curly braces {} !\\nd = {}\\n\\n# add elements to a dictionary with assignment\\n# I have to assign both a key (index) and a value\\nd[10] = 'hello'\\nd[20] = 'goodbye'\\nd[30] = 'I dunno'\",\n",
       " 'd': {'a': 1, 'b': 2, 'c': 3},\n",
       " '_i66': '# list indexes are ints, but values are anything\\n# tuple indexes are ints, but values are anything\\n# dict indexes (keys) are ANYTHING IMMUTABLE\\n#    and values are anything\\n\\n# mostly, dict keys are ints and strings',\n",
       " '_i67': 'd[20]',\n",
       " '_67': 'goodbye',\n",
       " '_i68': 'd[30]',\n",
       " '_68': 'I dunno',\n",
       " '_i69': '# dict keys can be strings!!!',\n",
       " '_i70': \"d = {}\\nd['first'] = 'Reuven'\\nd['last'] = 'Lerner'\\nd['email'] = 'reuven@lerner.co.il'\\nd['shoesize'] = 46\",\n",
       " '_i71': 'd',\n",
       " '_71': {'first': 'asdfasfaa',\n",
       "  'last': 'Lerner',\n",
       "  'email': 'reuven@lerner.co.il',\n",
       "  'shoesize': 46},\n",
       " '_i72': \"d['first']\",\n",
       " '_72': 'Reuven',\n",
       " '_i73': \"d['last']\",\n",
       " '_73': 'Lerner',\n",
       " '_i74': '# check if a key exists in a dict with \"in\"\\n\\'first\\' in d',\n",
       " '_74': True,\n",
       " '_i75': \"'Reuven' in d\",\n",
       " '_75': False,\n",
       " '_i76': 'd',\n",
       " '_76': {'first': 'asdfasfaa',\n",
       "  'last': 'Lerner',\n",
       "  'email': 'reuven@lerner.co.il',\n",
       "  'shoesize': 46},\n",
       " '_i77': \"# let's replace the first name!\\nd['first'] = 'asdfasfaa'\",\n",
       " '_i78': 'd',\n",
       " '_78': {'first': 'asdfasfaa',\n",
       "  'last': 'Lerner',\n",
       "  'email': 'reuven@lerner.co.il',\n",
       "  'shoesize': 46},\n",
       " '_i79': '# (1) Define a dict called \"menu\" in which the item names (strings)\\n# are the dict keys, and the prices are the values\\n\\n# (2) Ask the user repeatedly what they want to order\\n\\n# (3) Based on their response:\\n# - If they enter an empty string, stop asking and print the\\n#   total price\\n# - If they enter the name of something on the menu,\\n#   print the price and the new total\\n# - If they enter the name of something *NOT* on the\\n#   menu, give a poor excuse',\n",
       " '_i80': 'total = 0\\nmenu = {\\'sandwich\\':10, \\'tea\\':7, \\'soup\\':8}\\nprint(len(menu))\\n\\nwhile True:\\n    order = input(\"Order: \")\\n    \\n    if order == \\'\\':\\n        break\\n    \\n    elif order in menu:\\n        price = menu[order]\\n        total += price\\n        print(f\\'{order} cost {price}; total is now {total}\\')\\n        \\n    else:\\n        print(f\\'We are out of {order} today\\')\\n        \\nprint(f\\'Total is {total}\\')\\n        ',\n",
       " 'menu': {'sandwich': 10, 'tea': 7, 'soup': 8},\n",
       " 'order': '',\n",
       " '_i81': 'mylist = [10, 100, 1000, 5]\\n\\n# use \"in\" to get a True/False on whether something is in a list\\n100 in mylist',\n",
       " '_81': True,\n",
       " '_i82': '1000 in mylist',\n",
       " '_82': True,\n",
       " '_i83': \"'100' in mylist\",\n",
       " '_83': False,\n",
       " '_i84': 'd = {\\'a\\':1, \\'b\\':2, \\'c\\':3}\\n\\n# \"in\" on a dict says: Is this item a dict key?\\n\\'a\\' in d  # is \\'a\\' a key in d?',\n",
       " '_84': True,\n",
       " '_i85': \"'c' in d\",\n",
       " '_85': True,\n",
       " '_i86': \"'c ' in d\",\n",
       " '_86': False,\n",
       " '_i87': 'menu',\n",
       " '_87': {'sandwich': 10, 'tea': 7, 'soup': 8},\n",
       " '_i88': \"'sandwich' in menu\",\n",
       " '_88': True,\n",
       " '_i89': \"'tea' in menu\",\n",
       " '_89': True,\n",
       " '_i90': \"'tea' in menu\",\n",
       " '_90': True,\n",
       " '_i91': \"order = 'tea'\\norder in menu  \",\n",
       " '_91': True,\n",
       " '_i92': 'menu[order]  # retrieve the value from \"menu\" where the key is order',\n",
       " '_92': 7,\n",
       " '_i93': 'order',\n",
       " '_93': 'tea',\n",
       " '_i94': 'order',\n",
       " '_94': 'tea',\n",
       " '_i95': 'menui',\n",
       " '_i96': 'menu',\n",
       " '_96': {'sandwich': 10, 'tea': 7, 'soup': 8},\n",
       " '_i97': 'total = 0\\nordered_items = []\\nmenu = {\\'sandwich\\':10, \\'tea\\':7, \\'soup\\':8}\\nprint(len(menu))\\n\\nwhile True:\\n    order = input(\"Order: \")\\n    \\n    if order == \\'\\':\\n        break\\n    \\n    elif order in menu:\\n        price = menu[order]\\n        ordered_items.append(order)\\n        total += price\\n        print(f\\'{order} cost {price}; total is now {total}\\')\\n        \\n    else:\\n        print(f\\'We are out of {order} today\\')\\n        \\nprint(f\\'You ordered {ordered_items}\\')\\nprint(f\\'Total is {total}\\')\\n        ',\n",
       " 'ordered_items': ['tea', 'sandwich', 'soup'],\n",
       " 'price': 8,\n",
       " '_i98': 'total = 0\\nordered_items = []\\nmenu = {\\'sandwich\\':10, \\'tea\\':7, \\'soup\\':8}\\nprint(len(menu))\\n\\nwhile True:\\n    order = input(\"Order: \")\\n    \\n    if order == \\'\\':\\n        break\\n    \\n    elif order in menu:\\n        price = menu[order]\\n        ordered_items.append(order)\\n        total += price\\n        print(f\\'{order} cost {price}; total is now {total}\\')\\n        \\n    else:\\n        print(f\\'We are out of {order} today\\')\\n        \\ns = \\', \\'.join(ordered_items)\\nprint(f\\'You ordered {s}\\')\\nprint(f\\'Total is {total}\\')\\n        ',\n",
       " '_i99': \"mylist = ['abcd', 'efgh', 'ijklm']\\n\\n# join returns a string with the elements of mylist glued together\\n# with '***'\\n'***'.join(mylist)\",\n",
       " '_99': 'abcd***efgh***ijklm',\n",
       " '_i100': \"', '.join(mylist)\",\n",
       " '_100': 'abcd, efgh, ijklm',\n",
       " '_i101': \"','.join(mylist)\",\n",
       " '_101': 'abcd,efgh,ijklm',\n",
       " '_i102': \"'\\\\n'.join(mylist)\",\n",
       " '_102': 'abcd\\nefgh\\nijklm',\n",
       " '_i103': \"print('\\\\n'.join(mylist))\",\n",
       " '_i104': 'd = {\\'a\\':1, \\'b\\':2, \\'c\\':3}\\n\\nwhile True:\\n    one_letter = input(\"Enter a letter: \")\\n    \\n    if one_letter == \\'\\':\\n        break\\n        \\n    elif one_letter in d:\\n        d[one_letter] += 1\\n        \\n    else:\\n        print(f\\'{one_letter} is not valid\\')\\n        \\nprint(d)',\n",
       " '_i105': 'd = {}\\n\\nwhile True:\\n    one_letter = input(\"Enter a letter: \")\\n    \\n    if one_letter == \\'\\':\\n        break\\n        \\n    elif one_letter in d:\\n        # if one_letter is already a key, then add 1 to it\\n        d[one_letter] += 1\\n        \\n    else:\\n        # if one_letter is not yet a key, make it one, with value 1\\n        d[one_letter] = 1\\n        \\nprint(d)',\n",
       " '_i106': \"# parser\\n\\nd = {'a':1, 'b':2, 'c':3}\\nkey = 'b'\\n\\nvalue = d[key]\",\n",
       " 'key': 'c',\n",
       " 'value': 3,\n",
       " '_i107': 'value',\n",
       " '_107': 2,\n",
       " '_i108': 'd = {\\'a\\':1, \\'b\\':2, \\'c\\':\\'3\\'}   \\n\\ntotal = 0\\n\\nwhile True:\\n    k = input(\"Enter key: \")\\n    \\n    if k == \\'\\':\\n        break\\n        \\n    elif k in d:\\n        total += d[k]   # retrieve the value for d[k]\\n        \\n    else:\\n        print(f\\'key {k} is unknown \\')',\n",
       " 'k': 'c',\n",
       " '_i109': 'd = {\\'a\\':1, \\'b\\':2, \\'c\\':\\'3\\'}   \\n\\ntotal = 0\\n\\nwhile True:\\n    print(f\\'total = {total}\\')\\n    k = input(\"Enter key: \")\\n    \\n    if k == \\'\\':\\n        break\\n        \\n    elif k in d:\\n        total += d[k]   # retrieve the value for d[k]\\n        \\n    else:\\n        print(f\\'key {k} is unknown \\')\\n\\nprint(f\\'Finally, total = {total}\\')',\n",
       " '_i110': 'd = {\\'a\\':1, \\'b\\':2, \\'c\\':\\'3\\'}   \\n\\ntotal = 0\\n\\nwhile True:\\n    print(f\\'total = {total}\\')\\n    k = input(\"Enter key: \")\\n    \\n    if k == \\'\\':\\n        break\\n        \\n    elif k in d:\\n        print(f\\'\\\\tYou chose {k}, value is {d[k]}\\')\\n        total += d[k]   # retrieve the value for d[k]\\n        \\n    else:\\n        print(f\\'key {k} is unknown \\')\\n\\nprint(f\\'Finally, total = {total}\\')',\n",
       " '_i111': 'rainfall = {}\\nwhile True: \\n    city = input(\" Enter your city: \")\\n    \\n    if city == \\'\\':\\n        break\\n    \\n    elif city in rainfall:\\n        amount = input(\"Enter rain amount: \")\\n        if amount.isdigit():\\n            rainfall[city] += int(amount)\\n        else:\\n            print(f\\'{amount} is not valid value! amount try again\\')\\n    \\n    else:\\n        amount = input(\"Enter rain amount: \")\\n        if amount.isdigit():\\n            rainfall[city] = int(amount)\\n        else:\\n            print(f\\'{amount} is not valid value! amount try again\\')\\n            continue\\nprint(f\\'Total rainfall foe each city is as follwos {rainfall}\\')',\n",
       " 'rainfall': {'a': 4, 'b': 2},\n",
       " 'city': 'b',\n",
       " 'amount': '3',\n",
       " '_i112': 'rainfall = {}\\nwhile True: \\n    city = input(\" Enter your city: \")\\n    \\n    if city == \\'\\':\\n        break\\n    \\n    amount = input(\"Enter rain amount: \")\\n    if not amount.isdigit():\\n        print(f\\'{amount} is not valid value! amount try again\\')\\n        continue\\n\\n    if city in rainfall:\\n        rainfall[city] += int(amount)\\n    else:\\n        rainfall[city] = int(amount)\\n\\nprint(f\\'Total rainfall foe each city is as follwos {rainfall}\\')',\n",
       " '_i113': \"d = {'a':1, 'b':2, 'c':3}\",\n",
       " '_i114': 'print(d)',\n",
       " '_i115': 'for one_item in d:\\n    print(one_item)',\n",
       " '_i116': \"for key in d:\\n    print(f'{key}: {d[key]}')\",\n",
       " '_i117': \"for key, value in d.items():\\n    print(f'{key}: {value}')\",\n",
       " '_i118': 'rainfall',\n",
       " '_118': {'a': 4, 'b': 2},\n",
       " '_i119': \"for city, mm_rain in rainfall.items():\\n    print(f'{city}: {mm_rain}')\",\n",
       " 'mm_rain': 2,\n",
       " '_i120': \"# store a record about a person in a tuple\\np = ('Reuven', 'Lerner', 46)\\n\\np[0]\",\n",
       " 'p': {'first': 'Reuven', 'last': 'Lerner', 'shoesize': 46},\n",
       " '_120': 'Reuven',\n",
       " '_i121': 'p[1]',\n",
       " '_121': 'Lerner',\n",
       " '_i122': 'p[2]',\n",
       " '_122': 46,\n",
       " '_i123': \"# store a record about a person in a dict\\np = {'first': 'Reuven', 'last':'Lerner', 'shoesize':46}\\n\\np['first']\",\n",
       " '_123': 'Reuven',\n",
       " '_i124': \"p['shoesize']\",\n",
       " '_124': 46,\n",
       " '_i125': 'x = 1.2345\\ntype(x)',\n",
       " '_125': float,\n",
       " '_i126': '# NumPy -- numeric Python\\n# basically C data with a Python shell/interface',\n",
       " '_i127': 'mylist = [10, 20, 30]\\n\\nd',\n",
       " '_127': {'a': 1, 'b': 2, 'c': 3},\n",
       " '_i128': \"d[mylist] = 'hello'\",\n",
       " '_i129': '# Python uses a \"hash function\" to store and retrieve dict items',\n",
       " '_i130': '20 in mylist',\n",
       " '_130': True,\n",
       " '_i131': \"# to find someone's office,\\n# take the first letter of their last name\\n# and use the key a=1, b=2, c=3, ... z=26\\n# they are in that office.\\n\\n# Mary Jones will be in office #10\\n# Tom Smith will be in office #19 \",\n",
       " '_i132': 'd',\n",
       " '_132': {'a': 1, 'b': 2, 'c': 3},\n",
       " '_i133': \"'a' in d  \",\n",
       " '_133': True,\n",
       " '_i134': 'x = 100',\n",
       " '_i135': 'globals() '}"
      ]
     },
     "execution_count": 135,
     "metadata": {},
     "output_type": "execute_result"
    }
   ],
   "source": [
    "globals() "
   ]
  },
  {
   "cell_type": "code",
   "execution_count": 136,
   "metadata": {},
   "outputs": [
    {
     "ename": "FileNotFoundError",
     "evalue": "[Errno 2] No such file or directory: 'myfile.txt'",
     "output_type": "error",
     "traceback": [
      "\u001b[0;31m---------------------------------------------------------------------------\u001b[0m",
      "\u001b[0;31mFileNotFoundError\u001b[0m                         Traceback (most recent call last)",
      "\u001b[0;32m<ipython-input-136-82b23e18dc96>\u001b[0m in \u001b[0;36m<module>\u001b[0;34m\u001b[0m\n\u001b[0;32m----> 1\u001b[0;31m \u001b[0mopen\u001b[0m\u001b[0;34m(\u001b[0m\u001b[0;34m'myfile.txt'\u001b[0m\u001b[0;34m)\u001b[0m\u001b[0;34m\u001b[0m\u001b[0;34m\u001b[0m\u001b[0m\n\u001b[0m",
      "\u001b[0;31mFileNotFoundError\u001b[0m: [Errno 2] No such file or directory: 'myfile.txt'"
     ]
    }
   ],
   "source": [
    "open('myfile.txt')  # looks in the current directory!"
   ]
  },
  {
   "cell_type": "code",
   "execution_count": 137,
   "metadata": {},
   "outputs": [
    {
     "data": {
      "text/plain": [
       "<_io.TextIOWrapper name='/etc/passwd' mode='r' encoding='UTF-8'>"
      ]
     },
     "execution_count": 137,
     "metadata": {},
     "output_type": "execute_result"
    }
   ],
   "source": [
    "open('/etc/passwd')  # looks at the \"passwd\" file in '/etc/' on the Linux box"
   ]
  },
  {
   "cell_type": "code",
   "execution_count": 138,
   "metadata": {},
   "outputs": [
    {
     "ename": "FileNotFoundError",
     "evalue": "[Errno 2] No such file or directory: 'c:\\\\abc\\\\def\\\\ghi.txt'",
     "output_type": "error",
     "traceback": [
      "\u001b[0;31m---------------------------------------------------------------------------\u001b[0m",
      "\u001b[0;31mFileNotFoundError\u001b[0m                         Traceback (most recent call last)",
      "\u001b[0;32m<ipython-input-138-3f1aaa230c76>\u001b[0m in \u001b[0;36m<module>\u001b[0;34m\u001b[0m\n\u001b[0;32m----> 1\u001b[0;31m \u001b[0mopen\u001b[0m\u001b[0;34m(\u001b[0m\u001b[0;34mr'c:\\abc\\def\\ghi.txt'\u001b[0m\u001b[0;34m)\u001b[0m\u001b[0;34m\u001b[0m\u001b[0;34m\u001b[0m\u001b[0m\n\u001b[0m",
      "\u001b[0;31mFileNotFoundError\u001b[0m: [Errno 2] No such file or directory: 'c:\\\\abc\\\\def\\\\ghi.txt'"
     ]
    }
   ],
   "source": [
    "open(r'c:\\abc\\def\\ghi.txt')"
   ]
  },
  {
   "cell_type": "code",
   "execution_count": 140,
   "metadata": {},
   "outputs": [
    {
     "name": "stdout",
     "output_type": "stream",
     "text": [
      "linux-etc-passwd.txt\r\n",
      "mini-access-log.txt\r\n",
      "nums.txt\r\n",
      "shoe-data.txt\r\n",
      "wcfile.txt\r\n"
     ]
    }
   ],
   "source": [
    "%ls -1 *.txt"
   ]
  },
  {
   "cell_type": "code",
   "execution_count": 141,
   "metadata": {},
   "outputs": [],
   "source": [
    "# (1) use \"open\" to open the file, and get a file object back\n",
    "#  - the file object is my connection/agent to working with the file\n",
    "#  - open is for *reading* by default  "
   ]
  },
  {
   "cell_type": "code",
   "execution_count": 142,
   "metadata": {},
   "outputs": [],
   "source": [
    "# (2) Given the file object, we can use the \"read\" method to retrieve\n",
    "# the file's contents as a string"
   ]
  },
  {
   "cell_type": "code",
   "execution_count": 1,
   "metadata": {},
   "outputs": [
    {
     "name": "stdout",
     "output_type": "stream",
     "text": [
      "root:x:0:0:root:/root:/bin/bash\n",
      "daemon:x:1:1:daemon:/usr/sbin:/usr/sbin/nologin\n",
      "bin:x:2:2:bin:/bin:/usr/sbin/nologin\n",
      "sys:x:3:3:sys:/dev:/usr/sbin/nologin\n",
      "sync:x:4:65534:sync:/bin:/bin/sync\n",
      "games:x:5:60:games:/usr/games:/usr/sbin/nologin\n",
      "man:x:6:12:man:/var/cache/man:/usr/sbin/nologin\n",
      "lp:x:7:7:lp:/var/spool/lpd:/usr/sbin/nologin\n",
      "mail:x:8:8:mail:/var/mail:/usr/sbin/nologin\n",
      "news:x:9:9:news:/var/spool/news:/usr/sbin/nologin\n",
      "uucp:x:10:10:uucp:/var/spool/uucp:/usr/sbin/nologin\n",
      "proxy:x:13:13:proxy:/bin:/usr/sbin/nologin\n",
      "www-data:x:33:33:www-data:/var/www:/usr/sbin/nologin\n",
      "backup:x:34:34:backup:/var/backups:/usr/sbin/nologin\n",
      "list:x:38:38:Mailing List Manager:/var/list:/usr/sbin/nologin\n",
      "irc:x:39:39:ircd:/var/run/ircd:/usr/sbin/nologin\n",
      "gnats:x:41:41:Gnats Bug-Reporting System (admin):/var/lib/gnats:/usr/sbin/nologin\n",
      "nobody:x:65534:65534:nobody:/nonexistent:/usr/sbin/nologin\n",
      "systemd-timesync:x:100:102:systemd Time Synchronization,,,:/run/systemd:/usr/sbin/nologin\n",
      "systemd-network:x:101:103:systemd Network Management,,,:/run/systemd:/usr/sbin/nologin\n",
      "systemd-resolve:x:102:104:systemd Resolver,,,:/run/systemd:/usr/sbin/nologin\n",
      "messagebus:x:103:106::/nonexistent:/usr/sbin/nologin\n",
      "syslog:x:104:110::/home/syslog:/usr/sbin/nologin\n",
      "_apt:x:105:65534::/nonexistent:/usr/sbin/nologin\n",
      "uuidd:x:106:111::/run/uuidd:/usr/sbin/nologin\n",
      "tcpdump:x:107:112::/nonexistent:/usr/sbin/nologin\n",
      "sshd:x:108:65534::/run/sshd:/usr/sbin/nologin\n",
      "landscape:x:109:114::/var/lib/landscape:/usr/sbin/nologin\n",
      "pollinate:x:110:1::/var/cache/pollinate:/bin/false\n",
      "systemd-coredump:x:999:999:systemd Core Dumper:/:/usr/sbin/nologin\n",
      "lxd:x:998:100::/var/snap/lxd/common/lxd:/bin/false\n",
      "student:x:1000:1000:,,,:/home/student:/bin/bash\n",
      "\n"
     ]
    }
   ],
   "source": [
    "f = open('/etc/passwd')  # open for reading, assign to f\n",
    "print(f.read())          # f.read() returns a string... print it"
   ]
  },
  {
   "cell_type": "code",
   "execution_count": 144,
   "metadata": {},
   "outputs": [
    {
     "name": "stdout",
     "output_type": "stream",
     "text": [
      "/home/student\r\n"
     ]
    }
   ],
   "source": [
    "!pwd"
   ]
  },
  {
   "cell_type": "code",
   "execution_count": 2,
   "metadata": {},
   "outputs": [
    {
     "data": {
      "text/plain": [
       "<_io.TextIOWrapper name='/etc/passwd' mode='r' encoding='UTF-8'>"
      ]
     },
     "execution_count": 2,
     "metadata": {},
     "output_type": "execute_result"
    }
   ],
   "source": [
    "f"
   ]
  },
  {
   "cell_type": "code",
   "execution_count": 3,
   "metadata": {},
   "outputs": [
    {
     "name": "stdout",
     "output_type": "stream",
     "text": [
      "root:x:0:0:root:/root:/bin/bash\n",
      "daemon:x:1:1:daemon:/usr/sbin:/usr/sbin/nologin\n",
      "bin:x:2:2:bin:/bin:/usr/sbin/nologin\n",
      "sys:x:3:3:sys:/dev:/usr/sbin/nologin\n",
      "sync:x:4:65534:sync:/bin:/bin/sync\n",
      "games:x:5:60:games:/usr/games:/usr/sbin/nologin\n",
      "man:x:6:12:man:/var/cache/man:/usr/sbin/nologin\n",
      "lp:x:7:7:lp:/var/spool/lpd:/usr/sbin/nologin\n",
      "mail:x:8:8:mail:/var/mail:/usr/sbin/nologin\n",
      "news:x:9:9:news:/var/spool/news:/usr/sbin/nologin\n",
      "uucp:x:10:10:uucp:/var/spool/uucp:/usr/sbin/nologin\n",
      "proxy:x:13:13:proxy:/bin:/usr/sbin/nologin\n",
      "www-data:x:33:33:www-data:/var/www:/usr/sbin/nologin\n",
      "backup:x:34:34:backup:/var/backups:/usr/sbin/nologin\n",
      "list:x:38:38:Mailing List Manager:/var/list:/usr/sbin/nologin\n",
      "irc:x:39:39:ircd:/var/run/ircd:/usr/sbin/nologin\n",
      "gnats:x:41:41:Gnats Bug-Reporting System (admin):/var/lib/gnats:/usr/sbin/nologin\n",
      "nobody:x:65534:65534:nobody:/nonexistent:/usr/sbin/nologin\n",
      "systemd-timesync:x:100:102:systemd Time Synchronization,,,:/run/systemd:/usr/sbin/nologin\n",
      "systemd-network:x:101:103:systemd Network Management,,,:/run/systemd:/usr/sbin/nologin\n",
      "systemd-resolve:x:102:104:systemd Resolver,,,:/run/systemd:/usr/sbin/nologin\n",
      "messagebus:x:103:106::/nonexistent:/usr/sbin/nologin\n",
      "syslog:x:104:110::/home/syslog:/usr/sbin/nologin\n",
      "_apt:x:105:65534::/nonexistent:/usr/sbin/nologin\n",
      "uuidd:x:106:111::/run/uuidd:/usr/sbin/nologin\n",
      "tcpdump:x:107:112::/nonexistent:/usr/sbin/nologin\n",
      "sshd:x:108:65534::/run/sshd:/usr/sbin/nologin\n",
      "landscape:x:109:114::/var/lib/landscape:/usr/sbin/nologin\n",
      "pollinate:x:110:1::/var/cache/pollinate:/bin/false\n",
      "systemd-coredump:x:999:999:systemd Core Dumper:/:/usr/sbin/nologin\n",
      "lxd:x:998:100::/var/snap/lxd/common/lxd:/bin/false\n",
      "student:x:1000:1000:,,,:/home/student:/bin/bash\n",
      "\n"
     ]
    }
   ],
   "source": [
    "f = open('/etc/passwd')  # open for reading, assign to f\n",
    "print(f.read())          # f.read() returns a string... print it\n",
    "f.close()    # we don't care about this file any more... release memory"
   ]
  },
  {
   "cell_type": "code",
   "execution_count": 4,
   "metadata": {},
   "outputs": [
    {
     "data": {
      "text/plain": [
       "<_io.TextIOWrapper name='/etc/passwd' mode='r' encoding='UTF-8'>"
      ]
     },
     "execution_count": 4,
     "metadata": {},
     "output_type": "execute_result"
    }
   ],
   "source": [
    "f"
   ]
  },
  {
   "cell_type": "code",
   "execution_count": 5,
   "metadata": {},
   "outputs": [
    {
     "data": {
      "text/plain": [
       "True"
      ]
     },
     "execution_count": 5,
     "metadata": {},
     "output_type": "execute_result"
    }
   ],
   "source": [
    "f.closed"
   ]
  },
  {
   "cell_type": "code",
   "execution_count": 6,
   "metadata": {},
   "outputs": [
    {
     "ename": "ValueError",
     "evalue": "I/O operation on closed file.",
     "output_type": "error",
     "traceback": [
      "\u001b[0;31m---------------------------------------------------------------------------\u001b[0m",
      "\u001b[0;31mValueError\u001b[0m                                Traceback (most recent call last)",
      "\u001b[0;32m<ipython-input-6-571e9fb02258>\u001b[0m in \u001b[0;36m<module>\u001b[0;34m\u001b[0m\n\u001b[0;32m----> 1\u001b[0;31m \u001b[0mf\u001b[0m\u001b[0;34m.\u001b[0m\u001b[0mread\u001b[0m\u001b[0;34m(\u001b[0m\u001b[0;34m)\u001b[0m\u001b[0;34m\u001b[0m\u001b[0;34m\u001b[0m\u001b[0m\n\u001b[0m",
      "\u001b[0;31mValueError\u001b[0m: I/O operation on closed file."
     ]
    }
   ],
   "source": [
    "f.read()"
   ]
  },
  {
   "cell_type": "code",
   "execution_count": 9,
   "metadata": {
    "collapsed": true
   },
   "outputs": [
    {
     "name": "stdout",
     "output_type": "stream",
     "text": [
      "root:x:0:0:root:/root:/bin/bash\n",
      "daemon:x:1:1:daemon:/usr/sbin:/usr/sbin/nologin\n",
      "bin:x:2:2:bin:/bin:/usr/sbin/nologin\n",
      "sys:x:3:3:sys:/dev:/usr/sbin/nologin\n",
      "sync:x:4:65534:sync:/bin:/bin/sync\n",
      "games:x:5:60:games:/usr/games:/usr/sbin/nologin\n",
      "man:x:6:12:man:/var/cache/man:/usr/sbin/nologin\n",
      "lp:x:7:7:lp:/var/spool/lpd:/usr/sbin/nologin\n",
      "mail:x:8:8:mail:/var/mail:/usr/sbin/nologin\n",
      "news:x:9:9:news:/var/spool/news:/usr/sbin/nologin\n",
      "uucp:x:10:10:uucp:/var/spool/uucp:/usr/sbin/nologin\n",
      "proxy:x:13:13:proxy:/bin:/usr/sbin/nologin\n",
      "www-data:x:33:33:www-data:/var/www:/usr/sbin/nologin\n",
      "backup:x:34:34:backup:/var/backups:/usr/sbin/nologin\n",
      "list:x:38:38:Mailing List Manager:/var/list:/usr/sbin/nologin\n",
      "irc:x:39:39:ircd:/var/run/ircd:/usr/sbin/nologin\n",
      "gnats:x:41:41:Gnats Bug-Reporting System (admin):/var/lib/gnats:/usr/sbin/nologin\n",
      "nobody:x:65534:65534:nobody:/nonexistent:/usr/sbin/nologin\n",
      "systemd-timesync:x:100:102:systemd Time Synchronization,,,:/run/systemd:/usr/sbin/nologin\n",
      "systemd-network:x:101:103:systemd Network Management,,,:/run/systemd:/usr/sbin/nologin\n",
      "systemd-resolve:x:102:104:systemd Resolver,,,:/run/systemd:/usr/sbin/nologin\n",
      "messagebus:x:103:106::/nonexistent:/usr/sbin/nologin\n",
      "syslog:x:104:110::/home/syslog:/usr/sbin/nologin\n",
      "_apt:x:105:65534::/nonexistent:/usr/sbin/nologin\n",
      "uuidd:x:106:111::/run/uuidd:/usr/sbin/nologin\n",
      "tcpdump:x:107:112::/nonexistent:/usr/sbin/nologin\n",
      "sshd:x:108:65534::/run/sshd:/usr/sbin/nologin\n",
      "landscape:x:109:114::/var/lib/landscape:/usr/sbin/nologin\n",
      "pollinate:x:110:1::/var/cache/pollinate:/bin/false\n",
      "systemd-coredump:x:999:999:systemd Core Dumper:/:/usr/sbin/nologin\n",
      "lxd:x:998:100::/var/snap/lxd/common/lxd:/bin/false\n",
      "student:x:1000:1000:,,,:/home/student:/bin/bash\n"
     ]
    }
   ],
   "source": [
    "f = open('/etc/passwd')\n",
    "for one_item in f:\n",
    "    print(one_item, end='')\n",
    "f.close()"
   ]
  },
  {
   "cell_type": "code",
   "execution_count": 10,
   "metadata": {},
   "outputs": [
    {
     "name": "stdout",
     "output_type": "stream",
     "text": [
      "root:x:0:0:root:/root:/bin/bash\n",
      "daemon:x:1:1:daemon:/usr/sbin:/usr/sbin/nologin\n",
      "bin:x:2:2:bin:/bin:/usr/sbin/nologin\n",
      "sys:x:3:3:sys:/dev:/usr/sbin/nologin\n",
      "sync:x:4:65534:sync:/bin:/bin/sync\n",
      "games:x:5:60:games:/usr/games:/usr/sbin/nologin\n",
      "man:x:6:12:man:/var/cache/man:/usr/sbin/nologin\n",
      "lp:x:7:7:lp:/var/spool/lpd:/usr/sbin/nologin\n",
      "mail:x:8:8:mail:/var/mail:/usr/sbin/nologin\n",
      "news:x:9:9:news:/var/spool/news:/usr/sbin/nologin\n",
      "uucp:x:10:10:uucp:/var/spool/uucp:/usr/sbin/nologin\n",
      "proxy:x:13:13:proxy:/bin:/usr/sbin/nologin\n",
      "www-data:x:33:33:www-data:/var/www:/usr/sbin/nologin\n",
      "backup:x:34:34:backup:/var/backups:/usr/sbin/nologin\n",
      "list:x:38:38:Mailing List Manager:/var/list:/usr/sbin/nologin\n",
      "irc:x:39:39:ircd:/var/run/ircd:/usr/sbin/nologin\n",
      "gnats:x:41:41:Gnats Bug-Reporting System (admin):/var/lib/gnats:/usr/sbin/nologin\n",
      "nobody:x:65534:65534:nobody:/nonexistent:/usr/sbin/nologin\n",
      "systemd-timesync:x:100:102:systemd Time Synchronization,,,:/run/systemd:/usr/sbin/nologin\n",
      "systemd-network:x:101:103:systemd Network Management,,,:/run/systemd:/usr/sbin/nologin\n",
      "systemd-resolve:x:102:104:systemd Resolver,,,:/run/systemd:/usr/sbin/nologin\n",
      "messagebus:x:103:106::/nonexistent:/usr/sbin/nologin\n",
      "syslog:x:104:110::/home/syslog:/usr/sbin/nologin\n",
      "_apt:x:105:65534::/nonexistent:/usr/sbin/nologin\n",
      "uuidd:x:106:111::/run/uuidd:/usr/sbin/nologin\n",
      "tcpdump:x:107:112::/nonexistent:/usr/sbin/nologin\n",
      "sshd:x:108:65534::/run/sshd:/usr/sbin/nologin\n",
      "landscape:x:109:114::/var/lib/landscape:/usr/sbin/nologin\n",
      "pollinate:x:110:1::/var/cache/pollinate:/bin/false\n",
      "systemd-coredump:x:999:999:systemd Core Dumper:/:/usr/sbin/nologin\n",
      "lxd:x:998:100::/var/snap/lxd/common/lxd:/bin/false\n",
      "student:x:1000:1000:,,,:/home/student:/bin/bash\n"
     ]
    }
   ],
   "source": [
    "for one_item in open('/etc/passwd'):\n",
    "    print(one_item, end='')\n",
    "# after the loop, the file is closed automatically!"
   ]
  },
  {
   "cell_type": "code",
   "execution_count": 11,
   "metadata": {},
   "outputs": [
    {
     "name": "stdout",
     "output_type": "stream",
     "text": [
      "linux-etc-passwd.txt\r\n",
      "mini-access-log.txt\r\n",
      "nums.txt\r\n",
      "shoe-data.txt\r\n",
      "wcfile.txt\r\n"
     ]
    }
   ],
   "source": [
    "%ls -1 *.txt"
   ]
  },
  {
   "cell_type": "code",
   "execution_count": 12,
   "metadata": {},
   "outputs": [],
   "source": [
    "# \n",
    "# (1) Iterate over the lines of mini-access-log.txt.\n",
    "# (2) Turn the line into a list of strings with split\n",
    "# (3) Grab the first element from that list (i.e., [0] )\n",
    "#   this will be an IP address\n",
    "# (4) Print the IP address you found"
   ]
  },
  {
   "cell_type": "code",
   "execution_count": 13,
   "metadata": {},
   "outputs": [
    {
     "name": "stdout",
     "output_type": "stream",
     "text": [
      "67.218.116.165 - - [30/Jan/2010:00:03:18 +0200] \"GET /robots.txt HTTP/1.0\" 200 99 \"-\" \"Mozilla/5.0 (Twiceler-0.9 http://www.cuil.com/twiceler/robot.html)\"\r\n",
      "66.249.71.65 - - [30/Jan/2010:00:12:06 +0200] \"GET /browse/one_node/1557 HTTP/1.1\" 200 39208 \"-\" \"Mozilla/5.0 (compatible; Googlebot/2.1; +http://www.google.com/bot.html)\"\r\n",
      "65.55.106.183 - - [30/Jan/2010:01:29:23 +0200] \"GET /robots.txt HTTP/1.1\" 200 99 \"-\" \"msnbot/2.0b (+http://search.msn.com/msnbot.htm)\"\r\n",
      "65.55.106.183 - - [30/Jan/2010:01:30:06 +0200] \"GET /browse/one_model/2162 HTTP/1.1\" 200 2181 \"-\" \"msnbot/2.0b (+http://search.msn.com/msnbot.htm)\"\r\n",
      "66.249.71.65 - - [30/Jan/2010:02:07:14 +0200] \"GET /browse/browse_applet_tab/2593 HTTP/1.1\" 200 10305 \"-\" \"Mozilla/5.0 (compatible; Googlebot/2.1; +http://www.google.com/bot.html)\"\r\n",
      "66.249.71.65 - - [30/Jan/2010:02:10:39 +0200] \"GET /browse/browse_files_tab/2499?tab=true HTTP/1.1\" 200 446 \"-\" \"Mozilla/5.0 (compatible; Googlebot/2.1; +http://www.google.com/bot.html)\"\r\n",
      "66.249.65.12 - - [30/Jan/2010:03:13:34 +0200] \"GET /robots.txt HTTP/1.1\" 200 99 \"-\" \"Mozilla/5.0 (compatible; Googlebot/2.1; +http://www.google.com/bot.html)\"\r\n",
      "66.249.65.12 - - [30/Jan/2010:03:13:34 +0200] \"GET /browse/one_node/2715 HTTP/1.1\" 200 26433 \"-\" \"Mozilla/5.0 (compatible; Googlebot/2.1; +http://www.google.com/bot.html)\"\r\n",
      "66.249.65.12 - - [30/Jan/2010:03:43:39 +0200] \"GET /browse/download_model/1969 HTTP/1.1\" 200 31713 \"-\" \"Mozilla/5.0 (compatible; Googlebot/2.1; +http://www.google.com/bot.html)\"\r\n",
      "66.249.65.12 - - [30/Jan/2010:04:05:43 +0200] \"GET /browse/one_node/1406 HTTP/1.1\" 302 118 \"-\" \"Mozilla/5.0 (compatible; Googlebot/2.1; +http://www.google.com/bot.html)\"\r\n"
     ]
    }
   ],
   "source": [
    "!head mini-access-log.txt"
   ]
  },
  {
   "cell_type": "code",
   "execution_count": null,
   "metadata": {},
   "outputs": [],
   "source": []
  }
 ],
 "metadata": {
  "kernelspec": {
   "display_name": "Python 3",
   "language": "python",
   "name": "python3"
  },
  "language_info": {
   "codemirror_mode": {
    "name": "ipython",
    "version": 3
   },
   "file_extension": ".py",
   "mimetype": "text/x-python",
   "name": "python",
   "nbconvert_exporter": "python",
   "pygments_lexer": "ipython3",
   "version": "3.7.5"
  }
 },
 "nbformat": 4,
 "nbformat_minor": 4
}
