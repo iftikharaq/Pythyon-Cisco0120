{
 "cells": [
  {
   "cell_type": "code",
   "execution_count": 1,
   "metadata": {},
   "outputs": [],
   "source": [
    "# None\n",
    "# True, False (boolean values)\n",
    "# numbers -- int, float\n",
    "# strings\n",
    "# lists, tuples\n",
    "\n",
    "# dict -- dictionary\n",
    "# files -- reading, writing "
   ]
  },
  {
   "cell_type": "code",
   "execution_count": 2,
   "metadata": {},
   "outputs": [],
   "source": [
    "# http://pythontutor.com"
   ]
  },
  {
   "cell_type": "code",
   "execution_count": 3,
   "metadata": {},
   "outputs": [],
   "source": [
    "# strings, lists, and tuples are all sequences\n",
    "\n",
    "# they can all:\n",
    "# - index with [i]  (a number in [])\n",
    "# - retrieve multiple items with a slice [start:end]\n",
    "# - search with \"in\"\n",
    "# - run a \"for\" loop on their elements\n",
    "# - use \"len\" to get the length\n",
    "\n",
    "# but:\n",
    "# - strings only contain characters (strings of length 1)\n",
    "# - strings + tuples are immutable (they cannot be changed)\n",
    "# - only lists' elements can be modified\n",
    "# - only lists can get bigger and smaller after being created"
   ]
  },
  {
   "cell_type": "code",
   "execution_count": 11,
   "metadata": {},
   "outputs": [
    {
     "data": {
      "text/plain": [
       "[10, 20, 30, 60]"
      ]
     },
     "execution_count": 11,
     "metadata": {},
     "output_type": "execute_result"
    }
   ],
   "source": [
    "mylist = []\n",
    "\n",
    "s = '10 20 abcd 30 4b 5a 60'\n",
    "for one_item in s.split():\n",
    "    if one_item.isdigit():\n",
    "        mylist.append(int(one_item))\n",
    "    \n",
    "mylist    "
   ]
  },
  {
   "cell_type": "code",
   "execution_count": 6,
   "metadata": {},
   "outputs": [
    {
     "data": {
      "text/plain": [
       "['10', '20', 'abcd', '30', '4b', '5a', '60']"
      ]
     },
     "execution_count": 6,
     "metadata": {},
     "output_type": "execute_result"
    }
   ],
   "source": [
    "mylist"
   ]
  },
  {
   "cell_type": "code",
   "execution_count": 7,
   "metadata": {},
   "outputs": [],
   "source": [
    "mylist.remove('30')  # removes one version of '30' from the list"
   ]
  },
  {
   "cell_type": "code",
   "execution_count": 8,
   "metadata": {},
   "outputs": [
    {
     "data": {
      "text/plain": [
       "['10', '20', 'abcd', '4b', '5a', '60']"
      ]
     },
     "execution_count": 8,
     "metadata": {},
     "output_type": "execute_result"
    }
   ],
   "source": [
    "mylist"
   ]
  },
  {
   "cell_type": "code",
   "execution_count": 12,
   "metadata": {},
   "outputs": [],
   "source": [
    "s = 'abcd'"
   ]
  },
  {
   "cell_type": "code",
   "execution_count": 13,
   "metadata": {},
   "outputs": [
    {
     "data": {
      "text/plain": [
       "True"
      ]
     },
     "execution_count": 13,
     "metadata": {},
     "output_type": "execute_result"
    }
   ],
   "source": [
    "s.isalnum()"
   ]
  },
  {
   "cell_type": "code",
   "execution_count": 14,
   "metadata": {},
   "outputs": [
    {
     "data": {
      "text/plain": [
       "True"
      ]
     },
     "execution_count": 14,
     "metadata": {},
     "output_type": "execute_result"
    }
   ],
   "source": [
    "s = 'ab1234cd'\n",
    "s.isalnum()"
   ]
  },
  {
   "cell_type": "code",
   "execution_count": 15,
   "metadata": {},
   "outputs": [
    {
     "data": {
      "text/plain": [
       "False"
      ]
     },
     "execution_count": 15,
     "metadata": {},
     "output_type": "execute_result"
    }
   ],
   "source": [
    "s = 'ab 12'\n",
    "s.isalnum()"
   ]
  },
  {
   "cell_type": "code",
   "execution_count": 16,
   "metadata": {},
   "outputs": [
    {
     "data": {
      "text/plain": [
       "True"
      ]
     },
     "execution_count": 16,
     "metadata": {},
     "output_type": "execute_result"
    }
   ],
   "source": [
    "s.isascii()"
   ]
  },
  {
   "cell_type": "code",
   "execution_count": 19,
   "metadata": {},
   "outputs": [
    {
     "data": {
      "text/plain": [
       "['a', 'b', 'cd', 'ef', 'ghi']"
      ]
     },
     "execution_count": 19,
     "metadata": {},
     "output_type": "execute_result"
    }
   ],
   "source": [
    "# to turn a string into a list of strings, use \"split\"\n",
    "# you need to say what character/string is the field delimiter\n",
    "\n",
    "s = 'a:b:cd:ef:ghi'\n",
    "fields = s.split(':')   # returns a list of strings\n",
    "fields"
   ]
  },
  {
   "cell_type": "code",
   "execution_count": 21,
   "metadata": {},
   "outputs": [
    {
     "data": {
      "text/plain": [
       "'a*b*cd*ef*ghi'"
      ]
     },
     "execution_count": 21,
     "metadata": {},
     "output_type": "execute_result"
    }
   ],
   "source": [
    "'*'.join(fields)   # returns a string based on '*' and fields"
   ]
  },
  {
   "cell_type": "code",
   "execution_count": 22,
   "metadata": {},
   "outputs": [
    {
     "data": {
      "text/plain": [
       "tuple"
      ]
     },
     "execution_count": 22,
     "metadata": {},
     "output_type": "execute_result"
    }
   ],
   "source": [
    "# tuples are basically immutable lists\n",
    "# meaning: you can create them, but you cannot change them.\n",
    "\n",
    "t = (100, 200, 300, 400)\n",
    "type(t)"
   ]
  },
  {
   "cell_type": "code",
   "execution_count": 23,
   "metadata": {
    "scrolled": true
   },
   "outputs": [
    {
     "data": {
      "text/plain": [
       "True"
      ]
     },
     "execution_count": 23,
     "metadata": {},
     "output_type": "execute_result"
    }
   ],
   "source": [
    "300 in t"
   ]
  },
  {
   "cell_type": "code",
   "execution_count": null,
   "metadata": {},
   "outputs": [],
   "source": [
    "# tuples, for you, are mostly to know what you're seeing with\n",
    "# round parentheses."
   ]
  },
  {
   "cell_type": "code",
   "execution_count": 24,
   "metadata": {},
   "outputs": [],
   "source": [
    "# (0) Create two empty lists, one called \"evens\" and one called \"odds\"\n",
    "# - evens = []\n",
    "\n",
    "# (1) Ask the user, again and again, to enter a number.\n",
    "# - if I don't know how many times I'll do something, I'll use\n",
    "#   a while loop.  And I can say \"while True\" for an infinite loop.\n",
    "\n",
    "# (2) If they give an empty string, stop asking\n",
    "# - if the user's input is == '', then we'll *break* out of the loop\n",
    "\n",
    "# (3) If they give a non-numeric input, scold them and try again\n",
    "# - if not x.isdigit()\n",
    "\n",
    "# (4) If they give a number, then add the number to either\n",
    "# the \"evens\" or \"odds\" list, depending on whether it's even\n",
    "# or odd.\n",
    "# - if we got something that can be turned into a number, then\n",
    "# - turn it into a number (i.e., use int() on it)\n",
    "# - check if it's odd or even... and append it to the right\n",
    "#   list.  Use either evens.append() or odds.append()\n",
    "\n",
    "\n",
    "# (5) When we exit the loop, print the total + average of \n",
    "# each of the lists (evens and odds).\n",
    "# - total each list by iterating (i.e., use a for loop)\n",
    "#   over each, totalling the values ... and then use \"len\"\n",
    "#   to get the length - which we can use in the average.\n"
   ]
  },
  {
   "cell_type": "code",
   "execution_count": 25,
   "metadata": {},
   "outputs": [
    {
     "data": {
      "text/plain": [
       "0"
      ]
     },
     "execution_count": 25,
     "metadata": {},
     "output_type": "execute_result"
    }
   ],
   "source": [
    "# to find out if a number is even, then divide it by 2.\n",
    "# if the remainder is 0, it's even.  Otherwise, it's odd.\n",
    "\n",
    "# the % (modulus) operator returns the remainder from \n",
    "# a division problem\n",
    "\n",
    "10 % 2"
   ]
  },
  {
   "cell_type": "code",
   "execution_count": 26,
   "metadata": {},
   "outputs": [
    {
     "data": {
      "text/plain": [
       "1"
      ]
     },
     "execution_count": 26,
     "metadata": {},
     "output_type": "execute_result"
    }
   ],
   "source": [
    "11 % 2"
   ]
  },
  {
   "cell_type": "code",
   "execution_count": 31,
   "metadata": {
    "scrolled": true
   },
   "outputs": [
    {
     "name": "stdout",
     "output_type": "stream",
     "text": [
      "Enter a number: 10\n",
      "Enter a number: 15\n",
      "Enter a number: 20\n",
      "Enter a number: 23\n",
      "Enter a number: 27\n",
      "Enter a number: 29\n",
      "Enter a number: 30\n",
      "Enter a number: 32\n",
      "Enter a number: \n"
     ]
    }
   ],
   "source": [
    "evens = []\n",
    "odds = []\n",
    "\n",
    "while True:\n",
    "    x = input(\"Enter a number: \")\n",
    "    \n",
    "    if x == '':\n",
    "        break\n",
    "        \n",
    "    if x.isdigit():\n",
    "        x = int(x)\n",
    "        if x % 2 == 0:\n",
    "            evens.append(x)\n",
    "        else:\n",
    "            odds.append(x)\n",
    "            \n",
    "    else:\n",
    "        print(f'{x} is not numeric; try again')\n",
    "        \n",
    "# get sum + mean of evens\n",
    "total = 0\n",
    "for one_item in evens:\n",
    "    total += one_item\n",
    "print(f'total of evens is {total}, mean is {total/len(evens)}')\n",
    "\n",
    "# get sum + mean of odds\n",
    "total = 0\n",
    "for one_item in odds:\n",
    "    total += one_item\n",
    "print(f'total of odds is {total}, mean is {total/len(odds)}')\n",
    "\n"
   ]
  },
  {
   "cell_type": "code",
   "execution_count": 34,
   "metadata": {},
   "outputs": [
    {
     "name": "stdout",
     "output_type": "stream",
     "text": [
      "total of evens is 92, mean is 23.0\n",
      "total of odds is 94, mean is 23.5\n"
     ]
    }
   ],
   "source": [
    "\n",
    "# get sum + mean of evens\n",
    "total = 0\n",
    "for one_item in evens:\n",
    "    total += one_item\n",
    "print(f'total of evens is {total}, mean is {total/len(evens)}')\n",
    "\n",
    "# get sum + mean of odds\n",
    "total = 0\n",
    "for one_item in odds:\n",
    "    total += one_item\n",
    "print(f'total of odds is {total}, mean is {total/len(odds)}')\n",
    "\n"
   ]
  },
  {
   "cell_type": "code",
   "execution_count": 41,
   "metadata": {},
   "outputs": [
    {
     "name": "stdout",
     "output_type": "stream",
     "text": [
      "Now checking [10, 20, 30, 32]\n",
      "\ttotal is 10, mean is 2.5\n",
      "\ttotal is 30, mean is 7.5\n",
      "\ttotal is 60, mean is 15.0\n",
      "\ttotal is 92, mean is 23.0\n",
      "Now checking [15, 23, 27, 29]\n",
      "\ttotal is 15, mean is 3.75\n",
      "\ttotal is 38, mean is 9.5\n",
      "\ttotal is 65, mean is 16.25\n",
      "\ttotal is 94, mean is 23.5\n"
     ]
    }
   ],
   "source": [
    "for one_list in [evens, odds]:\n",
    "    total = 0\n",
    "    print(f'Now checking {one_list}')\n",
    "    for one_item in one_list:\n",
    "        total += one_item\n",
    "        print(f'\\ttotal is {total}, mean is {total/len(one_list)}')"
   ]
  },
  {
   "cell_type": "code",
   "execution_count": 43,
   "metadata": {},
   "outputs": [
    {
     "name": "stdout",
     "output_type": "stream",
     "text": [
      "Now checking [10, 20, 30, 32]\n",
      "\ttotal of evens is 92, mean is 23.0\n",
      "Now checking [15, 23, 27, 29]\n",
      "\ttotal of odds is 94, mean is 23.5\n"
     ]
    }
   ],
   "source": [
    "for t in [('evens', evens), ('odds', odds)]:\n",
    "    list_name = t[0]\n",
    "    one_list = t[1]\n",
    "\n",
    "    total = 0\n",
    "    print(f'Now checking {one_list}')\n",
    "    for one_item in one_list:\n",
    "        total += one_item\n",
    "    print(f'\\ttotal of {list_name} is {total}, mean is {total/len(one_list)}')"
   ]
  },
  {
   "cell_type": "code",
   "execution_count": 35,
   "metadata": {},
   "outputs": [
    {
     "data": {
      "text/plain": [
       "[10, 20, 30, 32]"
      ]
     },
     "execution_count": 35,
     "metadata": {},
     "output_type": "execute_result"
    }
   ],
   "source": [
    "evens"
   ]
  },
  {
   "cell_type": "code",
   "execution_count": 37,
   "metadata": {},
   "outputs": [
    {
     "data": {
      "text/plain": [
       "[15, 23, 27, 29]"
      ]
     },
     "execution_count": 37,
     "metadata": {},
     "output_type": "execute_result"
    }
   ],
   "source": [
    "odds"
   ]
  },
  {
   "cell_type": "code",
   "execution_count": 32,
   "metadata": {},
   "outputs": [
    {
     "data": {
      "text/plain": [
       "[10, 20, 30, 32]"
      ]
     },
     "execution_count": 32,
     "metadata": {},
     "output_type": "execute_result"
    }
   ],
   "source": [
    "evens"
   ]
  },
  {
   "cell_type": "code",
   "execution_count": 33,
   "metadata": {},
   "outputs": [
    {
     "data": {
      "text/plain": [
       "[15, 23, 27, 29]"
      ]
     },
     "execution_count": 33,
     "metadata": {},
     "output_type": "execute_result"
    }
   ],
   "source": [
    "odds"
   ]
  },
  {
   "cell_type": "code",
   "execution_count": 39,
   "metadata": {},
   "outputs": [],
   "source": [
    "# dictionary\n"
   ]
  },
  {
   "cell_type": "code",
   "execution_count": 45,
   "metadata": {},
   "outputs": [
    {
     "name": "stdout",
     "output_type": "stream",
     "text": [
      "Please enter a number: 10\n",
      "10 is even.\n",
      "Please enter a number: \n"
     ]
    }
   ],
   "source": [
    "while True:\n",
    "    x = input(\"Please enter a number: \")\n",
    "    \n",
    "    if x == \"\":\n",
    "        break\n",
    "    \n",
    "    if x.isdigit():\n",
    "        x = int(x)\n",
    "        if x % 2 == 0:\n",
    "            evens.append(x)\n",
    "            print (f\"{x} is even.\")\n",
    "            \n",
    "        else:\n",
    "            odds.append(x)\n",
    "            print(f\"{x} is odd.\")\n",
    "            \n",
    "    else:\n",
    "        print(f\"{x} is not a numeric value. Try again.\")\n"
   ]
  },
  {
   "cell_type": "code",
   "execution_count": 46,
   "metadata": {},
   "outputs": [
    {
     "data": {
      "text/plain": [
       "5.0"
      ]
     },
     "execution_count": 46,
     "metadata": {},
     "output_type": "execute_result"
    }
   ],
   "source": [
    "10 / 2"
   ]
  },
  {
   "cell_type": "code",
   "execution_count": 47,
   "metadata": {},
   "outputs": [
    {
     "ename": "ZeroDivisionError",
     "evalue": "division by zero",
     "output_type": "error",
     "traceback": [
      "\u001b[0;31m---------------------------------------------------------------------------\u001b[0m",
      "\u001b[0;31mZeroDivisionError\u001b[0m                         Traceback (most recent call last)",
      "\u001b[0;32m<ipython-input-47-cd759d3fcf39>\u001b[0m in \u001b[0;36m<module>\u001b[0;34m\u001b[0m\n\u001b[0;32m----> 1\u001b[0;31m \u001b[0;36m10\u001b[0m \u001b[0;34m/\u001b[0m \u001b[0;36m0\u001b[0m\u001b[0;34m\u001b[0m\u001b[0;34m\u001b[0m\u001b[0m\n\u001b[0m",
      "\u001b[0;31mZeroDivisionError\u001b[0m: division by zero"
     ]
    }
   ],
   "source": [
    "10 / 0"
   ]
  },
  {
   "cell_type": "code",
   "execution_count": 49,
   "metadata": {},
   "outputs": [
    {
     "name": "stdout",
     "output_type": "stream",
     "text": [
      "10\n",
      "20\n",
      "30\n"
     ]
    }
   ],
   "source": [
    "mylist = [10, 20, 30]\n",
    "\n",
    "for an_elephant_at_the_zoo in mylist:\n",
    "    print(an_elephant_at_the_zoo)"
   ]
  },
  {
   "cell_type": "code",
   "execution_count": 51,
   "metadata": {},
   "outputs": [],
   "source": [
    "# rules for Python identifiers (fancy word for variable names)\n",
    "# - starts with a letter or _\n",
    "# - after that, any letter, number, or _\n",
    "# - for as long as you want\n",
    "# - and it's case sensitive, so Foo and foo are different"
   ]
  },
  {
   "cell_type": "code",
   "execution_count": 52,
   "metadata": {},
   "outputs": [
    {
     "name": "stdout",
     "output_type": "stream",
     "text": [
      "a\n",
      "b\n",
      "c\n",
      "d\n"
     ]
    }
   ],
   "source": [
    "for one_item in 'abcd':\n",
    "    print(one_item)"
   ]
  },
  {
   "cell_type": "code",
   "execution_count": 53,
   "metadata": {},
   "outputs": [
    {
     "name": "stdout",
     "output_type": "stream",
     "text": [
      "!\n",
      "@\n",
      "#\n",
      "$\n",
      "%\n"
     ]
    }
   ],
   "source": [
    "for one_letter in '!@#$%':\n",
    "    print(one_letter)"
   ]
  },
  {
   "cell_type": "code",
   "execution_count": 54,
   "metadata": {},
   "outputs": [],
   "source": [
    "i = iter('abcd')  # are you iterable?  If so, give me an iterator\n"
   ]
  },
  {
   "cell_type": "code",
   "execution_count": 55,
   "metadata": {},
   "outputs": [
    {
     "data": {
      "text/plain": [
       "'a'"
      ]
     },
     "execution_count": 55,
     "metadata": {},
     "output_type": "execute_result"
    }
   ],
   "source": [
    "next(i)"
   ]
  },
  {
   "cell_type": "code",
   "execution_count": 56,
   "metadata": {},
   "outputs": [
    {
     "data": {
      "text/plain": [
       "'b'"
      ]
     },
     "execution_count": 56,
     "metadata": {},
     "output_type": "execute_result"
    }
   ],
   "source": [
    "next(i)"
   ]
  },
  {
   "cell_type": "code",
   "execution_count": 57,
   "metadata": {},
   "outputs": [
    {
     "data": {
      "text/plain": [
       "'c'"
      ]
     },
     "execution_count": 57,
     "metadata": {},
     "output_type": "execute_result"
    }
   ],
   "source": [
    "next(i)"
   ]
  },
  {
   "cell_type": "code",
   "execution_count": 58,
   "metadata": {},
   "outputs": [
    {
     "data": {
      "text/plain": [
       "'d'"
      ]
     },
     "execution_count": 58,
     "metadata": {},
     "output_type": "execute_result"
    }
   ],
   "source": [
    "next(i)"
   ]
  },
  {
   "cell_type": "code",
   "execution_count": 59,
   "metadata": {},
   "outputs": [
    {
     "ename": "StopIteration",
     "evalue": "",
     "output_type": "error",
     "traceback": [
      "\u001b[0;31m---------------------------------------------------------------------------\u001b[0m",
      "\u001b[0;31mStopIteration\u001b[0m                             Traceback (most recent call last)",
      "\u001b[0;32m<ipython-input-59-a883b34d6d8a>\u001b[0m in \u001b[0;36m<module>\u001b[0;34m\u001b[0m\n\u001b[0;32m----> 1\u001b[0;31m \u001b[0mnext\u001b[0m\u001b[0;34m(\u001b[0m\u001b[0mi\u001b[0m\u001b[0;34m)\u001b[0m\u001b[0;34m\u001b[0m\u001b[0;34m\u001b[0m\u001b[0m\n\u001b[0m",
      "\u001b[0;31mStopIteration\u001b[0m: "
     ]
    }
   ],
   "source": [
    "next(i)"
   ]
  },
  {
   "cell_type": "code",
   "execution_count": 60,
   "metadata": {},
   "outputs": [
    {
     "data": {
      "text/plain": [
       "['this', 'is', 'a', 'test']"
      ]
     },
     "execution_count": 60,
     "metadata": {},
     "output_type": "execute_result"
    }
   ],
   "source": [
    "mylist = 'this is a test'.split()\n",
    "mylist"
   ]
  },
  {
   "cell_type": "code",
   "execution_count": 61,
   "metadata": {},
   "outputs": [
    {
     "data": {
      "text/plain": [
       "'this'"
      ]
     },
     "execution_count": 61,
     "metadata": {},
     "output_type": "execute_result"
    }
   ],
   "source": [
    "mylist[0]"
   ]
  },
  {
   "cell_type": "code",
   "execution_count": 62,
   "metadata": {},
   "outputs": [
    {
     "data": {
      "text/plain": [
       "'is'"
      ]
     },
     "execution_count": 62,
     "metadata": {},
     "output_type": "execute_result"
    }
   ],
   "source": [
    "mylist[1]"
   ]
  },
  {
   "cell_type": "code",
   "execution_count": 63,
   "metadata": {},
   "outputs": [
    {
     "data": {
      "text/plain": [
       "'a'"
      ]
     },
     "execution_count": 63,
     "metadata": {},
     "output_type": "execute_result"
    }
   ],
   "source": [
    "mylist[2]"
   ]
  },
  {
   "cell_type": "code",
   "execution_count": 64,
   "metadata": {},
   "outputs": [
    {
     "data": {
      "text/plain": [
       "'test'"
      ]
     },
     "execution_count": 64,
     "metadata": {},
     "output_type": "execute_result"
    }
   ],
   "source": [
    "mylist[3]"
   ]
  },
  {
   "cell_type": "code",
   "execution_count": 65,
   "metadata": {},
   "outputs": [],
   "source": [
    "# define dicts with curly braces {} !\n",
    "d = {}\n",
    "\n",
    "# add elements to a dictionary with assignment\n",
    "# I have to assign both a key (index) and a value\n",
    "d[10] = 'hello'\n",
    "d[20] = 'goodbye'\n",
    "d[30] = 'I dunno'"
   ]
  },
  {
   "cell_type": "code",
   "execution_count": 66,
   "metadata": {},
   "outputs": [],
   "source": [
    "# list indexes are ints, but values are anything\n",
    "# tuple indexes are ints, but values are anything\n",
    "# dict indexes (keys) are ANYTHING IMMUTABLE\n",
    "#    and values are anything\n",
    "\n",
    "# mostly, dict keys are ints and strings"
   ]
  },
  {
   "cell_type": "code",
   "execution_count": 67,
   "metadata": {},
   "outputs": [
    {
     "data": {
      "text/plain": [
       "'goodbye'"
      ]
     },
     "execution_count": 67,
     "metadata": {},
     "output_type": "execute_result"
    }
   ],
   "source": [
    "d[20]"
   ]
  },
  {
   "cell_type": "code",
   "execution_count": 68,
   "metadata": {},
   "outputs": [
    {
     "data": {
      "text/plain": [
       "'I dunno'"
      ]
     },
     "execution_count": 68,
     "metadata": {},
     "output_type": "execute_result"
    }
   ],
   "source": [
    "d[30]"
   ]
  },
  {
   "cell_type": "code",
   "execution_count": 69,
   "metadata": {},
   "outputs": [],
   "source": [
    "# dict keys can be strings!!!"
   ]
  },
  {
   "cell_type": "code",
   "execution_count": 70,
   "metadata": {},
   "outputs": [],
   "source": [
    "d = {}\n",
    "d['first'] = 'Reuven'\n",
    "d['last'] = 'Lerner'\n",
    "d['email'] = 'reuven@lerner.co.il'\n",
    "d['shoesize'] = 46"
   ]
  },
  {
   "cell_type": "code",
   "execution_count": 71,
   "metadata": {},
   "outputs": [
    {
     "data": {
      "text/plain": [
       "{'first': 'Reuven',\n",
       " 'last': 'Lerner',\n",
       " 'email': 'reuven@lerner.co.il',\n",
       " 'shoesize': 46}"
      ]
     },
     "execution_count": 71,
     "metadata": {},
     "output_type": "execute_result"
    }
   ],
   "source": [
    "d"
   ]
  },
  {
   "cell_type": "code",
   "execution_count": 72,
   "metadata": {},
   "outputs": [
    {
     "data": {
      "text/plain": [
       "'Reuven'"
      ]
     },
     "execution_count": 72,
     "metadata": {},
     "output_type": "execute_result"
    }
   ],
   "source": [
    "d['first']"
   ]
  },
  {
   "cell_type": "code",
   "execution_count": 73,
   "metadata": {},
   "outputs": [
    {
     "data": {
      "text/plain": [
       "'Lerner'"
      ]
     },
     "execution_count": 73,
     "metadata": {},
     "output_type": "execute_result"
    }
   ],
   "source": [
    "d['last']"
   ]
  },
  {
   "cell_type": "code",
   "execution_count": 74,
   "metadata": {},
   "outputs": [
    {
     "data": {
      "text/plain": [
       "True"
      ]
     },
     "execution_count": 74,
     "metadata": {},
     "output_type": "execute_result"
    }
   ],
   "source": [
    "# check if a key exists in a dict with \"in\"\n",
    "'first' in d"
   ]
  },
  {
   "cell_type": "code",
   "execution_count": 75,
   "metadata": {},
   "outputs": [
    {
     "data": {
      "text/plain": [
       "False"
      ]
     },
     "execution_count": 75,
     "metadata": {},
     "output_type": "execute_result"
    }
   ],
   "source": [
    "'Reuven' in d"
   ]
  },
  {
   "cell_type": "code",
   "execution_count": 76,
   "metadata": {},
   "outputs": [
    {
     "data": {
      "text/plain": [
       "{'first': 'Reuven',\n",
       " 'last': 'Lerner',\n",
       " 'email': 'reuven@lerner.co.il',\n",
       " 'shoesize': 46}"
      ]
     },
     "execution_count": 76,
     "metadata": {},
     "output_type": "execute_result"
    }
   ],
   "source": [
    "d"
   ]
  },
  {
   "cell_type": "code",
   "execution_count": 77,
   "metadata": {},
   "outputs": [],
   "source": [
    "# let's replace the first name!\n",
    "d['first'] = 'asdfasfaa'"
   ]
  },
  {
   "cell_type": "code",
   "execution_count": 78,
   "metadata": {},
   "outputs": [
    {
     "data": {
      "text/plain": [
       "{'first': 'asdfasfaa',\n",
       " 'last': 'Lerner',\n",
       " 'email': 'reuven@lerner.co.il',\n",
       " 'shoesize': 46}"
      ]
     },
     "execution_count": 78,
     "metadata": {},
     "output_type": "execute_result"
    }
   ],
   "source": [
    "d"
   ]
  },
  {
   "cell_type": "code",
   "execution_count": 79,
   "metadata": {},
   "outputs": [],
   "source": [
    "# (1) Define a dict called \"menu\" in which the item names (strings)\n",
    "# are the dict keys, and the prices are the values\n",
    "\n",
    "menu = {'sandwich': 15, 'tea': 7}\n",
    "\n",
    "# (2) Ask the user repeatedly what they want to order\n",
    "# a while True infinite loop\n",
    "\n",
    "# (3) Based on their response:\n",
    "# - If they enter an empty string, stop asking and print the\n",
    "#   total price\n",
    "\n",
    "# break from the loop if we get '' as input from the user\n",
    "\n",
    "# - If they enter the name of something on the menu,\n",
    "#   print the price and the new total\n",
    "\n",
    "# - use \"in\" to check if the user's input is on the menu\n",
    "#  for example:   'tea' in menu\n",
    "#   given the user's choice, you can retrieve the price\n",
    "\n",
    "#   order = 'tea'\n",
    "#   menu[order]  # same as menu['tea'] -- will give us the price\n",
    "\n",
    "# - If they enter the name of something *NOT* on the\n",
    "#   menu, give a poor excuse\n",
    "\n",
    "# if the key is *NOT* in the dict, then ... scold them"
   ]
  },
  {
   "cell_type": "code",
   "execution_count": null,
   "metadata": {},
   "outputs": [],
   "source": [
    "# Order: sandwich\n",
    "# sandwich is 15, total is 15\n",
    "# Order: tea\n",
    "# tea is 7, total is 22\n",
    "# Order: elephant\n",
    "# Sorry, we are fresh out of elephant today\n",
    "# Order: <enter>\n",
    "# Total is 22\n"
   ]
  },
  {
   "cell_type": "code",
   "execution_count": 80,
   "metadata": {},
   "outputs": [
    {
     "name": "stdout",
     "output_type": "stream",
     "text": [
      "3\n",
      "Order: \n",
      "Total is 0\n"
     ]
    }
   ],
   "source": [
    "total = 0\n",
    "menu = {'sandwich':10, 'tea':7, 'soup':8}\n",
    "print(len(menu))\n",
    "\n",
    "while True:\n",
    "    order = input(\"Order: \")\n",
    "    \n",
    "    if order == '':\n",
    "        break\n",
    "    \n",
    "    elif order in menu:\n",
    "        price = menu[order]\n",
    "        total += price\n",
    "        print(f'{order} cost {price}; total is now {total}')\n",
    "        \n",
    "    else:\n",
    "        print(f'We are out of {order} today')\n",
    "        \n",
    "print(f'Total is {total}')\n",
    "        "
   ]
  },
  {
   "cell_type": "code",
   "execution_count": 81,
   "metadata": {},
   "outputs": [
    {
     "data": {
      "text/plain": [
       "True"
      ]
     },
     "execution_count": 81,
     "metadata": {},
     "output_type": "execute_result"
    }
   ],
   "source": [
    "mylist = [10, 100, 1000, 5]\n",
    "\n",
    "# use \"in\" to get a True/False on whether something is in a list\n",
    "100 in mylist"
   ]
  },
  {
   "cell_type": "code",
   "execution_count": 82,
   "metadata": {},
   "outputs": [
    {
     "data": {
      "text/plain": [
       "True"
      ]
     },
     "execution_count": 82,
     "metadata": {},
     "output_type": "execute_result"
    }
   ],
   "source": [
    "1000 in mylist"
   ]
  },
  {
   "cell_type": "code",
   "execution_count": 83,
   "metadata": {},
   "outputs": [
    {
     "data": {
      "text/plain": [
       "False"
      ]
     },
     "execution_count": 83,
     "metadata": {},
     "output_type": "execute_result"
    }
   ],
   "source": [
    "'100' in mylist"
   ]
  },
  {
   "cell_type": "code",
   "execution_count": 84,
   "metadata": {},
   "outputs": [
    {
     "data": {
      "text/plain": [
       "True"
      ]
     },
     "execution_count": 84,
     "metadata": {},
     "output_type": "execute_result"
    }
   ],
   "source": [
    "d = {'a':1, 'b':2, 'c':3}\n",
    "\n",
    "# \"in\" on a dict says: Is this item a dict key?\n",
    "'a' in d  # is 'a' a key in d?"
   ]
  },
  {
   "cell_type": "code",
   "execution_count": 85,
   "metadata": {},
   "outputs": [
    {
     "data": {
      "text/plain": [
       "True"
      ]
     },
     "execution_count": 85,
     "metadata": {},
     "output_type": "execute_result"
    }
   ],
   "source": [
    "'c' in d"
   ]
  },
  {
   "cell_type": "code",
   "execution_count": 86,
   "metadata": {},
   "outputs": [
    {
     "data": {
      "text/plain": [
       "False"
      ]
     },
     "execution_count": 86,
     "metadata": {},
     "output_type": "execute_result"
    }
   ],
   "source": [
    "'c ' in d"
   ]
  },
  {
   "cell_type": "code",
   "execution_count": 87,
   "metadata": {},
   "outputs": [
    {
     "data": {
      "text/plain": [
       "{'sandwich': 10, 'tea': 7, 'soup': 8}"
      ]
     },
     "execution_count": 87,
     "metadata": {},
     "output_type": "execute_result"
    }
   ],
   "source": [
    "menu"
   ]
  },
  {
   "cell_type": "code",
   "execution_count": 88,
   "metadata": {},
   "outputs": [
    {
     "data": {
      "text/plain": [
       "True"
      ]
     },
     "execution_count": 88,
     "metadata": {},
     "output_type": "execute_result"
    }
   ],
   "source": [
    "'sandwich' in menu"
   ]
  },
  {
   "cell_type": "code",
   "execution_count": 89,
   "metadata": {},
   "outputs": [
    {
     "data": {
      "text/plain": [
       "True"
      ]
     },
     "execution_count": 89,
     "metadata": {},
     "output_type": "execute_result"
    }
   ],
   "source": [
    "'tea' in menu"
   ]
  },
  {
   "cell_type": "code",
   "execution_count": 90,
   "metadata": {},
   "outputs": [
    {
     "data": {
      "text/plain": [
       "True"
      ]
     },
     "execution_count": 90,
     "metadata": {},
     "output_type": "execute_result"
    }
   ],
   "source": [
    "'tea' in menu"
   ]
  },
  {
   "cell_type": "code",
   "execution_count": 91,
   "metadata": {},
   "outputs": [
    {
     "data": {
      "text/plain": [
       "True"
      ]
     },
     "execution_count": 91,
     "metadata": {},
     "output_type": "execute_result"
    }
   ],
   "source": [
    "order = 'tea'\n",
    "order in menu  "
   ]
  },
  {
   "cell_type": "code",
   "execution_count": 92,
   "metadata": {},
   "outputs": [
    {
     "data": {
      "text/plain": [
       "7"
      ]
     },
     "execution_count": 92,
     "metadata": {},
     "output_type": "execute_result"
    }
   ],
   "source": [
    "# menu['tea']\n",
    "\n",
    "menu[order]  # retrieve the value from \"menu\" where the key is order"
   ]
  },
  {
   "cell_type": "code",
   "execution_count": 94,
   "metadata": {},
   "outputs": [
    {
     "data": {
      "text/plain": [
       "'tea'"
      ]
     },
     "execution_count": 94,
     "metadata": {},
     "output_type": "execute_result"
    }
   ],
   "source": [
    "order"
   ]
  },
  {
   "cell_type": "code",
   "execution_count": 96,
   "metadata": {},
   "outputs": [
    {
     "data": {
      "text/plain": [
       "{'sandwich': 10, 'tea': 7, 'soup': 8}"
      ]
     },
     "execution_count": 96,
     "metadata": {},
     "output_type": "execute_result"
    }
   ],
   "source": [
    "menu"
   ]
  },
  {
   "cell_type": "code",
   "execution_count": 98,
   "metadata": {},
   "outputs": [
    {
     "name": "stdout",
     "output_type": "stream",
     "text": [
      "3\n",
      "Order: tea\n",
      "tea cost 7; total is now 7\n",
      "Order: sandwich\n",
      "sandwich cost 10; total is now 17\n",
      "Order: soup\n",
      "soup cost 8; total is now 25\n",
      "Order: \n",
      "You ordered tea, sandwich, soup\n",
      "Total is 25\n"
     ]
    }
   ],
   "source": [
    "total = 0\n",
    "ordered_items = []\n",
    "menu = {'sandwich':10, 'tea':7, 'soup':8}\n",
    "print(len(menu))\n",
    "\n",
    "while True:\n",
    "    order = input(\"Order: \")\n",
    "    \n",
    "    if order == '':\n",
    "        break\n",
    "    \n",
    "    elif order in menu:\n",
    "        price = menu[order]\n",
    "        ordered_items.append(order)\n",
    "        total += price\n",
    "        print(f'{order} cost {price}; total is now {total}')\n",
    "        \n",
    "    else:\n",
    "        print(f'We are out of {order} today')\n",
    "        \n",
    "s = ', '.join(ordered_items)\n",
    "print(f'You ordered {s}')\n",
    "print(f'Total is {total}')\n",
    "        "
   ]
  },
  {
   "cell_type": "code",
   "execution_count": 99,
   "metadata": {},
   "outputs": [
    {
     "data": {
      "text/plain": [
       "'abcd***efgh***ijklm'"
      ]
     },
     "execution_count": 99,
     "metadata": {},
     "output_type": "execute_result"
    }
   ],
   "source": [
    "mylist = ['abcd', 'efgh', 'ijklm']\n",
    "\n",
    "# join returns a string with the elements of mylist glued together\n",
    "# with '***'\n",
    "'***'.join(mylist)"
   ]
  },
  {
   "cell_type": "code",
   "execution_count": 100,
   "metadata": {},
   "outputs": [
    {
     "data": {
      "text/plain": [
       "'abcd, efgh, ijklm'"
      ]
     },
     "execution_count": 100,
     "metadata": {},
     "output_type": "execute_result"
    }
   ],
   "source": [
    "', '.join(mylist)"
   ]
  },
  {
   "cell_type": "code",
   "execution_count": 101,
   "metadata": {},
   "outputs": [
    {
     "data": {
      "text/plain": [
       "'abcd,efgh,ijklm'"
      ]
     },
     "execution_count": 101,
     "metadata": {},
     "output_type": "execute_result"
    }
   ],
   "source": [
    "','.join(mylist)"
   ]
  },
  {
   "cell_type": "code",
   "execution_count": 103,
   "metadata": {},
   "outputs": [
    {
     "name": "stdout",
     "output_type": "stream",
     "text": [
      "abcd\n",
      "efgh\n",
      "ijklm\n"
     ]
    }
   ],
   "source": [
    "print('\\n'.join(mylist))"
   ]
  },
  {
   "cell_type": "code",
   "execution_count": 104,
   "metadata": {},
   "outputs": [
    {
     "name": "stdout",
     "output_type": "stream",
     "text": [
      "Enter a letter: a\n",
      "Enter a letter: a\n",
      "Enter a letter: a\n",
      "Enter a letter: b\n",
      "Enter a letter: c\n",
      "Enter a letter: c\n",
      "Enter a letter: \n",
      "{'a': 4, 'b': 3, 'c': 5}\n"
     ]
    }
   ],
   "source": [
    "d = {'a':1, 'b':2, 'c':3}\n",
    "\n",
    "while True:\n",
    "    one_letter = input(\"Enter a letter: \")\n",
    "    \n",
    "    if one_letter == '':\n",
    "        break\n",
    "        \n",
    "    elif one_letter in d:\n",
    "        d[one_letter] += 1\n",
    "        \n",
    "    else:\n",
    "        print(f'{one_letter} is not valid')\n",
    "        \n",
    "print(d)"
   ]
  },
  {
   "cell_type": "code",
   "execution_count": 105,
   "metadata": {},
   "outputs": [
    {
     "name": "stdout",
     "output_type": "stream",
     "text": [
      "Enter a letter: a\n",
      "Enter a letter: a\n",
      "Enter a letter: a\n",
      "Enter a letter: b\n",
      "Enter a letter: b\n",
      "Enter a letter: c\n",
      "Enter a letter: \n",
      "{'a': 3, 'b': 2, 'c': 1}\n"
     ]
    }
   ],
   "source": [
    "d = {}\n",
    "\n",
    "while True:\n",
    "    one_letter = input(\"Enter a letter: \")\n",
    "    \n",
    "    if one_letter == '':\n",
    "        break\n",
    "        \n",
    "    elif one_letter in d:\n",
    "        # if one_letter is already a key, then add 1 to it\n",
    "        d[one_letter] += 1\n",
    "        \n",
    "    else:\n",
    "        # if one_letter is not yet a key, make it one, with value 1\n",
    "        d[one_letter] = 1\n",
    "        \n",
    "print(d)"
   ]
  },
  {
   "cell_type": "code",
   "execution_count": null,
   "metadata": {},
   "outputs": [],
   "source": [
    "# (0) Initialize an empty dict, \"rainfall\"\n",
    "# (1) Ask the user to enter a city name\n",
    "# (2) If the city name is blank, stop asking and print the\n",
    "#      dictionary of rainfall accumulation\n",
    "# (3) If the city name is NOT blank, ask for mm rain that fell\n",
    "# (4) Store the city + rainfall in a dict.  The city\n",
    "#     will be the key, and the rainfall will be the value.  \n",
    "# (5) Add to the rainfall if a city repeats -- don't just overwrite\n",
    "#     the value\n",
    "\n",
    "City: Jerusalem\n",
    "Rain: 5\n",
    "City: Tel Aviv\n",
    "Rain: 4\n",
    "City: Jerusalem\n",
    "Rain: 3\n",
    "City: <enter>  \n",
    "    \n",
    "{'Jerusalem': 8, 'Tel Aviv': 4}"
   ]
  },
  {
   "cell_type": "code",
   "execution_count": 106,
   "metadata": {},
   "outputs": [],
   "source": [
    "# parser\n",
    "\n",
    "d = {'a':1, 'b':2, 'c':3}\n",
    "key = 'b'\n",
    "\n",
    "value = d[key]   # value = d['b']"
   ]
  },
  {
   "cell_type": "code",
   "execution_count": 107,
   "metadata": {},
   "outputs": [
    {
     "data": {
      "text/plain": [
       "2"
      ]
     },
     "execution_count": 107,
     "metadata": {},
     "output_type": "execute_result"
    }
   ],
   "source": [
    "value"
   ]
  },
  {
   "cell_type": "code",
   "execution_count": 110,
   "metadata": {},
   "outputs": [
    {
     "name": "stdout",
     "output_type": "stream",
     "text": [
      "total = 0\n",
      "Enter key: a\n",
      "\tYou chose a, value is 1\n",
      "total = 1\n",
      "Enter key: b\n",
      "\tYou chose b, value is 2\n",
      "total = 3\n",
      "Enter key: c\n",
      "\tYou chose c, value is 3\n"
     ]
    },
    {
     "ename": "TypeError",
     "evalue": "unsupported operand type(s) for +=: 'int' and 'str'",
     "output_type": "error",
     "traceback": [
      "\u001b[0;31m---------------------------------------------------------------------------\u001b[0m",
      "\u001b[0;31mTypeError\u001b[0m                                 Traceback (most recent call last)",
      "\u001b[0;32m<ipython-input-110-b8f602649ae5>\u001b[0m in \u001b[0;36m<module>\u001b[0;34m\u001b[0m\n\u001b[1;32m     12\u001b[0m     \u001b[0;32melif\u001b[0m \u001b[0mk\u001b[0m \u001b[0;32min\u001b[0m \u001b[0md\u001b[0m\u001b[0;34m:\u001b[0m\u001b[0;34m\u001b[0m\u001b[0;34m\u001b[0m\u001b[0m\n\u001b[1;32m     13\u001b[0m         \u001b[0mprint\u001b[0m\u001b[0;34m(\u001b[0m\u001b[0;34mf'\\tYou chose {k}, value is {d[k]}'\u001b[0m\u001b[0;34m)\u001b[0m\u001b[0;34m\u001b[0m\u001b[0;34m\u001b[0m\u001b[0m\n\u001b[0;32m---> 14\u001b[0;31m         \u001b[0mtotal\u001b[0m \u001b[0;34m+=\u001b[0m \u001b[0md\u001b[0m\u001b[0;34m[\u001b[0m\u001b[0mk\u001b[0m\u001b[0;34m]\u001b[0m   \u001b[0;31m# retrieve the value for d[k]\u001b[0m\u001b[0;34m\u001b[0m\u001b[0;34m\u001b[0m\u001b[0m\n\u001b[0m\u001b[1;32m     15\u001b[0m \u001b[0;34m\u001b[0m\u001b[0m\n\u001b[1;32m     16\u001b[0m     \u001b[0;32melse\u001b[0m\u001b[0;34m:\u001b[0m\u001b[0;34m\u001b[0m\u001b[0;34m\u001b[0m\u001b[0m\n",
      "\u001b[0;31mTypeError\u001b[0m: unsupported operand type(s) for +=: 'int' and 'str'"
     ]
    }
   ],
   "source": [
    "d = {'a':1, 'b':2, 'c':'3'}   \n",
    "\n",
    "total = 0\n",
    "\n",
    "while True:\n",
    "    print(f'total = {total}')\n",
    "    k = input(\"Enter key: \")\n",
    "    \n",
    "    if k == '':\n",
    "        break\n",
    "        \n",
    "    elif k in d:\n",
    "        print(f'\\tYou chose {k}, value is {d[k]}')\n",
    "        total += d[k]   # retrieve the value for d[k]\n",
    "        \n",
    "    else:\n",
    "        print(f'key {k} is unknown ')\n",
    "\n",
    "print(f'Finally, total = {total}')\n"
   ]
  },
  {
   "cell_type": "code",
   "execution_count": null,
   "metadata": {},
   "outputs": [],
   "source": [
    "total = 0\n",
    "menu = {'sandwich':10, 'tea':7, 'soup':8}\n",
    "print(len(menu))\n",
    "\n",
    "while True:\n",
    "    order = input(\"Order: \")\n",
    "    \n",
    "    if order == '':\n",
    "        break\n",
    "    \n",
    "    elif order in menu:\n",
    "        price = menu[order]\n",
    "        total += price\n",
    "        print(f'{order} cost {price}; total is now {total}')\n",
    "        \n",
    "    else:\n",
    "        print(f'We are out of {order} today')\n",
    "        \n",
    "print(f'Total is {total}')\n",
    "        "
   ]
  },
  {
   "cell_type": "code",
   "execution_count": null,
   "metadata": {},
   "outputs": [],
   "source": [
    "# (0) Initialize an empty dict, \"rainfall\"\n",
    "# rainfall = {}\n",
    "\n",
    "# (1) Ask the user to enter a city name\n",
    "# while True -- we don't know how many iterations we'll run\n",
    "# use \"input\" to get the user's input\n",
    "\n",
    "# (2) If the city name is blank, stop asking and print the\n",
    "#      dictionary of rainfall accumulation\n",
    "# check if the input we got is an empty string\n",
    "\n",
    "# (3) If the city name is NOT blank, ask for mm rain that fell\n",
    "# ask for a 2nd piece of information -- mm_rain\n",
    "# remember: when we get input, it's a string!\n",
    "# so we'll need to convert the string into an integer\n",
    "\n",
    "# (4) Store the city + rainfall in a dict.  The city\n",
    "#     will be the key, and the rainfall will be the value.  \n",
    "# - check:\n",
    "# is the key in rainfall already ? If so, just add to its value\n",
    "# if the key is new (i.e., doesn't yet exist in rainfall),\n",
    "#   then we'll just set the value\n",
    "\n",
    "# (5) Add to the rainfall if a city repeats -- don't just overwrite\n",
    "#     the value\n",
    "\n",
    "City: Jerusalem\n",
    "Rain: 5\n",
    "City: Tel Aviv\n",
    "Rain: 4\n",
    "City: Jerusalem\n",
    "Rain: 3\n",
    "City: <enter>  \n",
    "    \n",
    "{'Jerusalem': 8, 'Tel Aviv': 4}"
   ]
  },
  {
   "cell_type": "code",
   "execution_count": null,
   "metadata": {},
   "outputs": [],
   "source": [
    "rainfall = {}\n",
    "\n",
    "while True:\n",
    "    city = input (\"Enter a city: \")\n",
    "    \n",
    "    if city == '':\n",
    "        break\n",
    "\n",
    "    rain = int( input (\"Enter the mm of rain that fell: \"))\n",
    "    \n",
    "    if city in rainfall:\n",
    "        value = int(rainfall[city])\n",
    "        value = value+rain\n",
    "        rainfall[city] = value\n",
    "    else:\n",
    "        rainfall[city] = rain\n",
    "print (rainfall)"
   ]
  },
  {
   "cell_type": "code",
   "execution_count": 112,
   "metadata": {},
   "outputs": [
    {
     "name": "stdout",
     "output_type": "stream",
     "text": [
      " Enter your city: a\n",
      "Enter rain amount: 1\n",
      " Enter your city: b\n",
      "Enter rain amount: 2\n",
      " Enter your city: a\n",
      "Enter rain amount: 3\n",
      " Enter your city: \n",
      "Total rainfall foe each city is as follwos {'a': 4, 'b': 2}\n"
     ]
    }
   ],
   "source": [
    "rainfall = {}\n",
    "while True: \n",
    "    city = input(\" Enter your city: \")\n",
    "    \n",
    "    if city == '':\n",
    "        break\n",
    "    \n",
    "    amount = input(\"Enter rain amount: \")\n",
    "    if not amount.isdigit():\n",
    "        print(f'{amount} is not valid value! amount try again')\n",
    "        continue\n",
    "\n",
    "    if city in rainfall:   # is city (already) a key in rainfall?\n",
    "        rainfall[city] += int(amount)  # add to existing amount\n",
    "    else:\n",
    "        rainfall[city] = int(amount)   # add a new key-value pair\n",
    "\n",
    "print(f'Total rainfall foe each city is as follwos {rainfall}')"
   ]
  },
  {
   "cell_type": "code",
   "execution_count": 113,
   "metadata": {},
   "outputs": [],
   "source": [
    "d = {'a':1, 'b':2, 'c':3}"
   ]
  },
  {
   "cell_type": "code",
   "execution_count": 114,
   "metadata": {},
   "outputs": [
    {
     "name": "stdout",
     "output_type": "stream",
     "text": [
      "{'a': 1, 'b': 2, 'c': 3}\n"
     ]
    }
   ],
   "source": [
    "print(d)"
   ]
  },
  {
   "cell_type": "code",
   "execution_count": 115,
   "metadata": {},
   "outputs": [
    {
     "name": "stdout",
     "output_type": "stream",
     "text": [
      "a\n",
      "b\n",
      "c\n"
     ]
    }
   ],
   "source": [
    "for one_item in d:\n",
    "    print(one_item)"
   ]
  },
  {
   "cell_type": "code",
   "execution_count": 116,
   "metadata": {},
   "outputs": [
    {
     "name": "stdout",
     "output_type": "stream",
     "text": [
      "a: 1\n",
      "b: 2\n",
      "c: 3\n"
     ]
    }
   ],
   "source": [
    "for key in d:\n",
    "    print(f'{key}: {d[key]}')"
   ]
  },
  {
   "cell_type": "code",
   "execution_count": 117,
   "metadata": {},
   "outputs": [
    {
     "name": "stdout",
     "output_type": "stream",
     "text": [
      "a: 1\n",
      "b: 2\n",
      "c: 3\n"
     ]
    }
   ],
   "source": [
    "for key, value in d.items():\n",
    "    print(f'{key}: {value}')"
   ]
  },
  {
   "cell_type": "code",
   "execution_count": 118,
   "metadata": {},
   "outputs": [
    {
     "data": {
      "text/plain": [
       "{'a': 4, 'b': 2}"
      ]
     },
     "execution_count": 118,
     "metadata": {},
     "output_type": "execute_result"
    }
   ],
   "source": [
    "rainfall"
   ]
  },
  {
   "cell_type": "code",
   "execution_count": 119,
   "metadata": {},
   "outputs": [
    {
     "name": "stdout",
     "output_type": "stream",
     "text": [
      "a: 4\n",
      "b: 2\n"
     ]
    }
   ],
   "source": [
    "for city, mm_rain in rainfall.items():\n",
    "    print(f'{city}: {mm_rain}')"
   ]
  },
  {
   "cell_type": "code",
   "execution_count": null,
   "metadata": {},
   "outputs": [],
   "source": []
  }
 ],
 "metadata": {
  "kernelspec": {
   "display_name": "Python 3",
   "language": "python",
   "name": "python3"
  },
  "language_info": {
   "codemirror_mode": {
    "name": "ipython",
    "version": 3
   },
   "file_extension": ".py",
   "mimetype": "text/x-python",
   "name": "python",
   "nbconvert_exporter": "python",
   "pygments_lexer": "ipython3",
   "version": "3.7.5"
  }
 },
 "nbformat": 4,
 "nbformat_minor": 4
}
