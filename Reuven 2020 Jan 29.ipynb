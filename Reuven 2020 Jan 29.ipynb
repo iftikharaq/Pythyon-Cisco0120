{
 "cells": [
  {
   "cell_type": "code",
   "execution_count": 1,
   "metadata": {},
   "outputs": [],
   "source": [
    "# None\n",
    "# True, False (boolean values)\n",
    "# numbers -- int, float\n",
    "# strings\n",
    "# lists, tuples\n",
    "\n",
    "# dict -- dictionary\n",
    "# files -- reading, writing "
   ]
  },
  {
   "cell_type": "code",
   "execution_count": 2,
   "metadata": {},
   "outputs": [],
   "source": [
    "# http://pythontutor.com"
   ]
  },
  {
   "cell_type": "code",
   "execution_count": 3,
   "metadata": {},
   "outputs": [],
   "source": [
    "# strings, lists, and tuples are all sequences\n",
    "\n",
    "# they can all:\n",
    "# - index with [i]  (a number in [])\n",
    "# - retrieve multiple items with a slice [start:end]\n",
    "# - search with \"in\"\n",
    "# - run a \"for\" loop on their elements\n",
    "# - use \"len\" to get the length\n",
    "\n",
    "# but:\n",
    "# - strings only contain characters (strings of length 1)\n",
    "# - strings + tuples are immutable (they cannot be changed)\n",
    "# - only lists' elements can be modified\n",
    "# - only lists can get bigger and smaller after being created"
   ]
  },
  {
   "cell_type": "code",
   "execution_count": 11,
   "metadata": {},
   "outputs": [
    {
     "data": {
      "text/plain": [
       "[10, 20, 30, 60]"
      ]
     },
     "execution_count": 11,
     "metadata": {},
     "output_type": "execute_result"
    }
   ],
   "source": [
    "mylist = []\n",
    "\n",
    "s = '10 20 abcd 30 4b 5a 60'\n",
    "for one_item in s.split():\n",
    "    if one_item.isdigit():\n",
    "        mylist.append(int(one_item))\n",
    "    \n",
    "mylist    "
   ]
  },
  {
   "cell_type": "code",
   "execution_count": 6,
   "metadata": {},
   "outputs": [
    {
     "data": {
      "text/plain": [
       "['10', '20', 'abcd', '30', '4b', '5a', '60']"
      ]
     },
     "execution_count": 6,
     "metadata": {},
     "output_type": "execute_result"
    }
   ],
   "source": [
    "mylist"
   ]
  },
  {
   "cell_type": "code",
   "execution_count": 7,
   "metadata": {},
   "outputs": [],
   "source": [
    "mylist.remove('30')  # removes one version of '30' from the list"
   ]
  },
  {
   "cell_type": "code",
   "execution_count": 8,
   "metadata": {},
   "outputs": [
    {
     "data": {
      "text/plain": [
       "['10', '20', 'abcd', '4b', '5a', '60']"
      ]
     },
     "execution_count": 8,
     "metadata": {},
     "output_type": "execute_result"
    }
   ],
   "source": [
    "mylist"
   ]
  },
  {
   "cell_type": "code",
   "execution_count": null,
   "metadata": {},
   "outputs": [],
   "source": []
  }
 ],
 "metadata": {
  "kernelspec": {
   "display_name": "Python 3",
   "language": "python",
   "name": "python3"
  },
  "language_info": {
   "codemirror_mode": {
    "name": "ipython",
    "version": 3
   },
   "file_extension": ".py",
   "mimetype": "text/x-python",
   "name": "python",
   "nbconvert_exporter": "python",
   "pygments_lexer": "ipython3",
   "version": "3.7.5"
  }
 },
 "nbformat": 4,
 "nbformat_minor": 4
}
