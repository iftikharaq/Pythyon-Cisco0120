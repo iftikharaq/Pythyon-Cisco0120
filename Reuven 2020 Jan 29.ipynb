{
 "cells": [
  {
   "cell_type": "code",
   "execution_count": 1,
   "metadata": {},
   "outputs": [],
   "source": [
    "# None\n",
    "# True, False (boolean values)\n",
    "# numbers -- int, float\n",
    "# strings\n",
    "# lists, tuples\n",
    "\n",
    "# dict -- dictionary\n",
    "# files -- reading, writing "
   ]
  },
  {
   "cell_type": "code",
   "execution_count": 2,
   "metadata": {},
   "outputs": [],
   "source": [
    "# http://pythontutor.com"
   ]
  },
  {
   "cell_type": "code",
   "execution_count": 3,
   "metadata": {},
   "outputs": [],
   "source": [
    "# strings, lists, and tuples are all sequences\n",
    "\n",
    "# they can all:\n",
    "# - index with [i]  (a number in [])\n",
    "# - retrieve multiple items with a slice [start:end]\n",
    "# - search with \"in\"\n",
    "# - run a \"for\" loop on their elements\n",
    "# - use \"len\" to get the length\n",
    "\n",
    "# but:\n",
    "# - strings only contain characters (strings of length 1)\n",
    "# - strings + tuples are immutable (they cannot be changed)\n",
    "# - only lists' elements can be modified\n",
    "# - only lists can get bigger and smaller after being created"
   ]
  },
  {
   "cell_type": "code",
   "execution_count": 11,
   "metadata": {},
   "outputs": [
    {
     "data": {
      "text/plain": [
       "[10, 20, 30, 60]"
      ]
     },
     "execution_count": 11,
     "metadata": {},
     "output_type": "execute_result"
    }
   ],
   "source": [
    "mylist = []\n",
    "\n",
    "s = '10 20 abcd 30 4b 5a 60'\n",
    "for one_item in s.split():\n",
    "    if one_item.isdigit():\n",
    "        mylist.append(int(one_item))\n",
    "    \n",
    "mylist    "
   ]
  },
  {
   "cell_type": "code",
   "execution_count": 6,
   "metadata": {},
   "outputs": [
    {
     "data": {
      "text/plain": [
       "['10', '20', 'abcd', '30', '4b', '5a', '60']"
      ]
     },
     "execution_count": 6,
     "metadata": {},
     "output_type": "execute_result"
    }
   ],
   "source": [
    "mylist"
   ]
  },
  {
   "cell_type": "code",
   "execution_count": 7,
   "metadata": {},
   "outputs": [],
   "source": [
    "mylist.remove('30')  # removes one version of '30' from the list"
   ]
  },
  {
   "cell_type": "code",
   "execution_count": 8,
   "metadata": {},
   "outputs": [
    {
     "data": {
      "text/plain": [
       "['10', '20', 'abcd', '4b', '5a', '60']"
      ]
     },
     "execution_count": 8,
     "metadata": {},
     "output_type": "execute_result"
    }
   ],
   "source": [
    "mylist"
   ]
  },
  {
   "cell_type": "code",
   "execution_count": 12,
   "metadata": {},
   "outputs": [],
   "source": [
    "s = 'abcd'"
   ]
  },
  {
   "cell_type": "code",
   "execution_count": 13,
   "metadata": {},
   "outputs": [
    {
     "data": {
      "text/plain": [
       "True"
      ]
     },
     "execution_count": 13,
     "metadata": {},
     "output_type": "execute_result"
    }
   ],
   "source": [
    "s.isalnum()"
   ]
  },
  {
   "cell_type": "code",
   "execution_count": 14,
   "metadata": {},
   "outputs": [
    {
     "data": {
      "text/plain": [
       "True"
      ]
     },
     "execution_count": 14,
     "metadata": {},
     "output_type": "execute_result"
    }
   ],
   "source": [
    "s = 'ab1234cd'\n",
    "s.isalnum()"
   ]
  },
  {
   "cell_type": "code",
   "execution_count": 15,
   "metadata": {},
   "outputs": [
    {
     "data": {
      "text/plain": [
       "False"
      ]
     },
     "execution_count": 15,
     "metadata": {},
     "output_type": "execute_result"
    }
   ],
   "source": [
    "s = 'ab 12'\n",
    "s.isalnum()"
   ]
  },
  {
   "cell_type": "code",
   "execution_count": 16,
   "metadata": {},
   "outputs": [
    {
     "data": {
      "text/plain": [
       "True"
      ]
     },
     "execution_count": 16,
     "metadata": {},
     "output_type": "execute_result"
    }
   ],
   "source": [
    "s.isascii()"
   ]
  },
  {
   "cell_type": "code",
   "execution_count": 19,
   "metadata": {},
   "outputs": [
    {
     "data": {
      "text/plain": [
       "['a', 'b', 'cd', 'ef', 'ghi']"
      ]
     },
     "execution_count": 19,
     "metadata": {},
     "output_type": "execute_result"
    }
   ],
   "source": [
    "# to turn a string into a list of strings, use \"split\"\n",
    "# you need to say what character/string is the field delimiter\n",
    "\n",
    "s = 'a:b:cd:ef:ghi'\n",
    "fields = s.split(':')   # returns a list of strings\n",
    "fields"
   ]
  },
  {
   "cell_type": "code",
   "execution_count": 21,
   "metadata": {},
   "outputs": [
    {
     "data": {
      "text/plain": [
       "'a*b*cd*ef*ghi'"
      ]
     },
     "execution_count": 21,
     "metadata": {},
     "output_type": "execute_result"
    }
   ],
   "source": [
    "'*'.join(fields)   # returns a string based on '*' and fields"
   ]
  },
  {
   "cell_type": "code",
   "execution_count": 22,
   "metadata": {},
   "outputs": [
    {
     "data": {
      "text/plain": [
       "tuple"
      ]
     },
     "execution_count": 22,
     "metadata": {},
     "output_type": "execute_result"
    }
   ],
   "source": [
    "# tuples are basically immutable lists\n",
    "# meaning: you can create them, but you cannot change them.\n",
    "\n",
    "t = (100, 200, 300, 400)\n",
    "type(t)"
   ]
  },
  {
   "cell_type": "code",
   "execution_count": 23,
   "metadata": {
    "scrolled": true
   },
   "outputs": [
    {
     "data": {
      "text/plain": [
       "True"
      ]
     },
     "execution_count": 23,
     "metadata": {},
     "output_type": "execute_result"
    }
   ],
   "source": [
    "300 in t"
   ]
  },
  {
   "cell_type": "code",
   "execution_count": null,
   "metadata": {},
   "outputs": [],
   "source": [
    "# tuples, for you, are mostly to know what you're seeing with\n",
    "# round parentheses."
   ]
  },
  {
   "cell_type": "code",
   "execution_count": 24,
   "metadata": {},
   "outputs": [],
   "source": [
    "# (0) Create two empty lists, one called \"evens\" and one called \"odds\"\n",
    "# - evens = []\n",
    "\n",
    "# (1) Ask the user, again and again, to enter a number.\n",
    "# - if I don't know how many times I'll do something, I'll use\n",
    "#   a while loop.  And I can say \"while True\" for an infinite loop.\n",
    "\n",
    "# (2) If they give an empty string, stop asking\n",
    "# - if the user's input is == '', then we'll *break* out of the loop\n",
    "\n",
    "# (3) If they give a non-numeric input, scold them and try again\n",
    "# - if not x.isdigit()\n",
    "\n",
    "# (4) If they give a number, then add the number to either\n",
    "# the \"evens\" or \"odds\" list, depending on whether it's even\n",
    "# or odd.\n",
    "# - if we got something that can be turned into a number, then\n",
    "# - turn it into a number (i.e., use int() on it)\n",
    "# - check if it's odd or even... and append it to the right\n",
    "#   list.  Use either evens.append() or odds.append()\n",
    "\n",
    "\n",
    "# (5) When we exit the loop, print the total + average of \n",
    "# each of the lists (evens and odds).\n",
    "# - total each list by iterating (i.e., use a for loop)\n",
    "#   over each, totalling the values ...\n"
   ]
  },
  {
   "cell_type": "code",
   "execution_count": 25,
   "metadata": {},
   "outputs": [
    {
     "data": {
      "text/plain": [
       "0"
      ]
     },
     "execution_count": 25,
     "metadata": {},
     "output_type": "execute_result"
    }
   ],
   "source": [
    "# to find out if a number is even, then divide it by 2.\n",
    "# if the remainder is 0, it's even.  Otherwise, it's odd.\n",
    "\n",
    "# the % (modulus) operator returns the remainder from \n",
    "# a division problem\n",
    "\n",
    "10 % 2"
   ]
  },
  {
   "cell_type": "code",
   "execution_count": 26,
   "metadata": {},
   "outputs": [
    {
     "data": {
      "text/plain": [
       "1"
      ]
     },
     "execution_count": 26,
     "metadata": {},
     "output_type": "execute_result"
    }
   ],
   "source": [
    "11 % 2"
   ]
  },
  {
   "cell_type": "code",
   "execution_count": null,
   "metadata": {},
   "outputs": [],
   "source": []
  }
 ],
 "metadata": {
  "kernelspec": {
   "display_name": "Python 3",
   "language": "python",
   "name": "python3"
  },
  "language_info": {
   "codemirror_mode": {
    "name": "ipython",
    "version": 3
   },
   "file_extension": ".py",
   "mimetype": "text/x-python",
   "name": "python",
   "nbconvert_exporter": "python",
   "pygments_lexer": "ipython3",
   "version": "3.7.5"
  }
 },
 "nbformat": 4,
 "nbformat_minor": 4
}
