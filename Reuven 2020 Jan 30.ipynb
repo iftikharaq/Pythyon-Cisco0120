{
 "cells": [
  {
   "cell_type": "code",
   "execution_count": 1,
   "metadata": {},
   "outputs": [],
   "source": [
    "# (1) Create a dictionary with the following keys:\n",
    "# - 'vowels'\n",
    "# - 'whitespace'\n",
    "# - 'consonants'\n",
    "# - 'other'\n",
    "\n",
    "# the values for each of these keys should be 0\n",
    "\n",
    "# (2) Ask the user to enter a filename\n",
    "\n",
    "# (3) Iterate over each line (aka for loop) in the file,\n",
    "# - and then iterate over (another for loop) \n",
    "#   each character in the line.\n",
    "\n",
    "# nested loops\n",
    "\n",
    "for one_item in big_thing:\n",
    "    for one_small_item in one_item:\n",
    "        pass\n",
    "        \n",
    "        \n",
    "for one_line in open(filename):\n",
    "    for one_character in one_line:\n",
    "        pass\n",
    "\n",
    "\n",
    "\n",
    "# (4) Test to see if the character is whitespace / vowel / consonant\n",
    "# if it's none of those, it's \"other\"\n",
    "# Add 1 to the score/count for the right type of character\n",
    "\n",
    "# 4 tests:\n",
    "\n",
    "if one_character in 'aeiou':\n",
    "elif one_character.isalpha()\n",
    "elif one_character.isspace()\n",
    "else:\n",
    "    \n",
    "\n",
    "\n",
    "# - whitespace -- check with the .isspace() method\n",
    "# - vowel -- check to see if it's in 'aeiou'\n",
    "# - consonant -- check to see if it's .isalpha()\n",
    "# - other -- anything else at all\n",
    "\n",
    "# (5) In the end, iterate over the dictionary, printing \n",
    "# the key and value for each type.  (if this is too hard,\n",
    "# then you can just print the dict)\n",
    "\n",
    "for key, value in d.items():\n",
    "    print('something')"
   ]
  },
  {
   "cell_type": "code",
   "execution_count": 2,
   "metadata": {},
   "outputs": [],
   "source": [
    "s = 'abc'"
   ]
  },
  {
   "cell_type": "code",
   "execution_count": null,
   "metadata": {},
   "outputs": [],
   "source": []
  }
 ],
 "metadata": {
  "kernelspec": {
   "display_name": "Python 3",
   "language": "python",
   "name": "python3"
  },
  "language_info": {
   "codemirror_mode": {
    "name": "ipython",
    "version": 3
   },
   "file_extension": ".py",
   "mimetype": "text/x-python",
   "name": "python",
   "nbconvert_exporter": "python",
   "pygments_lexer": "ipython3",
   "version": "3.7.5"
  }
 },
 "nbformat": 4,
 "nbformat_minor": 4
}
