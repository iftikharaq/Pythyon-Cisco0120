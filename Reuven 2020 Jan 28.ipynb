{
 "cells": [
  {
   "cell_type": "code",
   "execution_count": 1,
   "metadata": {},
   "outputs": [
    {
     "data": {
      "text/plain": [
       "17"
      ]
     },
     "execution_count": 1,
     "metadata": {},
     "output_type": "execute_result"
    }
   ],
   "source": [
    "# http://python.lerner.co.il:8888\n",
    "\n",
    "# round parentheses -- () -- invoking functions\n",
    "#   make the function do its job\n",
    "\n",
    "2 + 3 * 5"
   ]
  },
  {
   "cell_type": "code",
   "execution_count": 2,
   "metadata": {},
   "outputs": [
    {
     "data": {
      "text/plain": [
       "25"
      ]
     },
     "execution_count": 2,
     "metadata": {},
     "output_type": "execute_result"
    }
   ],
   "source": [
    "(2 + 3) * 5"
   ]
  },
  {
   "cell_type": "code",
   "execution_count": 3,
   "metadata": {},
   "outputs": [
    {
     "data": {
      "text/plain": [
       "'c'"
      ]
     },
     "execution_count": 3,
     "metadata": {},
     "output_type": "execute_result"
    }
   ],
   "source": [
    "# square brackets -- [] -- typically for retrieving 1 or more items\n",
    "s = 'abcd'\n",
    "s[2]   # retrieving from index 2... so I use []"
   ]
  },
  {
   "cell_type": "code",
   "execution_count": 4,
   "metadata": {},
   "outputs": [
    {
     "data": {
      "text/plain": [
       "'ABCD'"
      ]
     },
     "execution_count": 4,
     "metadata": {},
     "output_type": "execute_result"
    }
   ],
   "source": [
    "s.upper()   # invoking the method \"upper\", so I use ()"
   ]
  },
  {
   "cell_type": "code",
   "execution_count": 5,
   "metadata": {},
   "outputs": [
    {
     "data": {
      "text/plain": [
       "'C'"
      ]
     },
     "execution_count": 5,
     "metadata": {},
     "output_type": "execute_result"
    }
   ],
   "source": [
    "s.upper()[2]   # retrieve index 2 from the string returned by s.upper()"
   ]
  },
  {
   "cell_type": "code",
   "execution_count": 6,
   "metadata": {},
   "outputs": [
    {
     "data": {
      "text/plain": [
       "'C'"
      ]
     },
     "execution_count": 6,
     "metadata": {},
     "output_type": "execute_result"
    }
   ],
   "source": [
    "'ABCD'[2]"
   ]
  },
  {
   "cell_type": "code",
   "execution_count": 7,
   "metadata": {},
   "outputs": [
    {
     "data": {
      "text/plain": [
       "500"
      ]
     },
     "execution_count": 7,
     "metadata": {},
     "output_type": "execute_result"
    }
   ],
   "source": [
    "# integers\n",
    "x = 100  # assign an integer to a variable\n",
    "x * 5    # run multiplication on x"
   ]
  },
  {
   "cell_type": "code",
   "execution_count": 8,
   "metadata": {},
   "outputs": [
    {
     "data": {
      "text/plain": [
       "100"
      ]
     },
     "execution_count": 8,
     "metadata": {},
     "output_type": "execute_result"
    }
   ],
   "source": [
    "x"
   ]
  },
  {
   "cell_type": "code",
   "execution_count": 9,
   "metadata": {},
   "outputs": [
    {
     "data": {
      "text/plain": [
       "12345"
      ]
     },
     "execution_count": 9,
     "metadata": {},
     "output_type": "execute_result"
    }
   ],
   "source": [
    "# to create an integer based on a string, use \"int\" as a function\n",
    "x = int('12345')\n",
    "x"
   ]
  },
  {
   "cell_type": "code",
   "execution_count": 10,
   "metadata": {},
   "outputs": [
    {
     "data": {
      "text/plain": [
       "int"
      ]
     },
     "execution_count": 10,
     "metadata": {},
     "output_type": "execute_result"
    }
   ],
   "source": [
    "type(x)"
   ]
  },
  {
   "cell_type": "code",
   "execution_count": 11,
   "metadata": {},
   "outputs": [
    {
     "ename": "ValueError",
     "evalue": "invalid literal for int() with base 10: 'hello'",
     "output_type": "error",
     "traceback": [
      "\u001b[0;31m---------------------------------------------------------------------------\u001b[0m",
      "\u001b[0;31mValueError\u001b[0m                                Traceback (most recent call last)",
      "\u001b[0;32m<ipython-input-11-f1be5de7e10e>\u001b[0m in \u001b[0;36m<module>\u001b[0;34m\u001b[0m\n\u001b[0;32m----> 1\u001b[0;31m \u001b[0mx\u001b[0m \u001b[0;34m=\u001b[0m \u001b[0mint\u001b[0m\u001b[0;34m(\u001b[0m\u001b[0;34m'hello'\u001b[0m\u001b[0;34m)\u001b[0m\u001b[0;34m\u001b[0m\u001b[0;34m\u001b[0m\u001b[0m\n\u001b[0m",
      "\u001b[0;31mValueError\u001b[0m: invalid literal for int() with base 10: 'hello'"
     ]
    }
   ],
   "source": [
    "x = int('hello')"
   ]
  },
  {
   "cell_type": "code",
   "execution_count": 12,
   "metadata": {},
   "outputs": [
    {
     "ename": "ValueError",
     "evalue": "invalid literal for int() with base 10: '123abc'",
     "output_type": "error",
     "traceback": [
      "\u001b[0;31m---------------------------------------------------------------------------\u001b[0m",
      "\u001b[0;31mValueError\u001b[0m                                Traceback (most recent call last)",
      "\u001b[0;32m<ipython-input-12-52251370e128>\u001b[0m in \u001b[0;36m<module>\u001b[0;34m\u001b[0m\n\u001b[0;32m----> 1\u001b[0;31m \u001b[0mx\u001b[0m \u001b[0;34m=\u001b[0m \u001b[0mint\u001b[0m\u001b[0;34m(\u001b[0m\u001b[0;34m'123abc'\u001b[0m\u001b[0;34m)\u001b[0m\u001b[0;34m\u001b[0m\u001b[0;34m\u001b[0m\u001b[0m\n\u001b[0m",
      "\u001b[0;31mValueError\u001b[0m: invalid literal for int() with base 10: '123abc'"
     ]
    }
   ],
   "source": [
    "x = int('123abc')"
   ]
  },
  {
   "cell_type": "code",
   "execution_count": 13,
   "metadata": {},
   "outputs": [
    {
     "data": {
      "text/plain": [
       "101"
      ]
     },
     "execution_count": 13,
     "metadata": {},
     "output_type": "execute_result"
    }
   ],
   "source": [
    "x = 100\n",
    "x = x + 1    # this means: calculate x+1, then assign it (back) to x\n",
    "x"
   ]
  },
  {
   "cell_type": "code",
   "execution_count": 14,
   "metadata": {},
   "outputs": [],
   "source": [
    "# I can also say:\n",
    "x += 1    # means the same thing as x=x+1"
   ]
  },
  {
   "cell_type": "code",
   "execution_count": 15,
   "metadata": {},
   "outputs": [
    {
     "data": {
      "text/plain": [
       "102"
      ]
     },
     "execution_count": 15,
     "metadata": {},
     "output_type": "execute_result"
    }
   ],
   "source": [
    "x"
   ]
  },
  {
   "cell_type": "code",
   "execution_count": 16,
   "metadata": {},
   "outputs": [
    {
     "data": {
      "text/plain": [
       "int"
      ]
     },
     "execution_count": 16,
     "metadata": {},
     "output_type": "execute_result"
    }
   ],
   "source": [
    "type(x)"
   ]
  },
  {
   "cell_type": "code",
   "execution_count": 17,
   "metadata": {},
   "outputs": [
    {
     "data": {
      "text/plain": [
       "False"
      ]
     },
     "execution_count": 17,
     "metadata": {},
     "output_type": "execute_result"
    }
   ],
   "source": [
    "x == 100   # asks the question: is the value of x the same as the value 100?"
   ]
  },
  {
   "cell_type": "code",
   "execution_count": 18,
   "metadata": {},
   "outputs": [
    {
     "data": {
      "text/plain": [
       "102"
      ]
     },
     "execution_count": 18,
     "metadata": {},
     "output_type": "execute_result"
    }
   ],
   "source": [
    "x"
   ]
  },
  {
   "cell_type": "code",
   "execution_count": 19,
   "metadata": {},
   "outputs": [
    {
     "data": {
      "text/plain": [
       "False"
      ]
     },
     "execution_count": 19,
     "metadata": {},
     "output_type": "execute_result"
    }
   ],
   "source": [
    "# == != <= >= < >\n",
    "\n",
    "x = 100\n",
    "y = '100'\n",
    "\n",
    "x == y"
   ]
  },
  {
   "cell_type": "code",
   "execution_count": 20,
   "metadata": {},
   "outputs": [
    {
     "data": {
      "text/plain": [
       "200"
      ]
     },
     "execution_count": 20,
     "metadata": {},
     "output_type": "execute_result"
    }
   ],
   "source": [
    "x + int(y)"
   ]
  },
  {
   "cell_type": "code",
   "execution_count": 21,
   "metadata": {},
   "outputs": [
    {
     "data": {
      "text/plain": [
       "'100100'"
      ]
     },
     "execution_count": 21,
     "metadata": {},
     "output_type": "execute_result"
    }
   ],
   "source": [
    "str(x) + y"
   ]
  },
  {
   "cell_type": "code",
   "execution_count": 22,
   "metadata": {},
   "outputs": [
    {
     "data": {
      "text/plain": [
       "True"
      ]
     },
     "execution_count": 22,
     "metadata": {},
     "output_type": "execute_result"
    }
   ],
   "source": [
    "x == int(y)"
   ]
  },
  {
   "cell_type": "code",
   "execution_count": 23,
   "metadata": {},
   "outputs": [
    {
     "data": {
      "text/plain": [
       "True"
      ]
     },
     "execution_count": 23,
     "metadata": {},
     "output_type": "execute_result"
    }
   ],
   "source": [
    "str(x) == y"
   ]
  },
  {
   "cell_type": "code",
   "execution_count": 24,
   "metadata": {},
   "outputs": [
    {
     "name": "stdout",
     "output_type": "stream",
     "text": [
      "abcde\n"
     ]
    }
   ],
   "source": [
    "s = 'abcde'\n",
    "print(s)"
   ]
  },
  {
   "cell_type": "code",
   "execution_count": 25,
   "metadata": {},
   "outputs": [
    {
     "name": "stdout",
     "output_type": "stream",
     "text": [
      "abc\n",
      "def\n",
      "ghi\n"
     ]
    }
   ],
   "source": [
    "s = 'abc\\ndef\\nghi'  # \\n == newline character\n",
    "print(s)  # display it for our customers/users, not necessarily programmers"
   ]
  },
  {
   "cell_type": "code",
   "execution_count": 26,
   "metadata": {},
   "outputs": [
    {
     "data": {
      "text/plain": [
       "'abc\\ndef\\nghi'"
      ]
     },
     "execution_count": 26,
     "metadata": {},
     "output_type": "execute_result"
    }
   ],
   "source": [
    "s  # is for programmers to understand the data"
   ]
  },
  {
   "cell_type": "code",
   "execution_count": 27,
   "metadata": {},
   "outputs": [
    {
     "data": {
      "text/plain": [
       "26"
      ]
     },
     "execution_count": 27,
     "metadata": {},
     "output_type": "execute_result"
    }
   ],
   "source": [
    "s = 'abcdefghijklmnopqrstuvwxyz'\n",
    "len(s)"
   ]
  },
  {
   "cell_type": "code",
   "execution_count": 28,
   "metadata": {},
   "outputs": [
    {
     "data": {
      "text/plain": [
       "'k'"
      ]
     },
     "execution_count": 28,
     "metadata": {},
     "output_type": "execute_result"
    }
   ],
   "source": [
    "# retrieve one item with [] and an integer\n",
    "s[10]"
   ]
  },
  {
   "cell_type": "code",
   "execution_count": 29,
   "metadata": {},
   "outputs": [
    {
     "data": {
      "text/plain": [
       "'p'"
      ]
     },
     "execution_count": 29,
     "metadata": {},
     "output_type": "execute_result"
    }
   ],
   "source": [
    "s[15]"
   ]
  },
  {
   "cell_type": "code",
   "execution_count": 30,
   "metadata": {},
   "outputs": [
    {
     "data": {
      "text/plain": [
       "'a'"
      ]
     },
     "execution_count": 30,
     "metadata": {},
     "output_type": "execute_result"
    }
   ],
   "source": [
    "s[0]  # this is the first letter!"
   ]
  },
  {
   "cell_type": "code",
   "execution_count": 31,
   "metadata": {},
   "outputs": [
    {
     "data": {
      "text/plain": [
       "'z'"
      ]
     },
     "execution_count": 31,
     "metadata": {},
     "output_type": "execute_result"
    }
   ],
   "source": [
    "s[25]  # this is the final letter!"
   ]
  },
  {
   "cell_type": "code",
   "execution_count": 32,
   "metadata": {},
   "outputs": [
    {
     "data": {
      "text/plain": [
       "'klmnopqrst'"
      ]
     },
     "execution_count": 32,
     "metadata": {},
     "output_type": "execute_result"
    }
   ],
   "source": [
    "# retrieve more than one item with a \"slice\" -- start:end+1\n",
    "s[10:20]  # from index 10 until (not including) index 20"
   ]
  },
  {
   "cell_type": "code",
   "execution_count": 33,
   "metadata": {},
   "outputs": [
    {
     "data": {
      "text/plain": [
       "'abcdefghijklmnopqrst'"
      ]
     },
     "execution_count": 33,
     "metadata": {},
     "output_type": "execute_result"
    }
   ],
   "source": [
    "s[:20]  # from start until (not including) 20"
   ]
  },
  {
   "cell_type": "code",
   "execution_count": 34,
   "metadata": {},
   "outputs": [
    {
     "data": {
      "text/plain": [
       "'uvwxyz'"
      ]
     },
     "execution_count": 34,
     "metadata": {},
     "output_type": "execute_result"
    }
   ],
   "source": [
    "s[20:]  # from 20 until the end"
   ]
  },
  {
   "cell_type": "code",
   "execution_count": 35,
   "metadata": {},
   "outputs": [
    {
     "data": {
      "text/plain": [
       "True"
      ]
     },
     "execution_count": 35,
     "metadata": {},
     "output_type": "execute_result"
    }
   ],
   "source": [
    "'j' in s"
   ]
  },
  {
   "cell_type": "code",
   "execution_count": 36,
   "metadata": {},
   "outputs": [
    {
     "data": {
      "text/plain": [
       "False"
      ]
     },
     "execution_count": 36,
     "metadata": {},
     "output_type": "execute_result"
    }
   ],
   "source": [
    "'.' in s"
   ]
  },
  {
   "cell_type": "code",
   "execution_count": 38,
   "metadata": {},
   "outputs": [
    {
     "name": "stdout",
     "output_type": "stream",
     "text": [
      "The letter at index 15 is p.\n"
     ]
    }
   ],
   "source": [
    "# f-strings are strings!  But they contain {} , and inside of those, we can\n",
    "# have Python expressions -- basically, variables + function/method calls\n",
    "\n",
    "i = 15\n",
    "print(f'The letter at index {i} is {s[i]}.')"
   ]
  },
  {
   "cell_type": "code",
   "execution_count": 39,
   "metadata": {},
   "outputs": [
    {
     "name": "stdout",
     "output_type": "stream",
     "text": [
      "The letter at index 15 is p, and the next one is q.\n"
     ]
    }
   ],
   "source": [
    "print(f'The letter at index {i} is {s[i]}, and the next one is {s[i+1]}.')"
   ]
  },
  {
   "cell_type": "code",
   "execution_count": 40,
   "metadata": {},
   "outputs": [
    {
     "data": {
      "text/plain": [
       "'The letter at index 15 is p, and the next one is q.'"
      ]
     },
     "execution_count": 40,
     "metadata": {},
     "output_type": "execute_result"
    }
   ],
   "source": [
    "# f comes before the opening quote\n",
    "# it tells Python: Evaluate anything in {}\n",
    "f'The letter at index {i} is {s[i]}, and the next one is {s[i+1]}.'"
   ]
  },
  {
   "cell_type": "code",
   "execution_count": 41,
   "metadata": {},
   "outputs": [],
   "source": [
    "# if CONDITION:\n",
    "#     what-to-do-if-it-is-true\n",
    "# else:\n",
    "#     what-to-do-if-it-is-false"
   ]
  },
  {
   "cell_type": "code",
   "execution_count": 44,
   "metadata": {},
   "outputs": [
    {
     "name": "stdout",
     "output_type": "stream",
     "text": [
      "Wow, that is a big number\n"
     ]
    }
   ],
   "source": [
    "x = 100\n",
    "if x > 50:\n",
    "    print(\"Wow, that is a big number\")\n",
    "elif x > 90:\n",
    "    print(\"Wow, that's a very big number!\")\n",
    "else:\n",
    "    print(\"Not so big\")"
   ]
  },
  {
   "cell_type": "code",
   "execution_count": 47,
   "metadata": {},
   "outputs": [
    {
     "name": "stdout",
     "output_type": "stream",
     "text": [
      "100 + 200 = 300\n"
     ]
    }
   ],
   "source": [
    "# (1) Ask the user to enter two numbers (separately, in two separate questions, \n",
    "# and assigning to two separate variables).\n",
    "\n",
    "# (2) Ask the user to choose an operation, + or -\n",
    "\n",
    "# (3) Depending on the user's input:\n",
    "# - Add the two numbers and print the result  # show: 2 + 3 = 5\n",
    "# - Subtract the numbers and print the result\n",
    "# - I don't support that operation\n",
    "\n",
    "x = 100\n",
    "y = 200\n",
    "\n",
    "print(f'{x} + {y} = {x+y}')"
   ]
  },
  {
   "cell_type": "code",
   "execution_count": 48,
   "metadata": {},
   "outputs": [
    {
     "name": "stdout",
     "output_type": "stream",
     "text": [
      "100 + 200 = 300\n"
     ]
    }
   ],
   "source": [
    "s = f'{x} + {y} = {x+y}'\n",
    "print(s)"
   ]
  },
  {
   "cell_type": "code",
   "execution_count": 49,
   "metadata": {},
   "outputs": [
    {
     "name": "stdout",
     "output_type": "stream",
     "text": [
      "100\n"
     ]
    }
   ],
   "source": [
    "print(100)"
   ]
  },
  {
   "cell_type": "code",
   "execution_count": 50,
   "metadata": {},
   "outputs": [
    {
     "name": "stdout",
     "output_type": "stream",
     "text": [
      "abcd\n"
     ]
    }
   ],
   "source": [
    "print('abcd')"
   ]
  },
  {
   "cell_type": "code",
   "execution_count": 51,
   "metadata": {},
   "outputs": [
    {
     "name": "stdout",
     "output_type": "stream",
     "text": [
      "abcd\n"
     ]
    }
   ],
   "source": [
    "s = 'abcd'\n",
    "print(s)"
   ]
  },
  {
   "cell_type": "code",
   "execution_count": 52,
   "metadata": {},
   "outputs": [
    {
     "name": "stdout",
     "output_type": "stream",
     "text": [
      "100 + 200 = 300\n"
     ]
    }
   ],
   "source": [
    "s = str(x) + ' + ' + str(y) + ' = ' + str(x+y)\n",
    "print(s)\n"
   ]
  },
  {
   "cell_type": "code",
   "execution_count": 53,
   "metadata": {},
   "outputs": [
    {
     "name": "stdout",
     "output_type": "stream",
     "text": [
      "100 + 200 = 300\n"
     ]
    }
   ],
   "source": [
    "s = f'{x} + {y} = {x+y}'\n",
    "print(s)"
   ]
  },
  {
   "cell_type": "code",
   "execution_count": 54,
   "metadata": {},
   "outputs": [
    {
     "name": "stdout",
     "output_type": "stream",
     "text": [
      "100 + 200 = 300\n"
     ]
    }
   ],
   "source": [
    "print(f'{x} + {y} = {x+y}')"
   ]
  },
  {
   "cell_type": "code",
   "execution_count": 65,
   "metadata": {},
   "outputs": [
    {
     "name": "stdout",
     "output_type": "stream",
     "text": [
      "Enter a 1st number: 10\n",
      "Enter a 2nd number: \n"
     ]
    },
    {
     "ename": "ValueError",
     "evalue": "invalid literal for int() with base 10: ''",
     "output_type": "error",
     "traceback": [
      "\u001b[0;31m---------------------------------------------------------------------------\u001b[0m",
      "\u001b[0;31mValueError\u001b[0m                                Traceback (most recent call last)",
      "\u001b[0;32m<ipython-input-65-2b7489409e8c>\u001b[0m in \u001b[0;36m<module>\u001b[0;34m\u001b[0m\n\u001b[1;32m      1\u001b[0m \u001b[0mfirst\u001b[0m \u001b[0;34m=\u001b[0m \u001b[0mint\u001b[0m\u001b[0;34m(\u001b[0m\u001b[0minput\u001b[0m\u001b[0;34m(\u001b[0m\u001b[0;34m\"Enter a 1st number: \"\u001b[0m\u001b[0;34m)\u001b[0m\u001b[0;34m)\u001b[0m\u001b[0;34m\u001b[0m\u001b[0;34m\u001b[0m\u001b[0m\n\u001b[0;32m----> 2\u001b[0;31m \u001b[0msecond\u001b[0m \u001b[0;34m=\u001b[0m \u001b[0mint\u001b[0m\u001b[0;34m(\u001b[0m\u001b[0minput\u001b[0m\u001b[0;34m(\u001b[0m\u001b[0;34m\"Enter a 2nd number: \"\u001b[0m\u001b[0;34m)\u001b[0m\u001b[0;34m)\u001b[0m\u001b[0;34m\u001b[0m\u001b[0;34m\u001b[0m\u001b[0m\n\u001b[0m\u001b[1;32m      3\u001b[0m \u001b[0mop\u001b[0m \u001b[0;34m=\u001b[0m \u001b[0minput\u001b[0m\u001b[0;34m(\u001b[0m\u001b[0;34m\"Enter an operation: \"\u001b[0m\u001b[0;34m)\u001b[0m\u001b[0;34m\u001b[0m\u001b[0;34m\u001b[0m\u001b[0m\n\u001b[1;32m      4\u001b[0m \u001b[0;34m\u001b[0m\u001b[0m\n\u001b[1;32m      5\u001b[0m \u001b[0;32mif\u001b[0m \u001b[0mop\u001b[0m \u001b[0;34m==\u001b[0m \u001b[0;34m'+'\u001b[0m\u001b[0;34m:\u001b[0m\u001b[0;34m\u001b[0m\u001b[0;34m\u001b[0m\u001b[0m\n",
      "\u001b[0;31mValueError\u001b[0m: invalid literal for int() with base 10: ''"
     ]
    }
   ],
   "source": [
    "first = int(input(\"Enter a 1st number: \"))\n",
    "second = int(input(\"Enter a 2nd number: \"))\n",
    "op = input(\"Enter an operation: \")\n",
    "\n",
    "if op == '+':\n",
    "    s = f'{first} + {second} = {first+second}'\n",
    "elif op == '-':\n",
    "    s = f'{first} - {second} = {first-second}'\n",
    "elif op == '*':\n",
    "    s = f'{first} * {second} = {first*second}'\n",
    "else:\n",
    "    s = f'Operation {op} is not recognized.'\n",
    "print(s)"
   ]
  },
  {
   "cell_type": "code",
   "execution_count": null,
   "metadata": {},
   "outputs": [],
   "source": [
    "## f'Operation {op} is not recognized.'"
   ]
  },
  {
   "cell_type": "code",
   "execution_count": 62,
   "metadata": {},
   "outputs": [
    {
     "data": {
      "text/plain": [
       "'10 * 20 = 200'"
      ]
     },
     "execution_count": 62,
     "metadata": {},
     "output_type": "execute_result"
    }
   ],
   "source": [
    "s"
   ]
  },
  {
   "cell_type": "code",
   "execution_count": 64,
   "metadata": {},
   "outputs": [
    {
     "name": "stdout",
     "output_type": "stream",
     "text": [
      "Operation @ is not recognized.\n"
     ]
    }
   ],
   "source": [
    "if op == '+':\n",
    "    s = f'{first} + {second} = {first+second}'\n",
    "elif op == '-':\n",
    "    s = f'{first} - {second} = {first-second}'\n",
    "elif op == '*':\n",
    "    s = f'{first} * {second} = {first*second}'\n",
    "else:\n",
    "    s = f'Operation {op} is not recognized.'\n",
    "print(s)"
   ]
  },
  {
   "cell_type": "code",
   "execution_count": 66,
   "metadata": {},
   "outputs": [],
   "source": [
    "# DRY -- don't repeat yourself\n",
    "\n",
    "# \"drying up code\""
   ]
  },
  {
   "cell_type": "code",
   "execution_count": 67,
   "metadata": {},
   "outputs": [
    {
     "name": "stdout",
     "output_type": "stream",
     "text": [
      "Hello\n",
      "Hello\n",
      "Hello\n"
     ]
    }
   ],
   "source": [
    "print(\"Hello\")\n",
    "print(\"Hello\")\n",
    "print(\"Hello\")"
   ]
  },
  {
   "cell_type": "code",
   "execution_count": 68,
   "metadata": {},
   "outputs": [
    {
     "name": "stdout",
     "output_type": "stream",
     "text": [
      "a\n",
      "b\n",
      "c\n",
      "d\n"
     ]
    }
   ],
   "source": [
    "s = 'abcd'\n",
    "print(s[0])\n",
    "print(s[1])\n",
    "print(s[2])\n",
    "print(s[3])"
   ]
  },
  {
   "cell_type": "code",
   "execution_count": 69,
   "metadata": {},
   "outputs": [],
   "source": [
    "# loop -- controlled repeating of a code block\n",
    "# two types of loops in Python:\n",
    "# - for loop\n",
    "# - while loop"
   ]
  },
  {
   "cell_type": "code",
   "execution_count": 70,
   "metadata": {},
   "outputs": [
    {
     "name": "stdout",
     "output_type": "stream",
     "text": [
      "a\n",
      "b\n",
      "c\n",
      "d\n"
     ]
    }
   ],
   "source": [
    "s = 'abcd'\n",
    "for one_letter in s:\n",
    "    print(one_letter)"
   ]
  },
  {
   "cell_type": "code",
   "execution_count": null,
   "metadata": {},
   "outputs": [],
   "source": [
    "# (1) Ask the user to enter a word\n",
    "# (2) Print the number of vowels that appear in that word\n",
    "\n",
    "Word: computer\n",
    "computer has 3 vowels.\n"
   ]
  },
  {
   "cell_type": "code",
   "execution_count": 71,
   "metadata": {},
   "outputs": [
    {
     "name": "stdout",
     "output_type": "stream",
     "text": [
      "a\n",
      "b\n",
      "c\n",
      "d\n"
     ]
    }
   ],
   "source": [
    "s = 'abcd'\n",
    "for one_letter in s:\n",
    "    print(one_letter)\n"
   ]
  },
  {
   "cell_type": "code",
   "execution_count": 72,
   "metadata": {},
   "outputs": [
    {
     "data": {
      "text/plain": [
       "True"
      ]
     },
     "execution_count": 72,
     "metadata": {},
     "output_type": "execute_result"
    }
   ],
   "source": [
    "one_letter = 'a'\n",
    "one_letter in 'aeiou'   # returns True or False -- whether it's in there"
   ]
  },
  {
   "cell_type": "code",
   "execution_count": 74,
   "metadata": {},
   "outputs": [
    {
     "data": {
      "text/plain": [
       "False"
      ]
     },
     "execution_count": 74,
     "metadata": {},
     "output_type": "execute_result"
    }
   ],
   "source": [
    "one_letter = '!'\n",
    "one_letter in 'aeiou'  # returns False"
   ]
  },
  {
   "cell_type": "code",
   "execution_count": 77,
   "metadata": {},
   "outputs": [
    {
     "name": "stdout",
     "output_type": "stream",
     "text": [
      "Enter a word: elephant\n",
      "elephant has 3 vowels.\n"
     ]
    }
   ],
   "source": [
    "word = input(\"Enter a word: \")\n",
    "vowel_count = 0\n",
    "for one_letter in word:\n",
    "    if one_letter in 'aeiou':\n",
    "        vowel_count += 1       # vowel_count = vowel_count + 1\n",
    "print(f'{word} has {vowel_count} vowels.')"
   ]
  },
  {
   "cell_type": "code",
   "execution_count": 79,
   "metadata": {},
   "outputs": [
    {
     "name": "stdout",
     "output_type": "stream",
     "text": [
      "0: t\n",
      "1: e\n",
      "2: s\n",
      "3: t\n",
      "4: i\n",
      "5: n\n",
      "6: g\n"
     ]
    }
   ],
   "source": [
    "word = 'testing'\n",
    "index = 0\n",
    "\n",
    "for one_letter in word:\n",
    "    print(f'{index}: {one_letter}')\n",
    "    index += 1"
   ]
  },
  {
   "cell_type": "code",
   "execution_count": 80,
   "metadata": {},
   "outputs": [
    {
     "name": "stdout",
     "output_type": "stream",
     "text": [
      "Enter a word: elephant\n",
      "elephant has the following vowels: eea\n"
     ]
    }
   ],
   "source": [
    "word = input(\"Enter a word: \")    # word is a variable, refers to the str from input\n",
    "all_vowels = ''                   # all_vowels is a variable, refers to empty string\n",
    "for one_letter in word:\n",
    "    if one_letter in 'aeiou':\n",
    "        all_vowels += one_letter  # add one letter to the str variable all_vowels\n",
    "print(f'{word} has the following vowels: {all_vowels}')"
   ]
  },
  {
   "cell_type": "code",
   "execution_count": 83,
   "metadata": {},
   "outputs": [
    {
     "name": "stdout",
     "output_type": "stream",
     "text": [
      "Hello!\n",
      "Hello!\n",
      "Hello!\n"
     ]
    }
   ],
   "source": [
    "for index in range(3):   # range(3) returns an iterable that goes from 0-1-2\n",
    "    print(\"Hello!\")"
   ]
  },
  {
   "cell_type": "code",
   "execution_count": 84,
   "metadata": {},
   "outputs": [
    {
     "name": "stdout",
     "output_type": "stream",
     "text": [
      "0 Hello!\n",
      "1 Hello!\n",
      "2 Hello!\n"
     ]
    }
   ],
   "source": [
    "for index in range(3):   # range(3) returns an iterable that goes from 0-1-2\n",
    "    print(f\"{index} Hello!\")"
   ]
  },
  {
   "cell_type": "code",
   "execution_count": 88,
   "metadata": {},
   "outputs": [
    {
     "name": "stdout",
     "output_type": "stream",
     "text": [
      "0 1 2 3 4 5 6 7 8 9 "
     ]
    }
   ],
   "source": [
    "for one_item in range(10):   # from 0 until (not including) 10\n",
    "    print(one_item, end=' ')"
   ]
  },
  {
   "cell_type": "code",
   "execution_count": 87,
   "metadata": {},
   "outputs": [
    {
     "name": "stdout",
     "output_type": "stream",
     "text": [
      "10 11 12 13 14 15 16 17 18 19 "
     ]
    }
   ],
   "source": [
    "for one_item in range(10, 20):   # from 10 until (not including) 20\n",
    "    print(one_item, end=' ')"
   ]
  },
  {
   "cell_type": "code",
   "execution_count": 89,
   "metadata": {},
   "outputs": [
    {
     "name": "stdout",
     "output_type": "stream",
     "text": [
      "10 13 16 19 "
     ]
    }
   ],
   "source": [
    "for one_item in range(10, 20, 3):   # from 10 until (not including) 20, skipping by 3\n",
    "    print(one_item, end=' ')"
   ]
  },
  {
   "cell_type": "code",
   "execution_count": 90,
   "metadata": {},
   "outputs": [
    {
     "data": {
      "text/plain": [
       "2.6666666666666665"
      ]
     },
     "execution_count": 90,
     "metadata": {},
     "output_type": "execute_result"
    }
   ],
   "source": [
    "# (1) Ask the user for a number.  Call it \"word_count\"\n",
    "# (2) Ask the user to enter new words.  How many? The number in word_count.\n",
    "# (3) Print the averge number of vowels per word.  (total vowels / number of words)\n",
    "\n",
    "How many words: 3\n",
    "Word 0: hello\n",
    "Word 1: goodbye\n",
    "Word 2: whatever\n",
    "Average of 2.6 vowels per word."
   ]
  },
  {
   "cell_type": "code",
   "execution_count": 93,
   "metadata": {},
   "outputs": [
    {
     "name": "stdout",
     "output_type": "stream",
     "text": [
      "You entered {word_count} words\n"
     ]
    }
   ],
   "source": [
    "# (1) for loop is for each word, asking the user to enter it\n",
    "# (2) for loop (inside of the first one) goes through each letter\n",
    "\n",
    "word_count = 3\n",
    "s = f'You entered {word_count} words'\n",
    "print(s)"
   ]
  },
  {
   "cell_type": "code",
   "execution_count": 95,
   "metadata": {},
   "outputs": [
    {
     "ename": "SyntaxError",
     "evalue": "invalid syntax (<ipython-input-95-c94c8da1fe93>, line 2)",
     "output_type": "error",
     "traceback": [
      "\u001b[0;36m  File \u001b[0;32m\"<ipython-input-95-c94c8da1fe93>\"\u001b[0;36m, line \u001b[0;32m2\u001b[0m\n\u001b[0;31m    if x == 10\u001b[0m\n\u001b[0m              ^\u001b[0m\n\u001b[0;31mSyntaxError\u001b[0m\u001b[0;31m:\u001b[0m invalid syntax\n"
     ]
    }
   ],
   "source": [
    "x = 10\n",
    "if x == 10:\n",
    "    print(\"Hello\")\n",
    "    print(\"Hello again\")\n",
    "print(\"Always printed here\")"
   ]
  },
  {
   "cell_type": "code",
   "execution_count": 100,
   "metadata": {},
   "outputs": [
    {
     "name": "stdout",
     "output_type": "stream",
     "text": [
      "Enter a number: 3\n",
      "Enter word 0: hello\n",
      "Enter word 1: goodbye\n",
      "Enter word 2: whatever\n",
      "8 vowels in 3 words; average of 2.6666666666666665\n"
     ]
    }
   ],
   "source": [
    "# (1) Ask the user for a number.  Call it \"word_count\"\n",
    "# (2) Ask the user to enter new words.  How many? The number in word_count.\n",
    "# (3) Print the averge number of vowels per word.  (total vowels / number of words)\n",
    "\n",
    "vowel_count = 0\n",
    "word_count = int(input(\"Enter a number: \"))\n",
    "\n",
    "for i in range(word_count):\n",
    "    word = input(f\"Enter word {i}: \")\n",
    "    for one_letter in word:\n",
    "        if one_letter in 'aeiou':\n",
    "            vowel_count += 1\n",
    "\n",
    "average_vowels = vowel_count / word_count\n",
    "print(f'{vowel_count} vowels in {word_count} words; average of {average_vowels}')\n",
    "            "
   ]
  },
  {
   "cell_type": "code",
   "execution_count": 103,
   "metadata": {},
   "outputs": [
    {
     "name": "stdout",
     "output_type": "stream",
     "text": [
      "Enter a number: 3\n",
      "Enter a word: hello\n",
      "Enter a word: goodbye\n",
      "Enter a word: whatever\n",
      "8\n",
      "3\n",
      "The average number of vowels per word is 2.6666666666666665\n"
     ]
    }
   ],
   "source": [
    "result = 0\n",
    "word_count = int (input (\"Enter a number: \"))\n",
    "\n",
    "for i in range(word_count):\n",
    "    word = input (\"Enter a word: \")\n",
    "    for one_letter in word:\n",
    "        if one_letter in 'aeiou':\n",
    "            result = result+1\n",
    "print (result)\n",
    "print (word_count)\n",
    "print (f'The average number of vowels per word is {result/word_count}')"
   ]
  },
  {
   "cell_type": "code",
   "execution_count": 104,
   "metadata": {},
   "outputs": [
    {
     "data": {
      "text/plain": [
       "True"
      ]
     },
     "execution_count": 104,
     "metadata": {},
     "output_type": "execute_result"
    }
   ],
   "source": [
    "s = 'abcde'\n",
    "\n",
    "'d' in s"
   ]
  },
  {
   "cell_type": "code",
   "execution_count": 106,
   "metadata": {},
   "outputs": [
    {
     "name": "stdout",
     "output_type": "stream",
     "text": [
      "Found d!\n"
     ]
    }
   ],
   "source": [
    "look_for = 'd'\n",
    "for one_letter in s:\n",
    "    if one_letter == look_for:\n",
    "        print(f'Found {look_for}!')"
   ]
  },
  {
   "cell_type": "code",
   "execution_count": 107,
   "metadata": {},
   "outputs": [
    {
     "name": "stdout",
     "output_type": "stream",
     "text": [
      "Found a!\n"
     ]
    }
   ],
   "source": [
    "look_for = 'a'\n",
    "for one_letter in s:\n",
    "    if one_letter == look_for:\n",
    "        print(f'Found {look_for}!')"
   ]
  },
  {
   "cell_type": "code",
   "execution_count": 111,
   "metadata": {},
   "outputs": [
    {
     "name": "stdout",
     "output_type": "stream",
     "text": [
      "Checking a\n",
      "Found a!\n"
     ]
    }
   ],
   "source": [
    "# we want to end the for loop before the natural end of the loop\n",
    "look_for = 'a'\n",
    "for one_letter in s:\n",
    "    print(f\"Checking {one_letter}\")\n",
    "    if one_letter == look_for:\n",
    "        print(f'Found {look_for}!')\n",
    "        break    # this means: exit the \"for\" loop RIGHT NOW"
   ]
  },
  {
   "cell_type": "code",
   "execution_count": 112,
   "metadata": {},
   "outputs": [
    {
     "name": "stdout",
     "output_type": "stream",
     "text": [
      "Enter a number: 100\n",
      "Added 100, total is now 100\n",
      "Enter a number: 130\n",
      "Added 130, total is now 230\n",
      "Enter a number: 25\n",
      "Added 25, total is now 255\n",
      "Enter a number: \n"
     ]
    }
   ],
   "source": [
    "total = 0\n",
    "for i in range(5):\n",
    "    number = input(\"Enter a number: \")\n",
    "    if number == '':\n",
    "        break\n",
    "    total += int(number)\n",
    "    print(f'Added {number}, total is now {total}')"
   ]
  },
  {
   "cell_type": "code",
   "execution_count": 113,
   "metadata": {},
   "outputs": [
    {
     "ename": "SyntaxError",
     "evalue": "'break' outside loop (<ipython-input-113-6aaf1f276005>, line 4)",
     "output_type": "error",
     "traceback": [
      "\u001b[0;36m  File \u001b[0;32m\"<ipython-input-113-6aaf1f276005>\"\u001b[0;36m, line \u001b[0;32m4\u001b[0m\n\u001b[0;31mSyntaxError\u001b[0m\u001b[0;31m:\u001b[0m 'break' outside loop\n"
     ]
    }
   ],
   "source": [
    "break"
   ]
  },
  {
   "cell_type": "code",
   "execution_count": 114,
   "metadata": {},
   "outputs": [
    {
     "name": "stdout",
     "output_type": "stream",
     "text": [
      "Now on a\n",
      "Now on b\n",
      "Now on c\n",
      "Now on e\n"
     ]
    }
   ],
   "source": [
    "# the \"continue\" statement means: Exit this iteration now,\n",
    "# but continue with the next iteration of the loop (if there are any)\n",
    "\n",
    "# iteration -- one pass through the loop\n",
    "\n",
    "s = 'abcde'\n",
    "look_for = 'd'  # what letter are we trying to find in s?\n",
    "\n",
    "# look_for in s\n",
    "\n",
    "for one_letter in s:\n",
    "    if look_for == one_letter:\n",
    "        continue   # meaning: return to line 8, get the next value for one_letter\n",
    "    print(f'Now on {one_letter}')    "
   ]
  },
  {
   "cell_type": "code",
   "execution_count": 115,
   "metadata": {},
   "outputs": [
    {
     "name": "stdout",
     "output_type": "stream",
     "text": [
      "a\n",
      "b\n"
     ]
    }
   ],
   "source": [
    "for one_letter in s:\n",
    "    if one_letter == 'c':\n",
    "        break  # leaves the for loop altogether\n",
    "    print(one_letter)"
   ]
  },
  {
   "cell_type": "code",
   "execution_count": 116,
   "metadata": {},
   "outputs": [
    {
     "name": "stdout",
     "output_type": "stream",
     "text": [
      "a\n",
      "b\n",
      "d\n",
      "e\n"
     ]
    }
   ],
   "source": [
    "for one_letter in s:\n",
    "    if one_letter == 'c':\n",
    "        continue # leaves the current iteration of the loop; goes to the next one\n",
    "    print(one_letter)"
   ]
  },
  {
   "cell_type": "code",
   "execution_count": 117,
   "metadata": {},
   "outputs": [
    {
     "data": {
      "text/plain": [
       "123"
      ]
     },
     "execution_count": 117,
     "metadata": {},
     "output_type": "execute_result"
    }
   ],
   "source": [
    "s = '123'\n",
    "int(s)"
   ]
  },
  {
   "cell_type": "code",
   "execution_count": 118,
   "metadata": {},
   "outputs": [
    {
     "ename": "ValueError",
     "evalue": "invalid literal for int() with base 10: '12ab'",
     "output_type": "error",
     "traceback": [
      "\u001b[0;31m---------------------------------------------------------------------------\u001b[0m",
      "\u001b[0;31mValueError\u001b[0m                                Traceback (most recent call last)",
      "\u001b[0;32m<ipython-input-118-455e4b2ef7eb>\u001b[0m in \u001b[0;36m<module>\u001b[0;34m\u001b[0m\n\u001b[1;32m      1\u001b[0m \u001b[0ms\u001b[0m \u001b[0;34m=\u001b[0m \u001b[0;34m'12ab'\u001b[0m\u001b[0;34m\u001b[0m\u001b[0;34m\u001b[0m\u001b[0m\n\u001b[0;32m----> 2\u001b[0;31m \u001b[0mint\u001b[0m\u001b[0;34m(\u001b[0m\u001b[0ms\u001b[0m\u001b[0;34m)\u001b[0m\u001b[0;34m\u001b[0m\u001b[0;34m\u001b[0m\u001b[0m\n\u001b[0m",
      "\u001b[0;31mValueError\u001b[0m: invalid literal for int() with base 10: '12ab'"
     ]
    }
   ],
   "source": [
    "s = '12ab'\n",
    "int(s)"
   ]
  },
  {
   "cell_type": "code",
   "execution_count": 119,
   "metadata": {},
   "outputs": [
    {
     "name": "stdout",
     "output_type": "stream",
     "text": [
      "Cannot turn 12ab into a number\n"
     ]
    }
   ],
   "source": [
    "if s.isdigit():\n",
    "    int(s)\n",
    "else:\n",
    "    print(f'Cannot turn {s} into a number')"
   ]
  },
  {
   "cell_type": "code",
   "execution_count": 120,
   "metadata": {},
   "outputs": [],
   "source": [
    "# s.isdigit() returns True or False -- can we turn this string into an integer?"
   ]
  },
  {
   "cell_type": "code",
   "execution_count": 121,
   "metadata": {},
   "outputs": [],
   "source": [
    "# (1) Generate a random number from 0-100\n",
    "import random\n",
    "number = random.randint(0, 100)\n",
    "\n",
    "# (2) Ask the user to guess up to 10 times.\n",
    "# - we're going to ask the user for a guess with \"input\"\n",
    "# - we want to ask 10 times -- that means, a \"for\" loop with a range(10)\n",
    "\n",
    "# (3) If the user's guess is not a valid number, scold them and continue\n",
    "# onto the next iteration\n",
    "# - is the user's input .isdigit()  ... if not, then scold them + continue\n",
    "\n",
    "# (4) If the user's guess is right, then congratulate them and exit from\n",
    "# the loop.\n",
    "# - is the user's input == to number?  If so, then say something nice and\n",
    "#   break out of the loop\n",
    "\n",
    "# (5) Otherwise, print too high / too low\n",
    "# - check too high, too low"
   ]
  },
  {
   "cell_type": "code",
   "execution_count": null,
   "metadata": {},
   "outputs": [],
   "source": []
  },
  {
   "cell_type": "code",
   "execution_count": 126,
   "metadata": {},
   "outputs": [
    {
     "name": "stdout",
     "output_type": "stream",
     "text": [
      "17\n",
      "Enter guess 0: 18\n",
      "Too high!\n",
      "Enter guess 1: abcd\n",
      "abcd is not an integer!  Try again.\n",
      "Enter guess 2: 100\n",
      "Too high!\n",
      "Enter guess 3: 1\n",
      "Too low!\n",
      "Enter guess 4: -5\n",
      "-5 is not an integer!  Try again.\n",
      "Enter guess 5: 17\n",
      "You got it!\n"
     ]
    }
   ],
   "source": [
    "import random\n",
    "number = random.randint(0, 100)\n",
    "print(number)\n",
    "\n",
    "for index in range(10):\n",
    "    guess = input(f\"Enter guess {index}: \")\n",
    "    \n",
    "    if guess.isdigit():   # can we turn the string \"guess\" into an integer?\n",
    "\n",
    "        guess = int(guess)\n",
    "        if guess == number:\n",
    "            print(\"You got it!\")\n",
    "            break  \n",
    "\n",
    "        elif guess < number:\n",
    "            print(\"Too low!\")\n",
    "\n",
    "        elif guess > number:\n",
    "            print(\"Too high!\")\n",
    "\n",
    "    else:\n",
    "        print(f'{guess} is not an integer!  Try again.')"
   ]
  },
  {
   "cell_type": "code",
   "execution_count": null,
   "metadata": {},
   "outputs": [],
   "source": [
    "import random\n",
    "number = random.randint(0, 100)\n",
    "print(number)\n",
    "\n",
    "for index in range(10):\n",
    "    guess = input(f\"Enter guess {index}: \")\n",
    "    \n",
    "    if not guess.isdigit():   # can we turn the string \"guess\" into an integer?\n",
    "        print(f'{guess} is not an integer!  Try again.')\n",
    "        continue\n",
    "\n",
    "    guess = int(guess)\n",
    "    if guess == number:\n",
    "        print(\"You got it!\")\n",
    "        break  \n",
    "\n",
    "    elif guess < number:\n",
    "        print(\"Too low!\")\n",
    "\n",
    "    elif guess > number:\n",
    "        print(\"Too high!\")"
   ]
  },
  {
   "cell_type": "code",
   "execution_count": 127,
   "metadata": {},
   "outputs": [
    {
     "name": "stdout",
     "output_type": "stream",
     "text": [
      "Yes!\n"
     ]
    }
   ],
   "source": [
    "# while loops\n",
    "\n",
    "x = 10\n",
    "\n",
    "if x == 10:\n",
    "    print(\"Yes!\")\n",
    "else:\n",
    "    print(\"No!\")"
   ]
  },
  {
   "cell_type": "code",
   "execution_count": 128,
   "metadata": {},
   "outputs": [
    {
     "name": "stdout",
     "output_type": "stream",
     "text": [
      "Start\n",
      "5\n",
      "4\n",
      "3\n",
      "2\n",
      "1\n",
      "Stop\n"
     ]
    }
   ],
   "source": [
    "# a while loop will run so long as its test/condition is True.\n",
    "\n",
    "x = 5\n",
    "\n",
    "print(\"Start\")\n",
    "while x > 0:\n",
    "    print(x)\n",
    "    x -= 1\n",
    "print(\"Stop\")"
   ]
  },
  {
   "cell_type": "code",
   "execution_count": 129,
   "metadata": {},
   "outputs": [
    {
     "name": "stdout",
     "output_type": "stream",
     "text": [
      "Enter your name: Reuven\n",
      "Hello, Reuven\n",
      "Enter your name: someone else\n",
      "Hello, someone else\n",
      "Enter your name: asdfafa\n",
      "Hello, asdfafa\n",
      "Enter your name: \n"
     ]
    }
   ],
   "source": [
    "while True:  # run forever -- never exit\n",
    "    name = input(\"Enter your name: \")\n",
    "    if name == \"\":\n",
    "        break  # actually exit under these circumstances\n",
    "        \n",
    "    print(f'Hello, {name}')"
   ]
  },
  {
   "cell_type": "code",
   "execution_count": 130,
   "metadata": {},
   "outputs": [
    {
     "data": {
      "text/plain": [
       "True"
      ]
     },
     "execution_count": 130,
     "metadata": {},
     "output_type": "execute_result"
    }
   ],
   "source": [
    "1 == 1"
   ]
  },
  {
   "cell_type": "code",
   "execution_count": 131,
   "metadata": {},
   "outputs": [
    {
     "data": {
      "text/plain": [
       "False"
      ]
     },
     "execution_count": 131,
     "metadata": {},
     "output_type": "execute_result"
    }
   ],
   "source": [
    "1 == 2"
   ]
  },
  {
   "cell_type": "code",
   "execution_count": 132,
   "metadata": {},
   "outputs": [
    {
     "name": "stdout",
     "output_type": "stream",
     "text": [
      "yes!\n"
     ]
    }
   ],
   "source": [
    "x = 10\n",
    "if x == 10:\n",
    "    print(\"yes!\")"
   ]
  },
  {
   "cell_type": "code",
   "execution_count": 133,
   "metadata": {},
   "outputs": [],
   "source": [
    "x = True\n",
    "y = False"
   ]
  },
  {
   "cell_type": "code",
   "execution_count": null,
   "metadata": {},
   "outputs": [],
   "source": [
    "x = 10\n",
    "\n",
    "while True:  # run forever -- never exit\n",
    "    name = input(\"Enter your name: \")\n",
    "    if name == \"\":\n",
    "        break  # actually exit under these circumstances\n",
    "        \n",
    "    print(f'Hello, {name}')"
   ]
  },
  {
   "cell_type": "code",
   "execution_count": 139,
   "metadata": {},
   "outputs": [
    {
     "name": "stdout",
     "output_type": "stream",
     "text": [
      "Current balance is 1000\n",
      "How much do you want? 500\n",
      "Giving you 500\n",
      "Current balance is 500\n",
      "How much do you want? 250\n",
      "Giving you 250\n",
      "Current balance is 250\n",
      "How much do you want? 250\n",
      "Giving you 250\n"
     ]
    }
   ],
   "source": [
    "account_balance = 1000\n",
    "\n",
    "while account_balance > 0:\n",
    "    print(f'Current balance is {account_balance}')\n",
    "    withdraw_amount = int(input(\"How much do you want? \"))\n",
    "    \n",
    "    if withdraw_amount <= account_balance:\n",
    "        print(f'Giving you {withdraw_amount}')\n",
    "        account_balance -= withdraw_amount\n",
    "\n",
    "    elif withdraw_amount > account_balance:\n",
    "        print(f'You cannot withdraw that much')\n",
    "    "
   ]
  },
  {
   "cell_type": "code",
   "execution_count": 142,
   "metadata": {},
   "outputs": [
    {
     "ename": "SyntaxError",
     "evalue": "invalid syntax (<ipython-input-142-7390945aeeb9>, line 3)",
     "output_type": "error",
     "traceback": [
      "\u001b[0;36m  File \u001b[0;32m\"<ipython-input-142-7390945aeeb9>\"\u001b[0;36m, line \u001b[0;32m3\u001b[0m\n\u001b[0;31m    while name := input(\"Enter your name: \"):\u001b[0m\n\u001b[0m                ^\u001b[0m\n\u001b[0;31mSyntaxError\u001b[0m\u001b[0;31m:\u001b[0m invalid syntax\n"
     ]
    }
   ],
   "source": [
    "# the assignment expression operator, :=, is usually called\n",
    "# the walrus operator\n",
    "\n",
    "while name := input(\"Enter your name: \"):\n",
    "    print(f'Hello, {name}')"
   ]
  },
  {
   "cell_type": "code",
   "execution_count": null,
   "metadata": {},
   "outputs": [],
   "source": [
    "# (1) Ask the user repeatedly to enter numbers\n",
    "# - we'll be using \"input\" to ask the user to enter a number\n",
    "# - this call to \"input\" will be *inside* of a \"while\" loop\n",
    "# - we don't know when the loop will end until we get input\n",
    "\n",
    "# (2) If the user enters an empty string, stop asking and print the sum\n",
    "# - If the user entered an empty string, break out of the loop \n",
    "\n",
    "# (3) If the user enters something that's non-numeric, scold them and try again\n",
    "# - If the user entered something \"not s.isdigit()\" then print a warning\n",
    "#   and continue to the next iteration\n",
    "\n",
    "# (4) If the user enters a number, add it to the total\n",
    "# - Turn the input into a number\n",
    "# - Add it to the total\n",
    "\n",
    "Enter a number: 10\n",
    "Enter a number: 20\n",
    "Enter a number: hello\n",
    "hello isn't a valid number\n",
    "Enter a number: 30\n",
    "Enter a number: <enter>\n",
    "\n",
    "Total is 60\n",
    "    "
   ]
  },
  {
   "cell_type": "code",
   "execution_count": 144,
   "metadata": {},
   "outputs": [
    {
     "name": "stdout",
     "output_type": "stream",
     "text": [
      "Enter a number: 10\n",
      "Enter a number: 20\n",
      "Enter a number: abcd\n",
      "abcd is not a number!  Try again\n",
      "Enter a number: 30\n",
      "Enter a number: \n",
      "Total is 60\n"
     ]
    }
   ],
   "source": [
    "total = 0\n",
    "\n",
    "while True:\n",
    "    number = input(\"Enter a number: \")\n",
    "    \n",
    "    if number == '':\n",
    "        break\n",
    "        \n",
    "    elif number.isdigit():\n",
    "        total += int(number)\n",
    "        \n",
    "    else:\n",
    "        print(f'{number} is not a number!  Try again')\n",
    "\n",
    "        \n",
    "print(f'Total is {total}')"
   ]
  },
  {
   "cell_type": "code",
   "execution_count": 145,
   "metadata": {},
   "outputs": [
    {
     "ename": "ValueError",
     "evalue": "invalid literal for int() with base 10: ''",
     "output_type": "error",
     "traceback": [
      "\u001b[0;31m---------------------------------------------------------------------------\u001b[0m",
      "\u001b[0;31mValueError\u001b[0m                                Traceback (most recent call last)",
      "\u001b[0;32m<ipython-input-145-e4f84bb32d50>\u001b[0m in \u001b[0;36m<module>\u001b[0;34m\u001b[0m\n\u001b[0;32m----> 1\u001b[0;31m \u001b[0mint\u001b[0m\u001b[0;34m(\u001b[0m\u001b[0;34m''\u001b[0m\u001b[0;34m)\u001b[0m\u001b[0;34m\u001b[0m\u001b[0;34m\u001b[0m\u001b[0m\n\u001b[0m",
      "\u001b[0;31mValueError\u001b[0m: invalid literal for int() with base 10: ''"
     ]
    }
   ],
   "source": [
    "int('')"
   ]
  },
  {
   "cell_type": "code",
   "execution_count": 146,
   "metadata": {},
   "outputs": [
    {
     "data": {
      "text/plain": [
       "1"
      ]
     },
     "execution_count": 146,
     "metadata": {},
     "output_type": "execute_result"
    }
   ],
   "source": [
    "int('1')"
   ]
  },
  {
   "cell_type": "code",
   "execution_count": 147,
   "metadata": {},
   "outputs": [
    {
     "data": {
      "text/plain": [
       "0"
      ]
     },
     "execution_count": 147,
     "metadata": {},
     "output_type": "execute_result"
    }
   ],
   "source": [
    "int()"
   ]
  },
  {
   "cell_type": "code",
   "execution_count": 148,
   "metadata": {},
   "outputs": [
    {
     "ename": "ValueError",
     "evalue": "invalid literal for int() with base 10: ''",
     "output_type": "error",
     "traceback": [
      "\u001b[0;31m---------------------------------------------------------------------------\u001b[0m",
      "\u001b[0;31mValueError\u001b[0m                                Traceback (most recent call last)",
      "\u001b[0;32m<ipython-input-148-e4f84bb32d50>\u001b[0m in \u001b[0;36m<module>\u001b[0;34m\u001b[0m\n\u001b[0;32m----> 1\u001b[0;31m \u001b[0mint\u001b[0m\u001b[0;34m(\u001b[0m\u001b[0;34m''\u001b[0m\u001b[0;34m)\u001b[0m\u001b[0;34m\u001b[0m\u001b[0;34m\u001b[0m\u001b[0m\n\u001b[0m",
      "\u001b[0;31mValueError\u001b[0m: invalid literal for int() with base 10: ''"
     ]
    }
   ],
   "source": [
    "int('')"
   ]
  },
  {
   "cell_type": "code",
   "execution_count": 149,
   "metadata": {},
   "outputs": [],
   "source": [
    "# a list is a container for other objects\n",
    "# its elements are indexed numerically, starting at 0\n",
    "\n",
    "# to create a list, use []\n",
    "mylist = [10, 20, 30, 40, 50]"
   ]
  },
  {
   "cell_type": "code",
   "execution_count": 150,
   "metadata": {},
   "outputs": [
    {
     "data": {
      "text/plain": [
       "10"
      ]
     },
     "execution_count": 150,
     "metadata": {},
     "output_type": "execute_result"
    }
   ],
   "source": [
    "# retrieve the first item\n",
    "mylist[0]"
   ]
  },
  {
   "cell_type": "code",
   "execution_count": 151,
   "metadata": {},
   "outputs": [
    {
     "data": {
      "text/plain": [
       "20"
      ]
     },
     "execution_count": 151,
     "metadata": {},
     "output_type": "execute_result"
    }
   ],
   "source": [
    "# retrieve the 2nd item\n",
    "mylist[1]"
   ]
  },
  {
   "cell_type": "code",
   "execution_count": 152,
   "metadata": {},
   "outputs": [
    {
     "data": {
      "text/plain": [
       "50"
      ]
     },
     "execution_count": 152,
     "metadata": {},
     "output_type": "execute_result"
    }
   ],
   "source": [
    "# retrieve the final item\n",
    "mylist[-1]"
   ]
  },
  {
   "cell_type": "code",
   "execution_count": 153,
   "metadata": {},
   "outputs": [
    {
     "data": {
      "text/plain": [
       "5"
      ]
     },
     "execution_count": 153,
     "metadata": {},
     "output_type": "execute_result"
    }
   ],
   "source": [
    "# get the length of the list with len()\n",
    "len(mylist)"
   ]
  },
  {
   "cell_type": "code",
   "execution_count": 154,
   "metadata": {},
   "outputs": [
    {
     "data": {
      "text/plain": [
       "[10, 20, 30, 40, 50]"
      ]
     },
     "execution_count": 154,
     "metadata": {},
     "output_type": "execute_result"
    }
   ],
   "source": [
    "mylist"
   ]
  },
  {
   "cell_type": "code",
   "execution_count": 155,
   "metadata": {},
   "outputs": [
    {
     "data": {
      "text/plain": [
       "[30, 40, 50]"
      ]
     },
     "execution_count": 155,
     "metadata": {},
     "output_type": "execute_result"
    }
   ],
   "source": [
    "# slicing -- from index 2 to the end\n",
    "mylist[2:]"
   ]
  },
  {
   "cell_type": "code",
   "execution_count": 156,
   "metadata": {},
   "outputs": [
    {
     "data": {
      "text/plain": [
       "[10, 20, 30, 40]"
      ]
     },
     "execution_count": 156,
     "metadata": {},
     "output_type": "execute_result"
    }
   ],
   "source": [
    "# slicing -- until (and not including) index 3\n",
    "mylist[:4]"
   ]
  },
  {
   "cell_type": "code",
   "execution_count": 157,
   "metadata": {},
   "outputs": [
    {
     "name": "stdout",
     "output_type": "stream",
     "text": [
      "10\n",
      "20\n",
      "30\n",
      "40\n",
      "50\n"
     ]
    }
   ],
   "source": [
    "# for loops work on lists!\n",
    "for one_item in mylist:\n",
    "    print(one_item)"
   ]
  },
  {
   "cell_type": "code",
   "execution_count": 158,
   "metadata": {},
   "outputs": [],
   "source": [
    "# both strings and lists are \"sequences\""
   ]
  },
  {
   "cell_type": "code",
   "execution_count": 159,
   "metadata": {},
   "outputs": [
    {
     "data": {
      "text/plain": [
       "8"
      ]
     },
     "execution_count": 159,
     "metadata": {},
     "output_type": "execute_result"
    }
   ],
   "source": [
    "mylist = ['this', 'is', 'a', 'very', 'long', 'list', 'to', 'type']\n",
    "len(mylist)"
   ]
  },
  {
   "cell_type": "code",
   "execution_count": 160,
   "metadata": {},
   "outputs": [
    {
     "data": {
      "text/plain": [
       "'long'"
      ]
     },
     "execution_count": 160,
     "metadata": {},
     "output_type": "execute_result"
    }
   ],
   "source": [
    "mylist[4]"
   ]
  },
  {
   "cell_type": "code",
   "execution_count": 161,
   "metadata": {},
   "outputs": [
    {
     "data": {
      "text/plain": [
       "'LONG'"
      ]
     },
     "execution_count": 161,
     "metadata": {},
     "output_type": "execute_result"
    }
   ],
   "source": [
    "mylist[4].upper() "
   ]
  },
  {
   "cell_type": "code",
   "execution_count": 162,
   "metadata": {},
   "outputs": [
    {
     "data": {
      "text/plain": [
       "3"
      ]
     },
     "execution_count": 162,
     "metadata": {},
     "output_type": "execute_result"
    }
   ],
   "source": [
    "# normally, lists *should* contain elements of the same type\n",
    "mylist = [10, 'abc', [20, 30, 40]]\n",
    "len(mylist)"
   ]
  },
  {
   "cell_type": "code",
   "execution_count": 165,
   "metadata": {},
   "outputs": [],
   "source": [
    "mylist = [10, 20, 30]"
   ]
  },
  {
   "cell_type": "code",
   "execution_count": 169,
   "metadata": {},
   "outputs": [
    {
     "name": "stdout",
     "output_type": "stream",
     "text": [
      "total = 550, min = 10, max = 100\n"
     ]
    }
   ],
   "source": [
    "# (1) Create a list containing 10 integers.\n",
    "# - just hard-code it; you don't need to do it automatically\n",
    "\n",
    "# (2) Use a \"for\" loop to add up all of those integers.\n",
    "# - as you iterate over the list, get each number and add it to the total\n",
    "\n",
    "# (3) Print the sum of the integers\n",
    "# - print the total\n",
    "\n",
    "# (4) BONUS: Print the smallest and largest integers you encountered\n",
    "#     when iterating over the list\n",
    "\n",
    "\n",
    "mylist = [90, 10, 20, 40, 30, 100, 50, 60, 70, 80]\n",
    "total = 0\n",
    "\n",
    "min_number = mylist[0]\n",
    "max_number = mylist[0]\n",
    "\n",
    "for one_item in mylist:\n",
    "    total += one_item\n",
    "    if one_item < min_number:\n",
    "        min_number = one_item\n",
    "    if one_item > max_number:\n",
    "        max_number = one_item\n",
    "        \n",
    "print(f'total = {total}, min = {min_number}, max = {max_number}')"
   ]
  },
  {
   "cell_type": "code",
   "execution_count": 170,
   "metadata": {},
   "outputs": [
    {
     "data": {
      "text/plain": [
       "'b'"
      ]
     },
     "execution_count": 170,
     "metadata": {},
     "output_type": "execute_result"
    }
   ],
   "source": [
    "s = 'abcde'\n",
    "s[1]"
   ]
  },
  {
   "cell_type": "code",
   "execution_count": 171,
   "metadata": {},
   "outputs": [
    {
     "ename": "TypeError",
     "evalue": "'str' object does not support item assignment",
     "output_type": "error",
     "traceback": [
      "\u001b[0;31m---------------------------------------------------------------------------\u001b[0m",
      "\u001b[0;31mTypeError\u001b[0m                                 Traceback (most recent call last)",
      "\u001b[0;32m<ipython-input-171-8dec8b5217d2>\u001b[0m in \u001b[0;36m<module>\u001b[0;34m\u001b[0m\n\u001b[0;32m----> 1\u001b[0;31m \u001b[0ms\u001b[0m\u001b[0;34m[\u001b[0m\u001b[0;36m1\u001b[0m\u001b[0;34m]\u001b[0m \u001b[0;34m=\u001b[0m \u001b[0;34m'?'\u001b[0m   \u001b[0;31m# will not work -- strings are immutable\u001b[0m\u001b[0;34m\u001b[0m\u001b[0;34m\u001b[0m\u001b[0m\n\u001b[0m",
      "\u001b[0;31mTypeError\u001b[0m: 'str' object does not support item assignment"
     ]
    }
   ],
   "source": [
    "s[1] = '?'   # will not work -- strings are immutable"
   ]
  },
  {
   "cell_type": "code",
   "execution_count": 172,
   "metadata": {},
   "outputs": [],
   "source": [
    "mylist = [10, 20, 30]\n",
    "mylist[1] = '?'"
   ]
  },
  {
   "cell_type": "code",
   "execution_count": 173,
   "metadata": {},
   "outputs": [
    {
     "data": {
      "text/plain": [
       "[10, '?', 30]"
      ]
     },
     "execution_count": 173,
     "metadata": {},
     "output_type": "execute_result"
    }
   ],
   "source": [
    "mylist"
   ]
  },
  {
   "cell_type": "code",
   "execution_count": 174,
   "metadata": {},
   "outputs": [
    {
     "data": {
      "text/plain": [
       "[10, '?', 30, 40]"
      ]
     },
     "execution_count": 174,
     "metadata": {},
     "output_type": "execute_result"
    }
   ],
   "source": [
    "# add a new element to the end of a list with the \"append\" method\n",
    "mylist.append(40)\n",
    "\n",
    "mylist"
   ]
  },
  {
   "cell_type": "code",
   "execution_count": 175,
   "metadata": {},
   "outputs": [
    {
     "data": {
      "text/plain": [
       "[10, '?', 30, 40, 50]"
      ]
     },
     "execution_count": 175,
     "metadata": {},
     "output_type": "execute_result"
    }
   ],
   "source": [
    "mylist.append(50)\n",
    "mylist"
   ]
  },
  {
   "cell_type": "code",
   "execution_count": null,
   "metadata": {},
   "outputs": [],
   "source": [
    "# mylist = mylist.append(60)  # NEVER EVER EVER EVER DO THIS!"
   ]
  },
  {
   "cell_type": "code",
   "execution_count": 176,
   "metadata": {},
   "outputs": [
    {
     "data": {
      "text/plain": [
       "'ABCD'"
      ]
     },
     "execution_count": 176,
     "metadata": {},
     "output_type": "execute_result"
    }
   ],
   "source": [
    "s = 'abcd'\n",
    "s.upper()  # strings cannot be changed -- so methods return the \"modified\" data"
   ]
  },
  {
   "cell_type": "code",
   "execution_count": 177,
   "metadata": {},
   "outputs": [],
   "source": [
    "s = s.upper()  # this works fine"
   ]
  },
  {
   "cell_type": "code",
   "execution_count": 178,
   "metadata": {},
   "outputs": [],
   "source": [
    "mylist = [10, 20, 30]\n",
    "mylist.append(40)  # append changes the list... no = operator is needed (or useful)"
   ]
  },
  {
   "cell_type": "code",
   "execution_count": 179,
   "metadata": {},
   "outputs": [
    {
     "data": {
      "text/plain": [
       "[10, 20, 30, 40]"
      ]
     },
     "execution_count": 179,
     "metadata": {},
     "output_type": "execute_result"
    }
   ],
   "source": [
    "mylist"
   ]
  },
  {
   "cell_type": "code",
   "execution_count": 180,
   "metadata": {},
   "outputs": [
    {
     "name": "stdout",
     "output_type": "stream",
     "text": [
      "55\n"
     ]
    }
   ],
   "source": [
    "total=0\n",
    "mylist = [1, 2, 3, 4, 5, 6, 7, 8, 9, 10]\n",
    "for index in mylist:\n",
    "    total=total+index\n",
    "print (total)"
   ]
  },
  {
   "cell_type": "code",
   "execution_count": 181,
   "metadata": {},
   "outputs": [
    {
     "name": "stdout",
     "output_type": "stream",
     "text": [
      "total = 550, min = 10, max = 100\n"
     ]
    }
   ],
   "source": [
    "\n",
    "mylist = [90, 10, 20, 40, 30, 100, 50, 60, 70, 80]\n",
    "total = 0\n",
    "\n",
    "min_number = mylist[0]\n",
    "max_number = mylist[0]\n",
    "\n",
    "for one_item in mylist:\n",
    "    total += one_item\n",
    "    if one_item < min_number:\n",
    "        min_number = one_item\n",
    "    if one_item > max_number:\n",
    "        max_number = one_item\n",
    "        \n",
    "print(f'total = {total}, min = {min_number}, max = {max_number}')"
   ]
  },
  {
   "cell_type": "code",
   "execution_count": 182,
   "metadata": {},
   "outputs": [
    {
     "name": "stdout",
     "output_type": "stream",
     "text": [
      "550\n"
     ]
    }
   ],
   "source": [
    "mylist = [10, 20, 30, 40, 50, 60, 70, 80, 90, 100]\n",
    "total=0\n",
    "for index in mylist:\n",
    "    total=total+index\n",
    "print (total)"
   ]
  },
  {
   "cell_type": "code",
   "execution_count": 183,
   "metadata": {},
   "outputs": [
    {
     "data": {
      "text/plain": [
       "[10, 20, 30, 40, 50, 60, 70, 80, 90, 100]"
      ]
     },
     "execution_count": 183,
     "metadata": {},
     "output_type": "execute_result"
    }
   ],
   "source": [
    "sorted(mylist)"
   ]
  },
  {
   "cell_type": "code",
   "execution_count": 184,
   "metadata": {},
   "outputs": [
    {
     "data": {
      "text/plain": [
       "[-3, 5, 10, 17, 20, 28, 35]"
      ]
     },
     "execution_count": 184,
     "metadata": {},
     "output_type": "execute_result"
    }
   ],
   "source": [
    "mylist = [10, 5, -3, 20, 17, 35, 28]\n",
    "sorted(mylist)  # returns a new list, based on mylist, whose elements are sorted"
   ]
  },
  {
   "cell_type": "code",
   "execution_count": 185,
   "metadata": {},
   "outputs": [
    {
     "data": {
      "text/plain": [
       "['a', 'bunch', 'is', 'of', 'this', 'words']"
      ]
     },
     "execution_count": 185,
     "metadata": {},
     "output_type": "execute_result"
    }
   ],
   "source": [
    "mylist = ['this', 'is', 'a', 'bunch', 'of', 'words']\n",
    "sorted(mylist)"
   ]
  },
  {
   "cell_type": "code",
   "execution_count": 186,
   "metadata": {},
   "outputs": [
    {
     "data": {
      "text/plain": [
       "[35, 28, 20, 17, 10, 5, -3]"
      ]
     },
     "execution_count": 186,
     "metadata": {},
     "output_type": "execute_result"
    }
   ],
   "source": [
    "mylist = [10, 5, -3, 20, 17, 35, 28]\n",
    "sorted(mylist, reverse=True) "
   ]
  },
  {
   "cell_type": "code",
   "execution_count": null,
   "metadata": {},
   "outputs": [],
   "source": [
    "# start off with an empty list, []\n",
    "\n",
    "# (1) Ask the user repeatedly to enter a number.\n",
    "# - while True loop -- an infinite loop!\n",
    "\n",
    "# (2) If they enter an empty string, then stop asking.\n",
    "# if the user's entry is an empty string (''), then break out of the while loop\n",
    "\n",
    "# (3) If they enter an invalid number, scold them and try again\n",
    "# - check: if not s.isdigit()... use continue to start a new iteration\n",
    "\n",
    "# (4) If they enter a number, add it to the end of a list.\n",
    "# - convert it to an integer from string with int()\n",
    "# - and then use .append() to add it to our list\n",
    "\n",
    "# (5) When the user is done entering numbers, sum the numbers in the list\n",
    "# - use a for loop to iterate over the numbers in our list\n",
    "# - total things up\n",
    "\n",
    "# (6) Also: Print the mean (average) of numbers in the list  (remember len!)\n",
    "\n",
    "Number: 10\n",
    "Number: 20\n",
    "Number: banana\n",
    "    banana is not a number\n",
    "Number: 30\n",
    "Number: <enter>\n",
    "Total is 60"
   ]
  },
  {
   "cell_type": "code",
   "execution_count": 192,
   "metadata": {},
   "outputs": [
    {
     "name": "stdout",
     "output_type": "stream",
     "text": [
      "Enter a number: 30\n",
      "Enter a number: 40\n",
      "Enter a number: 20\n",
      "Enter a number: 15\n",
      "Enter a number: \n",
      "Total is 105\n",
      "min = 15, max = 40\n",
      "Average in our list is 26.25\n"
     ]
    }
   ],
   "source": [
    "numbers = []   # empty list\n",
    "\n",
    "while True:\n",
    "    number = input(\"Enter a number: \")\n",
    "    \n",
    "    if number == '':\n",
    "        break\n",
    "        \n",
    "    elif number.isdigit():   # yes, we can turn number into an int\n",
    "        numbers.append(int(number))\n",
    "        \n",
    "    else:\n",
    "        print(f\"{number} is not a number -- try again!\")\n",
    "        \n",
    "total = 0\n",
    "min_number = numbers[0]\n",
    "max_number = numbers[0]\n",
    "for one_number in numbers:\n",
    "    total += one_number\n",
    "    \n",
    "    if one_number < min_number:\n",
    "        min_number = one_number\n",
    "        \n",
    "    if one_number > max_number:\n",
    "        max_number = one_number\n",
    "    \n",
    "print(f'Total is {total}')\n",
    "print(f'min = {min_number}, max = {max_number}')\n",
    "print(f'Average in our list is {total/len(numbers)}')"
   ]
  },
  {
   "cell_type": "code",
   "execution_count": 193,
   "metadata": {},
   "outputs": [
    {
     "data": {
      "text/plain": [
       "'100'"
      ]
     },
     "execution_count": 193,
     "metadata": {},
     "output_type": "execute_result"
    }
   ],
   "source": [
    "x = 100\n",
    "str(x)"
   ]
  },
  {
   "cell_type": "code",
   "execution_count": 194,
   "metadata": {},
   "outputs": [
    {
     "data": {
      "text/plain": [
       "123"
      ]
     },
     "execution_count": 194,
     "metadata": {},
     "output_type": "execute_result"
    }
   ],
   "source": [
    "int('123')"
   ]
  },
  {
   "cell_type": "code",
   "execution_count": 195,
   "metadata": {},
   "outputs": [
    {
     "data": {
      "text/plain": [
       "'[10, 20, 30]'"
      ]
     },
     "execution_count": 195,
     "metadata": {},
     "output_type": "execute_result"
    }
   ],
   "source": [
    "mylist = [10, 20, 30]\n",
    "str(mylist)"
   ]
  },
  {
   "cell_type": "code",
   "execution_count": 196,
   "metadata": {},
   "outputs": [
    {
     "data": {
      "text/plain": [
       "['a', 'b', 'c', 'd', 'e', 'f']"
      ]
     },
     "execution_count": 196,
     "metadata": {},
     "output_type": "execute_result"
    }
   ],
   "source": [
    "s = 'abcdef'\n",
    "list(s)"
   ]
  },
  {
   "cell_type": "code",
   "execution_count": 197,
   "metadata": {},
   "outputs": [
    {
     "data": {
      "text/plain": [
       "['R',\n",
       " 'e',\n",
       " 'u',\n",
       " 'v',\n",
       " 'e',\n",
       " 'n',\n",
       " ',',\n",
       " 'L',\n",
       " 'e',\n",
       " 'r',\n",
       " 'n',\n",
       " 'e',\n",
       " 'r',\n",
       " ',',\n",
       " '4',\n",
       " '6']"
      ]
     },
     "execution_count": 197,
     "metadata": {},
     "output_type": "execute_result"
    }
   ],
   "source": [
    "# CSV -- comma-separated values format\n",
    "s = 'Reuven,Lerner,46'\n",
    "list(s)"
   ]
  },
  {
   "cell_type": "code",
   "execution_count": 198,
   "metadata": {},
   "outputs": [],
   "source": [
    "# split -- to turn a string into a list\n",
    "# join -- to turn a list into a string"
   ]
  },
  {
   "cell_type": "code",
   "execution_count": 199,
   "metadata": {},
   "outputs": [
    {
     "data": {
      "text/plain": [
       "'Reuven,Lerner,46'"
      ]
     },
     "execution_count": 199,
     "metadata": {},
     "output_type": "execute_result"
    }
   ],
   "source": [
    "s"
   ]
  },
  {
   "cell_type": "code",
   "execution_count": 200,
   "metadata": {},
   "outputs": [
    {
     "data": {
      "text/plain": [
       "['Reuven', 'Lerner', '46']"
      ]
     },
     "execution_count": 200,
     "metadata": {},
     "output_type": "execute_result"
    }
   ],
   "source": [
    "s.split(',')  # return a list of strings, \"cut\" from s, with , as a divider between fields"
   ]
  },
  {
   "cell_type": "code",
   "execution_count": 201,
   "metadata": {},
   "outputs": [
    {
     "data": {
      "text/plain": [
       "['Reuven', 'Lerner', '46']"
      ]
     },
     "execution_count": 201,
     "metadata": {},
     "output_type": "execute_result"
    }
   ],
   "source": [
    "s = 'Reuven|Lerner|46'\n",
    "s.split('|')"
   ]
  },
  {
   "cell_type": "code",
   "execution_count": 202,
   "metadata": {},
   "outputs": [
    {
     "data": {
      "text/plain": [
       "['This', 'is', 'a', 'bunch', 'of', 'words']"
      ]
     },
     "execution_count": 202,
     "metadata": {},
     "output_type": "execute_result"
    }
   ],
   "source": [
    "s = 'This is a bunch of words'\n",
    "s.split(' ')  # receive a list of strings based on s"
   ]
  },
  {
   "cell_type": "code",
   "execution_count": 203,
   "metadata": {},
   "outputs": [
    {
     "data": {
      "text/plain": [
       "'This is a bunch of words'"
      ]
     },
     "execution_count": 203,
     "metadata": {},
     "output_type": "execute_result"
    }
   ],
   "source": [
    "s"
   ]
  },
  {
   "cell_type": "code",
   "execution_count": 204,
   "metadata": {},
   "outputs": [
    {
     "data": {
      "text/plain": [
       "['This', '', '', '', 'is', 'a', '', 'bunch', 'of', '', '', '', 'words']"
      ]
     },
     "execution_count": 204,
     "metadata": {},
     "output_type": "execute_result"
    }
   ],
   "source": [
    "s = 'This    is a  bunch of    words'\n",
    "s.split(' ')  # receive a list of strings based on s"
   ]
  },
  {
   "cell_type": "code",
   "execution_count": 205,
   "metadata": {},
   "outputs": [
    {
     "data": {
      "text/plain": [
       "['This', 'is', 'a', 'bunch', 'of', 'words']"
      ]
     },
     "execution_count": 205,
     "metadata": {},
     "output_type": "execute_result"
    }
   ],
   "source": [
    "s.split()  # no argument means: any combination, in any number, of any whitespace"
   ]
  },
  {
   "cell_type": "code",
   "execution_count": 206,
   "metadata": {},
   "outputs": [
    {
     "name": "stdout",
     "output_type": "stream",
     "text": [
      "Enter numbers: 10 20 abc 30\n"
     ]
    }
   ],
   "source": [
    "# (1) Ask the user to enter numbers, separated by spaces, in a string\n",
    "# - ask the user to enter a string\n",
    "\n",
    "# (2) Iterate over each item in the string\n",
    "# - meaning: grab the numbers from the string, and turn them into a list, and \n",
    "#  then iterate over them\n",
    "\n",
    "# So if the user's input is '10 20 30'\n",
    "# we want to iterate over the list ['10', '20', '30']\n",
    "\n",
    "# numbers = s.split()   # if s is the user's input, numbers is now a list of strings\n",
    "\n",
    "# (3) If it can be turned into a number, add it to our total\n",
    "# (4) If not, then just ignore it\n",
    "# (5) At the end, print the total\n",
    "\n",
    "# Numbers: 10 20 abc 30\n",
    "# Total is 60\n",
    "\n",
    "s = input(\"Enter numbers: \")\n"
   ]
  },
  {
   "cell_type": "code",
   "execution_count": 207,
   "metadata": {},
   "outputs": [
    {
     "data": {
      "text/plain": [
       "'10 20 abc 30'"
      ]
     },
     "execution_count": 207,
     "metadata": {},
     "output_type": "execute_result"
    }
   ],
   "source": [
    "s"
   ]
  },
  {
   "cell_type": "code",
   "execution_count": 209,
   "metadata": {},
   "outputs": [
    {
     "name": "stdout",
     "output_type": "stream",
     "text": [
      "10\n",
      "20\n",
      "abc\n",
      "30\n"
     ]
    }
   ],
   "source": [
    "numbers = s.split()  # returns a list of strings from s, using ' ' as as divider\n",
    "for one_item in numbers:\n",
    "    print(one_item)"
   ]
  },
  {
   "cell_type": "code",
   "execution_count": 210,
   "metadata": {},
   "outputs": [
    {
     "name": "stdout",
     "output_type": "stream",
     "text": [
      "Enter numbers: 10 20 abc def 3q 40\n",
      "Total = 70\n"
     ]
    }
   ],
   "source": [
    "s = input(\"Enter numbers: \")\n",
    "\n",
    "numbers = s.split()  # returns a list of strings from s, using ' ' as as divider\n",
    "total = 0\n",
    "for one_item in numbers:\n",
    "    if one_item.isdigit():\n",
    "        total += int(one_item)\n",
    "print(f'Total = {total}')"
   ]
  },
  {
   "cell_type": "code",
   "execution_count": 211,
   "metadata": {},
   "outputs": [
    {
     "data": {
      "text/plain": [
       "'hello**out**there'"
      ]
     },
     "execution_count": 211,
     "metadata": {},
     "output_type": "execute_result"
    }
   ],
   "source": [
    "# split -- returns a list based on a string\n",
    "# join - returns a string based on a list\n",
    "\n",
    "mylist = ['hello', 'out', 'there']\n",
    "'**'.join(mylist)"
   ]
  },
  {
   "cell_type": "code",
   "execution_count": 212,
   "metadata": {},
   "outputs": [
    {
     "data": {
      "text/plain": [
       "'hello out there'"
      ]
     },
     "execution_count": 212,
     "metadata": {},
     "output_type": "execute_result"
    }
   ],
   "source": [
    "' '.join(mylist)"
   ]
  },
  {
   "cell_type": "code",
   "execution_count": 213,
   "metadata": {},
   "outputs": [
    {
     "name": "stdout",
     "output_type": "stream",
     "text": [
      "Enter a sentence: this is a test of my program\n",
      "this_is_a_test_of_my_program\n"
     ]
    }
   ],
   "source": [
    "s = input(\"Enter a sentence: \")\n",
    "words = s.split()\n",
    "print('_'.join(words))"
   ]
  },
  {
   "cell_type": "code",
   "execution_count": 214,
   "metadata": {},
   "outputs": [],
   "source": [
    "# tuples -- \n",
    "\n",
    "# strings -- contain characters, immutable\n",
    "# lists   -- contain anything,   mutable (can be changed)\n",
    "# tuples  -- contain anything,   immutable"
   ]
  },
  {
   "cell_type": "code",
   "execution_count": 215,
   "metadata": {},
   "outputs": [
    {
     "data": {
      "text/plain": [
       "tuple"
      ]
     },
     "execution_count": 215,
     "metadata": {},
     "output_type": "execute_result"
    }
   ],
   "source": [
    "t = (10, 20, 30, 40, 50)\n",
    "type(t)"
   ]
  },
  {
   "cell_type": "code",
   "execution_count": 216,
   "metadata": {},
   "outputs": [
    {
     "data": {
      "text/plain": [
       "10"
      ]
     },
     "execution_count": 216,
     "metadata": {},
     "output_type": "execute_result"
    }
   ],
   "source": [
    "t[0]"
   ]
  },
  {
   "cell_type": "code",
   "execution_count": 217,
   "metadata": {},
   "outputs": [
    {
     "data": {
      "text/plain": [
       "20"
      ]
     },
     "execution_count": 217,
     "metadata": {},
     "output_type": "execute_result"
    }
   ],
   "source": [
    "t[1]"
   ]
  },
  {
   "cell_type": "code",
   "execution_count": 218,
   "metadata": {},
   "outputs": [
    {
     "data": {
      "text/plain": [
       "50"
      ]
     },
     "execution_count": 218,
     "metadata": {},
     "output_type": "execute_result"
    }
   ],
   "source": [
    "t[-1]"
   ]
  },
  {
   "cell_type": "code",
   "execution_count": 219,
   "metadata": {},
   "outputs": [
    {
     "data": {
      "text/plain": [
       "True"
      ]
     },
     "execution_count": 219,
     "metadata": {},
     "output_type": "execute_result"
    }
   ],
   "source": [
    "30 in t"
   ]
  },
  {
   "cell_type": "code",
   "execution_count": 220,
   "metadata": {},
   "outputs": [
    {
     "name": "stdout",
     "output_type": "stream",
     "text": [
      "10\n",
      "20\n",
      "30\n",
      "40\n",
      "50\n"
     ]
    }
   ],
   "source": [
    "for one_item in t:\n",
    "    print(one_item)"
   ]
  },
  {
   "cell_type": "code",
   "execution_count": 221,
   "metadata": {},
   "outputs": [
    {
     "data": {
      "text/plain": [
       "(10, 20, 30, 40, 50)"
      ]
     },
     "execution_count": 221,
     "metadata": {},
     "output_type": "execute_result"
    }
   ],
   "source": [
    "t"
   ]
  },
  {
   "cell_type": "code",
   "execution_count": 222,
   "metadata": {},
   "outputs": [
    {
     "data": {
      "text/plain": [
       "(30, 40, 50)"
      ]
     },
     "execution_count": 222,
     "metadata": {},
     "output_type": "execute_result"
    }
   ],
   "source": [
    "t[2:]"
   ]
  },
  {
   "cell_type": "code",
   "execution_count": 223,
   "metadata": {},
   "outputs": [
    {
     "ename": "TypeError",
     "evalue": "'tuple' object does not support item assignment",
     "output_type": "error",
     "traceback": [
      "\u001b[0;31m---------------------------------------------------------------------------\u001b[0m",
      "\u001b[0;31mTypeError\u001b[0m                                 Traceback (most recent call last)",
      "\u001b[0;32m<ipython-input-223-4602013894c6>\u001b[0m in \u001b[0;36m<module>\u001b[0;34m\u001b[0m\n\u001b[0;32m----> 1\u001b[0;31m \u001b[0mt\u001b[0m\u001b[0;34m[\u001b[0m\u001b[0;36m0\u001b[0m\u001b[0;34m]\u001b[0m \u001b[0;34m=\u001b[0m \u001b[0;34m'!'\u001b[0m\u001b[0;34m\u001b[0m\u001b[0;34m\u001b[0m\u001b[0m\n\u001b[0m",
      "\u001b[0;31mTypeError\u001b[0m: 'tuple' object does not support item assignment"
     ]
    }
   ],
   "source": [
    "t[0] = '!'"
   ]
  },
  {
   "cell_type": "code",
   "execution_count": null,
   "metadata": {},
   "outputs": [],
   "source": [
    "# int, float\n",
    "# str\n",
    "# lists, tuples\n",
    "# dictionary"
   ]
  },
  {
   "cell_type": "code",
   "execution_count": 224,
   "metadata": {},
   "outputs": [
    {
     "data": {
      "text/plain": [
       "['this', 'is', 'a', 'bunch', 'of', 'words', 'separated', 'by', 'spaces']"
      ]
     },
     "execution_count": 224,
     "metadata": {},
     "output_type": "execute_result"
    }
   ],
   "source": [
    "s = 'this is a bunch of words separated by spaces'.split()\n",
    "s"
   ]
  },
  {
   "cell_type": "code",
   "execution_count": 226,
   "metadata": {},
   "outputs": [
    {
     "name": "stdout",
     "output_type": "stream",
     "text": [
      "this\tis\ta\tbunch\tof\twords\tseparated\tby\tspaces\n"
     ]
    }
   ],
   "source": [
    "print('\\t'.join(s))"
   ]
  },
  {
   "cell_type": "code",
   "execution_count": 227,
   "metadata": {},
   "outputs": [
    {
     "name": "stdout",
     "output_type": "stream",
     "text": [
      "this\n",
      "is\n",
      "a\n",
      "bunch\n",
      "of\n",
      "words\n",
      "separated\n",
      "by\n",
      "spaces\n"
     ]
    }
   ],
   "source": [
    "print('\\n'.join(s))"
   ]
  },
  {
   "cell_type": "code",
   "execution_count": 229,
   "metadata": {},
   "outputs": [
    {
     "name": "stdout",
     "output_type": "stream",
     "text": [
      "\"this\"\n",
      "\"is\"\n",
      "\"a\"\n",
      "\"bunch\"\n",
      "\"of\"\n",
      "\"words\"\n",
      "\"separated\"\n",
      "\"by\"\n",
      "\"spaces\"\n"
     ]
    }
   ],
   "source": [
    "print('\"'  +  '\"\\n\"'.join(s) + '\"')"
   ]
  },
  {
   "cell_type": "code",
   "execution_count": 232,
   "metadata": {},
   "outputs": [
    {
     "name": "stdout",
     "output_type": "stream",
     "text": [
      "enter lettersffstgdthhdyhyfd\n",
      "ffstgdthhdyhyfd\n"
     ]
    }
   ],
   "source": [
    "s = input('enter words')\n",
    "words = s.split()\n",
    "print('_'.join(letters))"
   ]
  },
  {
   "cell_type": "code",
   "execution_count": null,
   "metadata": {},
   "outputs": [],
   "source": []
  }
 ],
 "metadata": {
  "kernelspec": {
   "display_name": "Python 3",
   "language": "python",
   "name": "python3"
  },
  "language_info": {
   "codemirror_mode": {
    "name": "ipython",
    "version": 3
   },
   "file_extension": ".py",
   "mimetype": "text/x-python",
   "name": "python",
   "nbconvert_exporter": "python",
   "pygments_lexer": "ipython3",
   "version": "3.7.5"
  }
 },
 "nbformat": 4,
 "nbformat_minor": 4
}
